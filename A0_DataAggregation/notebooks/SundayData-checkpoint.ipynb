{
 "cells": [
  {
   "cell_type": "markdown",
   "id": "5f786997-9785-4e36-b038-2ff83fd107ff",
   "metadata": {},
   "source": [
    "## **Sunday Data**\n",
    "\n",
    "Tad Malone, Param Moradia, Sophia Boettcher\n",
    "\n",
    "*Santa Clara, CA; Monte Sereno, CA; Tokyo, Japan*"
   ]
  },
  {
   "cell_type": "markdown",
   "id": "52ca9c18-5343-4439-a1f9-44cd42d59dfb",
   "metadata": {},
   "source": [
    "#### The Oracle of Omaha strikes again. \n",
    "\n",
    "Despite tech overlords cozying up to President Trump at the start of his second term—signaling their intention for a robust, collaborative economy—Warren Buffett remained bearish on the administration’s effect on the stock market. And he was right. Last week, the wealthiest people in the world saw their net worths drop considerably, while Buffett’s rose. \n",
    "\n",
    "<div style=\"text-align: center;\">\n",
    "    <img src=\"../images/outputs/percentage_change_net_worth_since_last_week.png\" alt=\"Descriptive text\" title=\"% difference in net worth change since March 9th\" width=\"800\">\n",
    "    <div style=\"font-size: 12px; font-style: italic; color: gray; margin-top: 5px; transform: rotate(-5deg);\">\n",
    "        Figure 1: A line chart visualizing the % change in the wealthiest billionaires compared to Warren Buffet\n",
    "    </div>\n",
    "</div>\n",
    "<br>\n",
    "\n",
    "He’s always said bad news is an investor’s best friend, but at what point does bad news become catastrophic?"
   ]
  },
  {
   "cell_type": "markdown",
   "id": "67ddc4df-7709-406a-9174-3b6fed5ba92f",
   "metadata": {},
   "source": [
    "#### An Economy in Turmoil\n",
    "\n",
    "While Jerome Powell at the Federal Reserve offers himself up as a messenger to shoot, across town, the executive branch is sending increasingly erratic and tariffed messages. The administration’s economic policies are like a loud, crowded kitchen cooking up new ways to bewilder the country’s—and by proxy, the world’s—money. Trump is full of bluster, but it can’t all be hot air.\n",
    "\n",
    "Critics believe he is either purposefully tanking the economy to enrich his allies or flying blind—high on impulsivity and power. Supporters, on the other hand, see a calculated strategy: crash the economy by nearly a quarter of its value, forcing an exodus into treasuries. This, they argue, would push the Federal Reserve to slash interest rates, allowing the country’s debt to be refinanced. The result? A deflationary spiral that lowers the cost of everything while increasing the stability of treasury bonds. By this logic, Trump’s tariffs and their effect on market volatility are not a bug—they’re a feature.  \n",
    "<p style=\"font-size: 12px; color: gray;\"><i>One of our bros reacted to the VIX chart asking if we could share the stock market volume compared to the bond market volume—noting an additional measure of expected bond volume from the swaptions market (swaption is an opion to swap a floating rate with a fixed rate). (Next week!) Likewise, we hope you share your reactions-feelings, questions, anything that's percolating in your imagination while reading?</i></p>\n",
    "\n",
    "<div style=\"text-align: center;\">\n",
    "    <img src=\"../images/outputs/us_fed_funds_rate_2000_2024.png\" alt=\"Descriptive text\" title=\"Because what the hell are swaptions? An option to swap a floating rate with a fixed rate.\" width=\"800\">\n",
    "    <div style=\"font-size: 12px; font-style: italic; color: gray; margin-top: 5px; transform: rotate(-5deg);\">\n",
    "        Figure 2: A line chart visualizing annually averaged US Federal Fund interests rates per year.\n",
    "    </div>\n",
    "</div>\n",
    "<br>\n",
    "\n",
    "But if this is the plan, it’s a dangerous one.\n",
    "\n"
   ]
  },
  {
   "cell_type": "markdown",
   "id": "4ebed5f9-960d-4f43-ae0d-b8f5be1fbb0c",
   "metadata": {
    "jp-MarkdownHeadingCollapsed": true
   },
   "source": [
    "#### Debt Crisis on the Horizon?\n",
    "\n",
    "Ray Dalio (CEO and Co-Founder of *Bridgewater Associates*—the largest hedge fund in the world) warns that America is on the brink of a debt crisis. With the debt-to-GDP ratio climbing past 122% (fig. 3), he suggests foreign buyers will get cold feet. Other economic indicators—like GDP—have been rising steadily, but Dalio sees a hidden crisis lurking in America’s ballooning national debt.\n",
    "\n",
    "<div style=\"text-align: center;\">\n",
    "    <img src=\"../images/outputs/us_debt_to_gdp_2000_2024.png\" alt=\"Descriptive text\" title=\"Visualizing the US debt to GDP ratio over the past 25 years\" width=\"800\">\n",
    "    <div style=\"font-size: 12px; font-style: italic; color: gray; margin-top: 5px; transform: rotate(-5deg);\">\n",
    "        Figure 3: A line chart showing the US debt to GDP ratio from 2000 to 2024.\n",
    "    </div>\n",
    "</div>\n",
    "<br>\n",
    "\n",
    "Everyone has an angle—from the president to the mom-and-pop investor. There are puts and calls, pumps and dumps; massive buys and even bigger shorts. Cryptocurrency, meanwhile, has added a new layer of abstraction. Traditional speculation is still tied to the performance of a living, breathing company. Crypto, however, is based on little more than processing power (traditionally). The rise of retail traders in crypto and equities alike has flooded the market with new money, increasing both participation and volatility."
   ]
  },
  {
   "cell_type": "markdown",
   "id": "00b0e6ec-c2e3-421e-9fa9-d4143b33c9fa",
   "metadata": {
    "jp-MarkdownHeadingCollapsed": true
   },
   "source": [
    "#### 2020 Changed Everything\n",
    "\n",
    "The pandemic didn’t just upend daily life—it reshaped the market. \n",
    "\n",
    "\n",
    "<div style=\"display: flex; justify-content: center;\">\n",
    "    <img src=\"../images/outputs/macroeconomic_indicators.png\" alt=\"Descriptive text\" title=\"Visualizing how unpredictable or stable the Nasdaq market has been over the past 25 years\" width=\"55%\">\n",
    "    <img src=\"Working%20Folder/wsb_reddit.png\" alt=\"Descriptive text\" title=\"Visualizing how unpredictable or stable the Nasdaq market has been over the past 25 years\" width=\"40%\">\n",
    "</div>\n",
    "<p style=\"text-align: center; font-size: 14px; font-style: italic;\">\n",
    "    Figure 4: The line chart shows market sentiment and macronomic indicators since 2000, focusing on unemployment %, bond yield % and interest %.\n",
    "</p>\n",
    "<br>\n",
    "\n",
    "Stuck at home with money to burn, a wave of retail investors entered the fray. Within a year, they made up 25% of total equities trading volume, doubling their share from a decade prior. \n",
    "\n",
    "<div style=\"text-align: center;\">\n",
    "    <img src=\"../images/outputs/retail_trading_volume.png\" alt=\"Descriptive text\" title=\"Visualizing how unpredictable or stable the Nasdaq market has been over the past 25 years\" width=\"800\">\n",
    "    <div style=\"font-size: 12px; font-style: italic; color: gray; margin-top: 5px; transform: rotate(-5deg);\">\n",
    "        Figure 5: This is a line chart showing the % volume of equities trading made up by retail investors.\n",
    "    </div>\n",
    "</div>\n",
    "<br>\n",
    "\n",
    "This shift is reflected in the rolling volatility of stock indices. Compared to seasoned investors, retail traders approach the market with a mix of trepidation and impulsivity. Until 2020, volatility remained relatively stable. Then came the spikes. The Nasdaq Composite (IXIC) began swinging beyond anyone’s imagination. There are more people in the casino, making more bets. And that makes the future harder to predict.\n",
    "\n",
    "<div style=\"text-align: center;\">\n",
    "    <img src=\"../images/references/VolatilityChart.png\" alt=\"Descriptive text\" title=\"Visualizing how unpredictable or stable the Nasdaq market has been over the past 25 years\" width=\"800\">\n",
    "    <div style=\"font-size: 12px; font-style: italic; color: gray; margin-top: 5px; transform: rotate(-5deg);\">\n",
    "        Figure 6: This is an IXIC volaility line chart showing volatility spikes—or fear sentiment—around the 3000 companies that make up the Nasdaq composite index.\n",
    "    </div>\n",
    "</div>\n",
    "<br>\n",
    "\n",
    "If these graphs were an electrocardiogram (EKG), the patient would surely be dead. Yet the stock market keeps ticking, its heart beating harder and faster. This translates to increased volatility, more frequent shocks, and heightened uncertainty.\n",
    "\n",
    "What’s driving this? The omnipresence of finance in the digital age. Not only is the internet crammed full of market news—it actively seeks you out. Finance now competes for attention like entertainment, igniting FOMO in even the most casual investor. A single day feels like a week. A week, like a year.\n",
    "\n",
    "<div style=\"text-align: center;\">\n",
    "    <img src=\"../images/outputs/market_sentiment.png\" alt=\"Descriptive text\" title=\"Visualizing how unpredictable or stable the Nasdaq market has been over the past 25 years\" width=\"800\">\n",
    "    <div style=\"font-size: 12px; font-style: italic; color: gray; margin-top: 5px; transform: rotate(-5deg);\">\n",
    "        Figure 7: This is an IXIC volaility line chart showing volatility spikes—or fear sentiment—around the 3000 companies that make up the Nasdaq composite index.\n",
    "    </div>\n",
    "</div>\n",
    "<br>"
   ]
  },
  {
   "cell_type": "markdown",
   "id": "271f1dd6-aedd-491c-8b6e-ef50e47d18de",
   "metadata": {},
   "source": [
    "#### Can Volatility Be Predicted?\n",
    "\n",
    "With the timeline speeding up, how can we anticipate market shocks?\n",
    "\n",
    "Financial crises don’t emerge from a single source. Instead, they ripple in from multiple directions. To build a robust market predictor—one that detects financial shocks before they catch investors off guard—we need to align fragmented, incomplete information into something meaningful.\n",
    "\n",
    "Our foundation consists of three key data sources:\n",
    "1. Market Data – Stock prices, indices, and trading volumes to track immediate reactions.\n",
    "2. Economic Indicators – Interest rates, inflation, and GDP trends to establish macroeconomic context.\n",
    "3. Sentiment Signals – Retail investor search behavior as a potential early indicator of volatility. **JUST SHOW A PRINTSCREEN PIC CROPPED OF THE DATA PREPROC PROCESS/maybe EDA**\n",
    "\n",
    "The challenge is synchronizing these asynchronous signals to extract predictive value. Defining the right endpoints—whether identifying major shocks, downturns, or surges—is crucial. Each data source offers a different lens on market behavior, but their real power lies in synthesis.\n",
    "\n",
    "---\n",
    "\n",
    "Data Aggregation techniques\n",
    "\n",
    "<div style=\"text-align: center;\">\n",
    "    <img src=\"../images/outputs/CondensedCorrelationMatrix.png\" alt=\"Descriptive text\" title=\"Visualizing correlation effects of economic predictors.\" width=\"800\">\n",
    "    <div style=\"font-size: 12px; font-style: italic; color: gray; margin-top: 5px; transform: rotate(-5deg);\">\n",
    "        Figure 7: This is a correlation matrix showing the influence different economic indicators have on each other.\n",
    "    </div>\n",
    "</div>\n",
    "<br>\n",
    "(INSERT details on data aggregation techniques, FRED, Google Trends, etc.)\n",
    "\n",
    "This is just the beginning. The dataset we create here will serve as the backbone for everything that follows. If done correctly, we might be one step closer to predicting the next market shock before it happens. Stay tuned for the next Sunday's SundayData.\n",
    "\n",
    "⸻"
   ]
  },
  {
   "cell_type": "code",
   "execution_count": null,
   "id": "3f0fb227-c311-4ba9-bad2-39a6c85c6fb8",
   "metadata": {},
   "outputs": [],
   "source": []
  }
 ],
 "metadata": {
  "kernelspec": {
   "display_name": "Python 3 (ipykernel)",
   "language": "python",
   "name": "python3"
  },
  "language_info": {
   "codemirror_mode": {
    "name": "ipython",
    "version": 3
   },
   "file_extension": ".py",
   "mimetype": "text/x-python",
   "name": "python",
   "nbconvert_exporter": "python",
   "pygments_lexer": "ipython3",
   "version": "3.11.5"
  }
 },
 "nbformat": 4,
 "nbformat_minor": 5
}
