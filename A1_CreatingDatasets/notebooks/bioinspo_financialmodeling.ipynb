{
 "cells": [
  {
   "cell_type": "markdown",
   "id": "e38c0ae7-6ddb-4bc0-9a97-49fbdf229832",
   "metadata": {},
   "source": [
    "### **Biologically Inspired Financial Modeling:** *Repurposing GenAI and Data Driven Medicine to Predict Market Shock*"
   ]
  },
  {
   "cell_type": "markdown",
   "id": "7a951a06-70b0-4e1a-aba3-f8ae2a27b561",
   "metadata": {},
   "source": [
    "## 1. Intro: What and Why Biofin?\n",
    "\n",
    "The goal this week is to apply different perspectives on the financial data we've accumulated/EDA (exploratory data analysis) we've accomplished so far. We'll be using some of the more famous GenAI techniques (diffusion, CNNs- convolutional neural nets), AI for Healthcare trad techniques (elastic net with and without gradient boosting, genetic elastic net, sgd regressor), and hybrids that have emerged from interdisciplinary appropriation of one field on another (infection/epidemic modeling, NEAT- neuroevolutionary augmented topological models). \n",
    "\n",
    "***Some context/homily-type words on the matter:*** Around ten years ago, I began building an data ingestion engine and ML predictor tool to help me fight my own scleroderma. I'm out in Monterey this week visiting old friends from our Madera Rosewood Sand Hill days-- they're at Post Ranch now, and things are getting crazy with the impending re-opening and high season. As one might forage for miner's lettuce and candy caps to assemble a sustainable alternative to using Green Leaf and Sysco in the food pipeline, I began gathering the messy, sparse healthcare-related datasets that existed at the time. The intention was to try to tip the outcome scales in my favor.\n",
    "\n",
    "The premise is, what if we consider economy as one big human organism-- made up of all us individual humans and our ideas, constructs, creations we collectively hold? Just like we predict critical medical conditions-— like septic shock-— using complex, messy datasets (think: MIMIC-III), maybe we could also predict financial market shocks, turning uncertainty into clarity. All this data means nothing if it doesn't help people, tell their stories."
   ]
  },
  {
   "cell_type": "markdown",
   "id": "6d817be0-d56b-43d7-b6b9-fbffccca3e5b",
   "metadata": {},
   "source": [
    "## 2. Collection and Preprocessing\n",
    "Financial modeling heavily depends on quality data. Initially, we gathered and cleaned comprehensive financial datasets, addressing missing values and inconsistencies. Columns exhibiting over 30% missing data were excluded to maintain dataset integrity. Remaining gaps in numerical data were filled using median values, preserving statistical stability and ensuring reliable model outcomes.\n",
    "\n",
    "- **Data Sources:** We're specifically looking at our accumulated financial dataset (market data, search/sentiment trends)\n",
    "- **Data Cleaning:**\n",
    "    - Handling missing values\n",
    "    - Data normalization (median imputation, Z-score scaling)\n",
    " \n",
    "#### Overview of This Week's \"Spellbook\"\n",
    "\n",
    "Let's lean heavily into the feeling that we're data diviners this week. This spellbook (notebook) is divided into the following parts:\n",
    "- Data cleanup (the janitorial work)\n",
    "- A \"random walk\" exploration of different applied ML methods (which downstream will form the basis to a few big ensemble \"learners\")\n",
    "    - GenAI methods: diffusion, CNN\n",
    "    - Repurposed AI for healthcare: elastic net, elastic net with gradient boosting, genetic elastic net, sgd regressor\n",
    "    - Hybrid: NEAT, SIRS"
   ]
  },
  {
   "cell_type": "markdown",
   "id": "b94f4e5a-221a-40ca-bdb4-3ef697214600",
   "metadata": {},
   "source": [
    "## 3. Advanced Feature Engineering\n",
    "To enhance predictive accuracy, we crafted features based on rolling indicators, such as rolling Z-scores for inflation rates, interest rates, and volatility metrics. Defining what constitutes 'market stress' involved setting thresholds on volatility indicators, clearly delineating stressed periods for predictive modeling. These engineered features became fundamental inputs for our models.\n",
    "\n",
    "- **Rolling Indicators:** Z-scores for inflation rates, interest rates, and volatility metrics. Defining what constitutes 'market stress' involved setting thresholds on volatility indicators, clearly delineating stressed periods for predictive modeling. These engineered features became fundamental inputs for our models.n, interest rates, volatility\n",
    "- **Labeling Market Stress:** Defining market stress conditions from volatility metrics"
   ]
  },
  {
   "cell_type": "markdown",
   "id": "c6460525-180f-428e-962f-7a123aef7584",
   "metadata": {},
   "source": [
    "## 4. Dimensionality Reduction Using PCA\n",
    "Given the complexity of financial datasets, dimensionality reduction was essential to improve model interpretability and performance. We applied Principal Component Analysis (PCA), condensing numerous interrelated financial indicators into fewer composite variables. This not only simplified our dataset but also retained critical information needed to make accurate predictions."
   ]
  },
  {
   "cell_type": "raw",
   "id": "c8fd52fc-1194-4b25-8a78-1f59f6a791ee",
   "metadata": {},
   "source": [
    "START\n",
    "  │\n",
    "  ▼\n",
    "📌 **Step 1**: Compute Feature Correlation Heatmap  \n",
    "  🔹 Identify relationships between features  \n",
    "  🔹 Detect redundancies or strong correlations  \n",
    "  │\n",
    "  ▼\n",
    "📌 **Step 2**: Standardize Features  \n",
    "  🔹 Normalize all variables to ensure equal influence  \n",
    "  🔹 Prevents bias in PCA due to different scales  \n",
    "  │\n",
    "  ▼\n",
    "📌 **Step 3**: Apply PCA for Dimensionality Reduction  \n",
    "  🔹 Extracts **principal components (PCs)** that explain variance  \n",
    "  🔹 Reduces dataset complexity while preserving key patterns  \n",
    "  │\n",
    "  ▼\n",
    "📌 **Step 4**: Select Top Principal Components  \n",
    "  🔹 Choose **PC1, PC2, and PC3** (or based on explained variance)  \n",
    "  🔹 These components replace the original correlated features  \n",
    "  │\n",
    "  ▼\n",
    "📌 **Step 5**: Generate PCA Pairplots  \n",
    "  🔹 Visualize relationships between PCs  \n",
    "  🔹 Detect clusters, anomalies, or meaningful separations  \n",
    "  │\n",
    "  ▼\n",
    "✅ **END: Data Ready for Further Analysis!**"
   ]
  },
  {
   "cell_type": "code",
   "execution_count": null,
   "id": "b2344dfe-225c-4f21-ad08-7a9a3887ae28",
   "metadata": {},
   "outputs": [],
   "source": [
    "t fvbtnk,u nyony bhp[;'/bhtyggtfrdecgthybghntfvop"
   ]
  },
  {
   "cell_type": "markdown",
   "id": "febd6c6e-fb4c-4871-a58e-b68346b4f5db",
   "metadata": {},
   "source": [
    "## 5. Predictive Modeling Inspired by Biological Systems\n",
    "Our predictive approach draws from various biologically inspired modeling techniques:\n",
    "\n",
    "### i. Elastic Net Regression\n",
    "Inspired by biological processes of regularization (natural checks and balances), Elastic Net was chosen for its capacity to handle correlated predictors, achieving high prediction accuracy through cross-validation.\n",
    "\n",
    "### ii. Gradient Boosting Classifier\n",
    "Gradient Boosting mimics evolutionary adaptation, iteratively refining predictions by reducing errors. While highly accurate, careful consideration was given to avoid overfitting, emphasizing the importance of rigorous data splitting.\n",
    "\n",
    "### iii. Convolutional Neural Networks (CNN)\n",
    "Convolutional Neural Networks, inspired by visual cortex processing, effectively captured complex temporal patterns within financial time-series data. The CNN model delivered significant predictive performance but required vigilance against overfitting.\n",
    "\n",
    "### iv. Diffusion Models\n",
    "Borrowing concepts from biological diffusion processes, these models interpret noise and signals to distinguish meaningful market stress indicators from background fluctuations. Their performance emphasized the value of managing uncertainty in financial data."
   ]
  },
  {
   "cell_type": "markdown",
   "id": "0a0972c3-a4b4-4679-be72-f7693948f892",
   "metadata": {},
   "source": [
    "## 6. Evolutionary Algorithms and Neural Architecture Search\n",
    "Further inspired by evolutionary processes in nature, genetic algorithms (GA) and Neuro-Evolutionary Approaches (NEAT) allowed us to evolve optimal predictive models. These methods simulate natural selection and evolution, dynamically adjusting both feature weights and neural network architectures to maximize predictive accuracy efficiently.\n",
    "\n",
    "## 7. Addressing Limitations and Ensuring Robustness\n",
    "Despite excellent predictive results, our analysis recognized the potential issues of data leakage and insufficient data splitting. Addressing these, we recommend adopting more rigorous cross-validation procedures and clearly defined train-test-validation splits, ensuring our biologically inspired models remain both robust and generalizable.\n",
    "\n",
    "## 8. Conclusions and Future Research\n",
    "The integration of biological analogies has demonstrated significant potential in predicting financial market stress. Future research directions include refining data handling methodologies, exploring further biologically inspired models like genetic programming, and applying these models to broader financial scenarios."
   ]
  },
  {
   "cell_type": "markdown",
   "id": "77778c2d-f5c1-41eb-8bd0-2c5547dea592",
   "metadata": {},
   "source": []
  },
  {
   "cell_type": "markdown",
   "id": "bacb7b63-1461-4bed-bff6-0e0d31d23679",
   "metadata": {},
   "source": []
  },
  {
   "cell_type": "markdown",
   "id": "29298ba4-7fc0-462f-94db-b2da4845d20d",
   "metadata": {},
   "source": []
  },
  {
   "cell_type": "code",
   "execution_count": null,
   "id": "3d28e443-7474-494d-933f-e387354a1963",
   "metadata": {},
   "outputs": [],
   "source": []
  }
 ],
 "metadata": {
  "kernelspec": {
   "display_name": "Python 3 (ipykernel)",
   "language": "python",
   "name": "python3"
  },
  "language_info": {
   "codemirror_mode": {
    "name": "ipython",
    "version": 3
   },
   "file_extension": ".py",
   "mimetype": "text/x-python",
   "name": "python",
   "nbconvert_exporter": "python",
   "pygments_lexer": "ipython3",
   "version": "3.11.5"
  }
 },
 "nbformat": 4,
 "nbformat_minor": 5
}
