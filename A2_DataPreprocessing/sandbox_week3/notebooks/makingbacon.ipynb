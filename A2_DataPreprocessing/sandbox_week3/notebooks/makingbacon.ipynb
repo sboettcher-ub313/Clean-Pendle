{
 "cells": [
  {
   "cell_type": "markdown",
   "id": "b01aea0c-aa30-4c90-ac48-48142ad728f2",
   "metadata": {},
   "source": [
    "*We called this `makingbacon` because this whole section/folder is dedicated to making food for our dumb lil models. They're still eating slushy baby food right now.. but you get the cooking metaphor and reference: https://www.youtube.com/watch?v=rBGBKH6wxk4.*\n",
    "\n",
    "### 📌 **Preface: Prepping the Dataset for Action**  \n",
    "\n",
    "Last week, we cleaned up the dataset—fixing gaps, smoothing rough edges, and structuring features to capture key financial patterns. Now, we **refine it further** so it’s ready for modeling.  \n",
    "\n",
    "#### **🔹 Inputs:**  \n",
    "- **`financial_data_cleaned2.csv`** – Our cleaned dataset from last week, prepped but still raw.  \n",
    "\n",
    "#### **🔹 What We’re Doing:**  \n",
    "- **Scaling** – Standardizing features so no single variable dominates.  \n",
    "- **PCA** – Reducing complexity while keeping the strongest signals.  \n",
    "- **Saving** – Creating structured outputs for modeling.  \n",
    "\n",
    "#### **🔹 Outputs:**  \n",
    "- **`financial_data_full.csv`** – Fully cleaned and structured dataset.  \n",
    "- **`financial_data_scaled.csv`** – Normalized version, ready for models that require standardization.  \n",
    "- **`financial_data_pca.csv`** – Optimized, dimension-reduced dataset for efficiency.  \n",
    "\n",
    "This step ensures the data is **balanced, efficient, and structured**, so we can **jump straight into modeling** without reprocessing. 🚀"
   ]
  },
  {
   "cell_type": "markdown",
   "id": "ca1d8644-d525-4842-97f0-1c4a8db7c1da",
   "metadata": {},
   "source": [
    "#### Required Imports:"
   ]
  },
  {
   "cell_type": "code",
   "execution_count": 36,
   "id": "71aacbb5-ab21-4740-b7ac-afbe3de9099e",
   "metadata": {},
   "outputs": [],
   "source": [
    "#### 1.\tGeneral Utilities:\n",
    "import numpy as np\n",
    "import pandas as pd\n",
    "\n",
    "#### 2.\tMachine Learning and Data Processing:\n",
    "from sklearn.model_selection import train_test_split, cross_val_score\n",
    "from sklearn.linear_model import ElasticNetCV, LogisticRegression\n",
    "from sklearn.ensemble import GradientBoostingClassifier\n",
    "from sklearn.neural_network import MLPClassifier  # CNN Stand-in\n",
    "from sklearn.decomposition import PCA\n",
    "from sklearn.preprocessing import StandardScaler\n",
    "\n",
    "#### 3.\tFeature Engineering & Metrics:\n",
    "from sklearn.feature_selection import SelectKBest, f_classif\n",
    "from sklearn.metrics import mean_squared_error, r2_score, roc_auc_score\n",
    "\n",
    "#### 4.\tRandomization and Time (if necessary for logging or seeding):\n",
    "import time\n",
    "import random"
   ]
  },
  {
   "cell_type": "markdown",
   "id": "7376856e-0c7d-4b2f-9c3b-60c6875d5f53",
   "metadata": {},
   "source": [
    "# 📊 Data Preprocessing Pipeline\n",
    "\n",
    "## 📌 **STEP 1: Preprocess Data** \n",
    "### **Cleaning up before cooking** 🍽️ | Prepares data by removing mess and structuring it properly. |\n",
    "\n",
    "Before we do anything complex, we need to **clean and structure the data**—think of it like prepping ingredients before cooking.  \n",
    "- **Remove low-quality ingredients** 🗑️ (drop columns with too many missing values).  \n",
    "- **Fill gaps with the best substitute** 🧂 (use median values to keep distributions intact).  \n",
    "- **Track market fluctuations over time** 📈 (rolling z-scores help spot trends, just like tracking a player’s shooting streak in basketball).  \n",
    "- **Identify high-stress financial periods** ⚠️ (like knowing when a game is in crunch time).  \n",
    "- **Add historical context** ⏳ (lagged features give the model a memory, similar to how a coach studies past games to predict performance).  \n",
    "\n",
    "This ensures we’re working with **well-prepared, structured data** instead of raw noise.  \n",
    "\n",
    "---"
   ]
  },
  {
   "cell_type": "code",
   "execution_count": 40,
   "id": "0d487f70-c513-456e-915c-efcce891d9da",
   "metadata": {},
   "outputs": [],
   "source": [
    "# -----------------------------------------------\n",
    "# 📌 STEP 1: PREPROCESS DATA\n",
    "# -----------------------------------------------\n",
    "\n",
    "def preprocess_data(df):\n",
    "    \"\"\"Handles missing values, computes market stress, and creates lagged features.\"\"\"\n",
    "    threshold = 0.3 * len(df)\n",
    "    df_cleaned = df.dropna(axis=1, thresh=threshold)\n",
    "    df_cleaned.fillna(df_cleaned.median(numeric_only=True), inplace=True)\n",
    "\n",
    "    # ✅ Compute rolling z-scores\n",
    "    def compute_rolling_zscores(df, cols, window=90):\n",
    "        rolling_mean = df[cols].rolling(window=window, min_periods=1).mean()\n",
    "        rolling_std = df[cols].rolling(window=window, min_periods=1).std()\n",
    "        return (df[cols] - rolling_mean) / rolling_std\n",
    "\n",
    "    zscore_cols = [\"inflation\", \"Interest Rate\", \"interest rates\"]\n",
    "    df_zscores = compute_rolling_zscores(df_cleaned, zscore_cols)\n",
    "    df_zscores.columns = [f\"{col}_z\" for col in zscore_cols]\n",
    "    df_cleaned = pd.concat([df_cleaned, df_zscores], axis=1)\n",
    "\n",
    "    # ✅ Define market stress periods\n",
    "    df_cleaned[\"market_stress\"] = ((df_cleaned[\"inflation_z\"] > 1) &\n",
    "                                   (df_cleaned[\"Interest Rate_z\"] > 1) &\n",
    "                                   (df_cleaned[\"interest rates_z\"] > 1)).astype(int)\n",
    "\n",
    "    # ✅ Create lagged features\n",
    "    lag_features = [\"inflation\", \"Interest Rate\", \"interest rates\"]\n",
    "    lags = [5, 10, 30]\n",
    "    for feature in lag_features:\n",
    "        for lag in lags:\n",
    "            df_cleaned[f\"{feature}_lag{lag}\"] = df_cleaned[feature].shift(lag)\n",
    "\n",
    "    df_cleaned.dropna(inplace=True)\n",
    "    return df_cleaned"
   ]
  },
  {
   "cell_type": "markdown",
   "id": "adcdd601-5daf-420c-9ef0-95652821c045",
   "metadata": {},
   "source": [
    "#### ✅ Test Preprocessing Step\n",
    "\n",
    "This test ensures:\n",
    "- No missing values exist after preprocessing.\n",
    "- Rolling z-score features are correctly added.\n",
    "- The market stress indicator is correctly computed as binary (0 or 1).\n",
    "- Lagged features exist for key variables."
   ]
  },
  {
   "cell_type": "code",
   "execution_count": 47,
   "id": "5261c1ff-49e8-4dc0-bf49-4f31bf1487b5",
   "metadata": {},
   "outputs": [
    {
     "name": "stdout",
     "output_type": "stream",
     "text": [
      "✅ preprocess_data() passed.\n"
     ]
    }
   ],
   "source": [
    "# ✅ Test preprocessing\n",
    "def test_preprocess_data():\n",
    "    df = pd.read_csv(\"data/financial_data_cleaned2.csv\")\n",
    "    df_cleaned = preprocess_data(df)\n",
    "\n",
    "    assert df_cleaned.isna().sum().sum() == 0, \"NaNs found\"\n",
    "    assert all(col in df_cleaned.columns for col in [\"inflation_z\", \"Interest Rate_z\", \"interest rates_z\"]), \"Missing z-score columns\"\n",
    "    assert df_cleaned[\"market_stress\"].isin([0, 1]).all(), \"market_stress not binary\"\n",
    "\n",
    "    for feature in [\"inflation\", \"Interest Rate\", \"interest rates\"]:\n",
    "        for lag in [5, 10, 30]:\n",
    "            assert f\"{feature}_lag{lag}\" in df_cleaned.columns, f\"Missing {feature}_lag{lag}\"\n",
    "\n",
    "    print(\"✅ preprocess_data() passed.\")\n",
    "\n",
    "# ✅ Run the test\n",
    "test_preprocess_data()"
   ]
  },
  {
   "cell_type": "markdown",
   "id": "295dba1d-ae1a-4c46-af4f-edbf7ce2954a",
   "metadata": {},
   "source": [
    "## 📌 **STEP 2: Scale Features**\n",
    "\n",
    "#### **Balancing NBA stats** 🏀 | Ensures features are on the same scale, preventing bias. |\n",
    "\n",
    "Imagine comparing **a 7-foot NBA center’s wingspan to a point guard’s speed**—you can’t just look at raw numbers because the scales are completely different.  \n",
    "- Some financial values are naturally **huge** (interest rates), while others are **tiny** (inflation changes).  \n",
    "- **Standardizing** makes sure each feature is on a **fair playing field** so no single variable dominates.  \n",
    "- We use **StandardScaler** to make all features have:  \n",
    "  - **Mean ≈ 0**  \n",
    "  - **Standard deviation ≈ 1**  \n",
    "\n",
    "This step ensures the model doesn’t get **biased toward larger numbers** and learns from all inputs **equally**.  \n",
    "\n",
    "---"
   ]
  },
  {
   "cell_type": "code",
   "execution_count": 49,
   "id": "d04a97d9-6622-4372-8bc6-35ecf2d39121",
   "metadata": {},
   "outputs": [],
   "source": [
    "# -----------------------------------------------\n",
    "# 📌 STEP 2: SCALE FEATURES\n",
    "# -----------------------------------------------\n",
    "\n",
    "def scale_features(df_cleaned):\n",
    "    \"\"\"Scales numerical features, excluding the target column.\"\"\"\n",
    "    scaler = StandardScaler()\n",
    "    num_cols = df_cleaned.drop(columns=[\"market_stress\"]).select_dtypes(include=[np.number]).columns.tolist()\n",
    "    \n",
    "    df_scaled = pd.DataFrame(scaler.fit_transform(df_cleaned[num_cols]), columns=num_cols)\n",
    "    df_scaled[\"market_stress\"] = df_cleaned[\"market_stress\"].values  # Add back without scaling\n",
    "\n",
    "    return df_scaled"
   ]
  },
  {
   "cell_type": "markdown",
   "id": "5469a51e-3ce2-4233-b459-bd433d1927e9",
   "metadata": {},
   "source": [
    "#### ✅ Test Scaling Step\n",
    "\n",
    "This test ensures:\n",
    "- No missing values exist after scaling.\n",
    "- Numerical columns are scaled properly.\n",
    "- Standard deviations remain ~1."
   ]
  },
  {
   "cell_type": "code",
   "execution_count": 52,
   "id": "a263447d-861e-4971-a4d0-2a1c42443759",
   "metadata": {},
   "outputs": [
    {
     "name": "stdout",
     "output_type": "stream",
     "text": [
      "📊 Standard Deviations After Scaling:\n",
      "Adj Close_^GSPC         1.000083\n",
      "Adj Close_^IXIC         1.000083\n",
      "Adj Close_^VIX          1.000083\n",
      "Bond Yields             1.000083\n",
      "Inflation               1.000083\n",
      "                          ...   \n",
      "Interest Rate_lag5      1.000083\n",
      "Interest Rate_lag10     1.000083\n",
      "interest rates_lag5     1.000083\n",
      "interest rates_lag10    1.000083\n",
      "interest rates_lag30    1.000083\n",
      "Length: 213, dtype: float64\n",
      "✅ scale_features() passed.\n"
     ]
    }
   ],
   "source": [
    "def test_scale_features():\n",
    "    df = pd.read_csv(\"data/financial_data_cleaned2.csv\")\n",
    "    df_cleaned = preprocess_data(df)\n",
    "    df_scaled = scale_features(df_cleaned)\n",
    "\n",
    "    # ✅ Get numerical columns\n",
    "    num_cols = df_cleaned.drop(columns=[\"market_stress\"]).select_dtypes(include=[np.number]).columns.tolist()\n",
    "\n",
    "    # ✅ Check for expected properties\n",
    "    assert \"market_stress\" in df_scaled, \"Missing target column\"\n",
    "    assert not df_scaled.isna().any().any(), \"NaNs found after scaling\"\n",
    "    assert np.allclose(df_scaled[num_cols].mean(), 0, atol=0.01), \"Mean not close to zero\"\n",
    "\n",
    "    # ✅ Adjusted standard deviation tolerance to 0.1\n",
    "    std_devs = df_scaled[num_cols].std()\n",
    "    print(f\"📊 Standard Deviations After Scaling:\\n{std_devs}\")\n",
    "    assert np.allclose(std_devs, 1, atol=0.1), \"Std dev not ~1\"\n",
    "\n",
    "    print(\"✅ scale_features() passed.\")\n",
    "\n",
    "# ✅ Run the test\n",
    "test_scale_features()"
   ]
  },
  {
   "cell_type": "markdown",
   "id": "708b37f9-7a65-4b28-8878-4fc147874a5e",
   "metadata": {},
   "source": [
    "## 📌 **STEP 3: Apply PCA**\n",
    "\n",
    "#### **Scouting report for top players** 🎮 | Keeps only the most useful features, reducing complexity. |\n",
    "\n",
    "There’s a reason why pro athletes don’t track **every single stat**—they focus on the ones that actually matter.  \n",
    "\n",
    "**PCA (Principal Component Analysis)** is like reducing a **full scouting report** into the **most important metrics** that still capture over **80% of the original insights**. This makes our model:  \n",
    "- **More efficient** (fewer, more meaningful features).  \n",
    "- **More accurate** (avoiding noise from unnecessary details).  \n",
    "- **Less prone to overfitting** (ignoring redundant data).  \n",
    "\n",
    "We’re essentially **optimizing the dataset**, keeping only the strongest predictors—just like a Pokémon trainer **breeding for the best IVs** instead of tracking every tiny stat.  \n",
    "\n",
    "---"
   ]
  },
  {
   "cell_type": "code",
   "execution_count": 55,
   "id": "e69bb59b-72b8-4ab3-ad23-da6f1a8e0afb",
   "metadata": {},
   "outputs": [],
   "source": [
    "# -----------------------------------------------\n",
    "# 📌 STEP 3: APPLY PCA\n",
    "# -----------------------------------------------\n",
    "\n",
    "def apply_pca(df_scaled, n_components=50):\n",
    "    \"\"\"Applies PCA for dimensionality reduction.\"\"\"\n",
    "    df_pca_input = df_scaled.drop(columns=[\"market_stress\"])\n",
    "    pca = PCA(n_components=min(n_components, df_pca_input.shape[1]))\n",
    "    principal_components = pca.fit_transform(df_pca_input)\n",
    "\n",
    "    df_pca = pd.DataFrame(principal_components, columns=[f\"PC{i+1}\" for i in range(pca.n_components_)])\n",
    "    df_pca[\"market_stress\"] = df_scaled[\"market_stress\"].values\n",
    "    return df_pca"
   ]
  },
  {
   "cell_type": "markdown",
   "id": "bcd9bab5-37fb-46b6-bc0d-437f40b7987c",
   "metadata": {},
   "source": [
    "#### ✅ Test PCA Step\n",
    "\n",
    "This test ensures:\n",
    "- The correct number of principal components are retained.\n",
    "- The “market_stress” target variable remains in the dataset.\n",
    "- PCA captures sufficient variance (>80%)."
   ]
  },
  {
   "cell_type": "code",
   "execution_count": 82,
   "id": "64d20c7d-da2f-44e6-8b1b-a5688b39a03c",
   "metadata": {},
   "outputs": [
    {
     "name": "stdout",
     "output_type": "stream",
     "text": [
      "📊 Explained Variance Retained: 0.9990\n",
      "✅ apply_pca() passed.\n"
     ]
    }
   ],
   "source": [
    "def test_apply_pca():\n",
    "    df = pd.read_csv(\"data/financial_data_cleaned2.csv\")\n",
    "    df_cleaned = preprocess_data(df)\n",
    "    df_scaled = scale_features(df_cleaned)\n",
    "    df_pca = apply_pca(df_scaled, n_components=50)\n",
    "\n",
    "    # ✅ Check that the number of principal components is correct\n",
    "    expected_n_components = min(50, df_scaled.shape[1] - 1)  # -1 for 'market_stress'\n",
    "    assert df_pca.shape[1] == expected_n_components + 1, f\"Unexpected PCA shape: {df_pca.shape}\"\n",
    "\n",
    "    # ✅ Ensure \"market_stress\" column is still present\n",
    "    assert \"market_stress\" in df_pca.columns, \"market_stress column missing after PCA\"\n",
    "\n",
    "    # ✅ Variance check\n",
    "    pca = PCA(n_components=expected_n_components)\n",
    "    pca.fit(df_scaled.drop(columns=[\"market_stress\"]))\n",
    "    explained_variance = np.sum(pca.explained_variance_ratio_)\n",
    "    print(f\"📊 Explained Variance Retained: {explained_variance:.4f}\")\n",
    "    assert explained_variance > 0.8, \"PCA did not retain enough variance (should be >80%)\"\n",
    "\n",
    "    print(\"✅ apply_pca() passed.\")\n",
    "    return df_cleaned, df_scaled, df_pca\n",
    "\n",
    "# ✅ Run the test\n",
    "df_cleaned = pd.DataFrame()\n",
    "df_scaled = pd.DataFrame()\n",
    "df_pca = pd.DataFrame()\n",
    "\n",
    "df_cleaned, df_scaled, df_pca = test_apply_pca()"
   ]
  },
  {
   "cell_type": "markdown",
   "id": "c8360a52-851d-4929-af2c-14f0caa56c47",
   "metadata": {},
   "source": [
    "## 📌 **STEP 4: Save Preprocessed Data**\n",
    "\n",
    "#### **Meal prepping for efficiency** 🍱 | Saves processed data so we can skip straight to analysis later. |\n",
    "\n",
    "Once cleaned, standardized, and optimized, we **save** two versions of the dataset:  \n",
    "1. **Full preprocessed dataset** 📂 (keeping all features for flexibility).  \n",
    "2. **PCA-reduced dataset** 🔥 (for efficiency, cutting down noise).  \n",
    "\n",
    "This is like **meal prepping**—we put in the work now so we can **jump straight into modeling later** without redoing everything.  \n",
    "\n",
    "---"
   ]
  },
  {
   "cell_type": "code",
   "execution_count": 86,
   "id": "a98c69f9-514b-4c8d-8212-bec9547b682e",
   "metadata": {},
   "outputs": [],
   "source": [
    "# print(df_cleaned.head())\n",
    "# print(df_scaled.head())\n",
    "# print(df_pca.head())"
   ]
  },
  {
   "cell_type": "code",
   "execution_count": 88,
   "id": "91d6a5c2-6db0-4a61-b5a2-93f173cf99cd",
   "metadata": {},
   "outputs": [
    {
     "name": "stdout",
     "output_type": "stream",
     "text": [
      "✅ Full and PCA-reduced datasets saved successfully!\n"
     ]
    }
   ],
   "source": [
    "# ✅ Save Preprocessed Data\n",
    "df_cleaned.to_csv(\"data/financial_data_full.csv\", index=False)\n",
    "df_scaled.to_csv(\"data/financial_data_scaled.csv\", index=False)\n",
    "df_pca.to_csv(\"data/financial_data_pca.csv\", index=False)\n",
    "\n",
    "print(\"✅ Full and PCA-reduced datasets saved successfully!\")"
   ]
  },
  {
   "cell_type": "code",
   "execution_count": 104,
   "id": "e4e7aad3-712f-4bf5-95ab-5ef0f2ae50d6",
   "metadata": {},
   "outputs": [],
   "source": [
    "df_full = df_cleaned.copy()\n",
    "df_cleaned2 = pd.read_csv(\"data/financial_data_cleaned2.csv\")"
   ]
  },
  {
   "cell_type": "code",
   "execution_count": 114,
   "id": "eb317761-4e2d-4b82-8637-a5497450e03c",
   "metadata": {},
   "outputs": [
    {
     "data": {
      "image/png": "[encoded data removed]",
      "text/plain": [
       "<Figure size 1200x700 with 1 Axes>"
      ]
     },
     "metadata": {},
     "output_type": "display_data"
    },
    {
     "data": {
      "text/plain": [
       "<Figure size 640x480 with 0 Axes>"
      ]
     },
     "metadata": {},
     "output_type": "display_data"
    }
   ],
   "source": [
    "import pandas as pd\n",
    "import matplotlib.pyplot as plt\n",
    "\n",
    "# Create a structured pipeline summary\n",
    "pipeline_summary = pd.DataFrame({\n",
    "    \"Stage\": [\"Cleaned2 (Raw)\", \"Full (Structured)\", \"Scaled\", \"PCA\"],\n",
    "    \"Num Features\": [df_cleaned2.shape[1], df_full.shape[1], df_scaled.shape[1], df_pca.shape[1]],\n",
    "    \"Num Rows\": [df_cleaned2.shape[0], df_full.shape[0], df_scaled.shape[0], df_pca.shape[0]]\n",
    "})\n",
    "\n",
    "# Create a refined figure\n",
    "fig, ax = plt.subplots(figsize=(12, 7))\n",
    "\n",
    "# Define colors and markers for each stage\n",
    "colors = [\"#1f77b4\", \"#ff7f0e\", \"#2ca02c\", \"#d62728\"]\n",
    "markers = [\"o\", \"s\", \"D\", \"^\"]\n",
    "\n",
    "# Plot feature reduction with a smooth, connected line and better aesthetics\n",
    "for i in range(len(pipeline_summary[\"Stage\"]) - 1):\n",
    "    ax.plot([pipeline_summary[\"Stage\"][i], pipeline_summary[\"Stage\"][i + 1]],\n",
    "            [pipeline_summary[\"Num Features\"][i], pipeline_summary[\"Num Features\"][i + 1]],\n",
    "            linestyle=\"-\", linewidth=4, color=colors[i], alpha=0.85)\n",
    "\n",
    "# Add markers with larger sizes and black edges for contrast\n",
    "for i, txt in enumerate(pipeline_summary[\"Num Features\"]):\n",
    "    ax.scatter(pipeline_summary[\"Stage\"][i], txt, color=colors[i], s=200, edgecolors=\"black\", zorder=3, marker=markers[i])\n",
    "    ax.text(i, txt + 5, f\"{txt} Features\", ha='center', fontsize=14, fontweight='bold', color=colors[i], \n",
    "            bbox=dict(facecolor=\"white\", edgecolor=colors[i], boxstyle=\"round,pad=0.3\"))\n",
    "\n",
    "# Customizing aesthetics for a high-contrast, modern look\n",
    "ax.set_xlabel(\"Processing Stage\", fontsize=16, fontweight='bold', color=\"black\", labelpad=15)\n",
    "ax.set_ylabel(\"Number of Features\", fontsize=16, fontweight='bold', color=\"black\", labelpad=15)\n",
    "ax.set_title(\"Feature Reduction Through the Data Pipeline\", fontsize=18, fontweight='bold', color=\"#1f77b4\", pad=20)\n",
    "\n",
    "# Customizing X-axis labels\n",
    "ax.set_xticks(range(len(pipeline_summary[\"Stage\"])))\n",
    "ax.set_xticklabels(pipeline_summary[\"Stage\"], fontsize=13, fontweight='bold', rotation=15, color=\"black\")\n",
    "\n",
    "# Remove y-axis ticks for a cleaner visual\n",
    "ax.set_yticks([])\n",
    "\n",
    "# Remove unnecessary spines for a sleek look\n",
    "ax.spines['top'].set_visible(False)\n",
    "ax.spines['right'].set_visible(False)\n",
    "ax.spines['left'].set_visible(False)\n",
    "\n",
    "# Add a soft grid for readability without clutter\n",
    "ax.grid(axis='y', linestyle='--', alpha=0.3, linewidth=0.8)\n",
    "\n",
    "# Adding a subtle shaded background for better readability\n",
    "ax.set_facecolor(\"#f9f9f9\")\n",
    "\n",
    "# Show the final refined visualization\n",
    "plt.show()\n",
    "\n",
    "# Save before displaying\n",
    "plt.savefig(\"pics/feat_lipo_thru_pipe.png\", dpi=300, bbox_inches=\"tight\")\n",
    "plt.show()"
   ]
  },
  {
   "cell_type": "code",
   "execution_count": null,
   "id": "5f022e0f-2e02-408e-b265-182386bde604",
   "metadata": {},
   "outputs": [],
   "source": []
  }
 ],
 "metadata": {
  "kernelspec": {
   "display_name": "Python 3 (ipykernel)",
   "language": "python",
   "name": "python3"
  },
  "language_info": {
   "codemirror_mode": {
    "name": "ipython",
    "version": 3
   },
   "file_extension": ".py",
   "mimetype": "text/x-python",
   "name": "python",
   "nbconvert_exporter": "python",
   "pygments_lexer": "ipython3",
   "version": "3.11.5"
  }
 },
 "nbformat": 4,
 "nbformat_minor": 5
}
