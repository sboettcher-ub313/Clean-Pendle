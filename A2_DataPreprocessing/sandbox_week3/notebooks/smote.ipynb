{
 "cells": [
  {
   "cell_type": "code",
   "execution_count": 7,
   "id": "566cee82-768e-400f-b857-e39c9474488e",
   "metadata": {},
   "outputs": [
    {
     "name": "stdout",
     "output_type": "stream",
     "text": [
      "\u001b[33mWARNING: Skipping /Users/sophiaboettcher/anaconda3/lib/python3.11/site-packages/mistune-0.8.4.dist-info due to invalid metadata entry 'name'\u001b[0m\u001b[33m\n",
      "\u001b[0mRequirement already satisfied: imbalanced-learn in /Users/sophiaboettcher/anaconda3/lib/python3.11/site-packages (0.12.3)\n",
      "Requirement already satisfied: numpy>=1.17.3 in /Users/sophiaboettcher/anaconda3/lib/python3.11/site-packages (from imbalanced-learn) (1.23.5)\n",
      "Requirement already satisfied: scipy>=1.5.0 in /Users/sophiaboettcher/anaconda3/lib/python3.11/site-packages (from imbalanced-learn) (1.13.1)\n",
      "Requirement already satisfied: scikit-learn>=1.0.2 in /Users/sophiaboettcher/anaconda3/lib/python3.11/site-packages (from imbalanced-learn) (1.5.1)\n",
      "Requirement already satisfied: joblib>=1.1.1 in /Users/sophiaboettcher/anaconda3/lib/python3.11/site-packages (from imbalanced-learn) (1.4.2)\n",
      "Requirement already satisfied: threadpoolctl>=2.0.0 in /Users/sophiaboettcher/anaconda3/lib/python3.11/site-packages (from imbalanced-learn) (3.5.0)\n",
      "\u001b[33mWARNING: Skipping /Users/sophiaboettcher/anaconda3/lib/python3.11/site-packages/mistune-0.8.4.dist-info due to invalid metadata entry 'name'\u001b[0m\u001b[33m\n",
      "\u001b[0mNote: you may need to restart the kernel to use updated packages.\n"
     ]
    }
   ],
   "source": [
    "pip install imbalanced-learn"
   ]
  },
  {
   "cell_type": "code",
   "execution_count": 13,
   "id": "bfcf95b2-65f2-411c-a4df-dce22d46464a",
   "metadata": {},
   "outputs": [
    {
     "name": "stdout",
     "output_type": "stream",
     "text": [
      "              precision    recall  f1-score   support\n",
      "\n",
      "           0       0.98      0.83      0.90       982\n",
      "           1       0.02      0.17      0.03        18\n",
      "\n",
      "    accuracy                           0.82      1000\n",
      "   macro avg       0.50      0.50      0.47      1000\n",
      "weighted avg       0.96      0.82      0.89      1000\n",
      "\n",
      "ROC AUC: 0.46961982348947723\n"
     ]
    },
    {
     "data": {
      "image/png": "[encoded data removed]",
      "text/plain": [
       "<Figure size 600x400 with 1 Axes>"
      ]
     },
     "metadata": {},
     "output_type": "display_data"
    }
   ],
   "source": [
    "# 1. Imports\n",
    "import pandas as pd\n",
    "import numpy as np\n",
    "import matplotlib.pyplot as plt\n",
    "import seaborn as sns\n",
    "\n",
    "from sklearn.preprocessing import StandardScaler, LabelEncoder\n",
    "from sklearn.model_selection import train_test_split\n",
    "from sklearn.ensemble import RandomForestClassifier, GradientBoostingClassifier, StackingClassifier\n",
    "from sklearn.linear_model import LogisticRegression\n",
    "from sklearn.metrics import classification_report, roc_auc_score, precision_recall_curve, auc\n",
    "from sklearn.feature_selection import mutual_info_classif\n",
    "from sklearn.tree import DecisionTreeClassifier\n",
    "\n",
    "from imblearn.over_sampling import SMOTE\n",
    "\n",
    "# 2. Load data\n",
    "df = pd.read_csv(\"synth_rare_event_data.csv\")\n",
    "df.columns = [col.strip().lower().replace(\" \", \"_\") for col in df.columns]\n",
    "target_col = \"rare_event\"\n",
    "\n",
    "# 3. Preprocessing\n",
    "df = df.dropna(subset=[target_col])\n",
    "X = df.drop(columns=[target_col])\n",
    "y = df[target_col]\n",
    "\n",
    "for col in X.select_dtypes(include='object').columns:\n",
    "    X[col] = LabelEncoder().fit_transform(X[col].astype(str))\n",
    "\n",
    "X = pd.DataFrame(StandardScaler().fit_transform(X), columns=X.columns)\n",
    "\n",
    "# 4. Mutual Information Feature Selection\n",
    "mi = mutual_info_classif(X, y)\n",
    "mi_series = pd.Series(mi, index=X.columns).sort_values(ascending=False)\n",
    "top_features = mi_series.head(15).index.tolist()\n",
    "X = X[top_features]\n",
    "\n",
    "# 5. SMOTE Oversampling\n",
    "X_train, X_test, y_train, y_test = train_test_split(X, y, test_size=0.2, stratify=y, random_state=42)\n",
    "smote = SMOTE(random_state=42, k_neighbors=3)\n",
    "X_train_bal, y_train_bal = smote.fit_resample(X_train, y_train)\n",
    "\n",
    "# 6. Stacked Classifier with Calibrated Logistic Regression\n",
    "base_learners = [\n",
    "    ('rf', RandomForestClassifier(n_estimators=200, max_depth=5, random_state=42)),\n",
    "    ('gb', GradientBoostingClassifier(n_estimators=100, learning_rate=0.05, random_state=42))\n",
    "]\n",
    "meta_model = LogisticRegression(max_iter=1000, class_weight='balanced', random_state=42)\n",
    "stacked_model = StackingClassifier(estimators=base_learners, final_estimator=meta_model, cv=5)\n",
    "\n",
    "stacked_model.fit(X_train_bal, y_train_bal)\n",
    "\n",
    "# 7. Evaluation\n",
    "y_pred = stacked_model.predict(X_test)\n",
    "y_prob = stacked_model.predict_proba(X_test)[:, 1]\n",
    "\n",
    "print(classification_report(y_test, y_pred))\n",
    "print(\"ROC AUC:\", roc_auc_score(y_test, y_prob))\n",
    "\n",
    "# 8. PR Curve\n",
    "precision, recall, _ = precision_recall_curve(y_test, y_prob)\n",
    "pr_auc = auc(recall, precision)\n",
    "\n",
    "plt.figure(figsize=(6, 4))\n",
    "plt.plot(recall, precision, label=f'PR AUC = {pr_auc:.3f}')\n",
    "plt.xlabel('Recall')\n",
    "plt.ylabel('Precision')\n",
    "plt.title('Precision-Recall Curve')\n",
    "plt.grid(True)\n",
    "plt.legend()\n",
    "plt.show()"
   ]
  },
  {
   "cell_type": "code",
   "execution_count": null,
   "id": "4b276183-a826-4fb5-a7a2-47bc53045a29",
   "metadata": {},
   "outputs": [],
   "source": []
  }
 ],
 "metadata": {
  "kernelspec": {
   "display_name": "Python 3 (ipykernel)",
   "language": "python",
   "name": "python3"
  },
  "language_info": {
   "codemirror_mode": {
    "name": "ipython",
    "version": 3
   },
   "file_extension": ".py",
   "mimetype": "text/x-python",
   "name": "python",
   "nbconvert_exporter": "python",
   "pygments_lexer": "ipython3",
   "version": "3.11.5"
  }
 },
 "nbformat": 4,
 "nbformat_minor": 5
}
