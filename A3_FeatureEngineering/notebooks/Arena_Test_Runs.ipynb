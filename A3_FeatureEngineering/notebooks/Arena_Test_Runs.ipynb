{
 "cells": [
  {
   "cell_type": "code",
   "execution_count": 4,
   "id": "c6768462-f42c-4e01-8553-cc770bc89047",
   "metadata": {},
   "outputs": [
    {
     "name": "stdout",
     "output_type": "stream",
     "text": [
      "{'pr_auc': 0.7777947151922665, 'roc_auc': 0.9627802525494238}\n"
     ]
    }
   ],
   "source": [
    "import sys, os\n",
    "sys.path.append(os.path.abspath(\"..\"))\n",
    "\n",
    "from models import make_model, get_base_models\n",
    "\n",
    "import pandas as pd\n",
    "from sklearn.model_selection import train_test_split\n",
    "\n",
    "from utils.resampling import get_resamplers\n",
    "from utils.scoring import score_model\n",
    "\n",
    "# Load one dataset\n",
    "df = pd.read_csv(\"../synthetic_datasets/baseline_easy_w5_n5_d0.csv\")\n",
    "X = df.drop(\"rare_event\", axis=1)\n",
    "y = df[\"rare_event\"]\n",
    "\n",
    "# Split for a quick test\n",
    "X_train, X_test, y_train, y_test = train_test_split(X, y, stratify=y)\n",
    "\n",
    "# Grab one model and one resampler\n",
    "model_cfg = get_base_models()[0]\n",
    "resamplers = get_resamplers(X_train, y_train, target_col=\"rare_event\")\n",
    "X_res, y_res = resamplers[\"SMOTE\"]()\n",
    "\n",
    "# Train + evaluate\n",
    "model = model_cfg[\"model\"]\n",
    "model.fit(X_res, y_res)\n",
    "y_prob = model.predict_proba(X_test)[:, 1]\n",
    "\n",
    "print(score_model(y_test, y_prob))"
   ]
  },
  {
   "cell_type": "code",
   "execution_count": null,
   "id": "5e7fe45a-ecac-43b9-abc7-af6a042b36f7",
   "metadata": {},
   "outputs": [],
   "source": []
  }
 ],
 "metadata": {
  "kernelspec": {
   "display_name": "Python 3 (ipykernel)",
   "language": "python",
   "name": "python3"
  },
  "language_info": {
   "codemirror_mode": {
    "name": "ipython",
    "version": 3
   },
   "file_extension": ".py",
   "mimetype": "text/x-python",
   "name": "python",
   "nbconvert_exporter": "python",
   "pygments_lexer": "ipython3",
   "version": "3.11.5"
  }
 },
 "nbformat": 4,
 "nbformat_minor": 5
}
