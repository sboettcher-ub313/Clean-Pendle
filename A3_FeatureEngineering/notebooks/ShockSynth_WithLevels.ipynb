{
 "cells": [
  {
   "cell_type": "code",
   "execution_count": 1,
   "id": "c09be0d5-8de0-4759-a3ce-de8a1c05f008",
   "metadata": {},
   "outputs": [
    {
     "name": "stdout",
     "output_type": "stream",
     "text": [
      "[✅] Saved marketshock_easy_s1.csv\n",
      "[✅] Saved marketshock_easy_s2.csv\n",
      "[✅] Saved marketshock_easy_s3.csv\n",
      "[✅] Saved marketshock_medium_s1.csv\n",
      "[✅] Saved marketshock_medium_s2.csv\n",
      "[✅] Saved marketshock_medium_s3.csv\n",
      "[✅] Saved marketshock_hard_s1.csv\n",
      "[✅] Saved marketshock_hard_s2.csv\n",
      "[✅] Saved marketshock_hard_s3.csv\n",
      "[✅] Saved marketshock_extreme_s1.csv\n",
      "[✅] Saved marketshock_extreme_s2.csv\n",
      "[✅] Saved marketshock_extreme_s3.csv\n"
     ]
    }
   ],
   "source": [
    "import os\n",
    "import pandas as pd\n",
    "from synthetic_generator_core import generate_market_shock_dataset\n",
    "\n",
    "# 📁 Output folder\n",
    "output_folder = \"market_shock_datasets\"\n",
    "os.makedirs(output_folder, exist_ok=True)\n",
    "\n",
    "# ⚙️ Configurations\n",
    "difficulty_levels = [\"easy\", \"medium\", \"hard\", \"extreme\"]\n",
    "seeds_per_level = [1, 2, 3]  # You can add more for variation\n",
    "\n",
    "# 🔁 Generate and save\n",
    "for level in difficulty_levels:\n",
    "    for seed in seeds_per_level:\n",
    "        df = generate_market_shock_dataset(difficulty=level, random_state=seed)\n",
    "        filename = f\"marketshock_{level}_s{seed}.csv\"\n",
    "        filepath = os.path.join(output_folder, filename)\n",
    "        df.to_csv(filepath, index=False)\n",
    "        print(f\"[✅] Saved {filename}\")"
   ]
  },
  {
   "cell_type": "code",
   "execution_count": null,
   "id": "1e8add4a-7622-4a9c-a8b1-4bd4b546e40a",
   "metadata": {},
   "outputs": [],
   "source": []
  },
  {
   "cell_type": "code",
   "execution_count": null,
   "id": "ac6b0127-ba4a-4020-a353-3ac66165263a",
   "metadata": {},
   "outputs": [],
   "source": []
  }
 ],
 "metadata": {
  "kernelspec": {
   "display_name": "Python 3 (ipykernel)",
   "language": "python",
   "name": "python3"
  },
  "language_info": {
   "codemirror_mode": {
    "name": "ipython",
    "version": 3
   },
   "file_extension": ".py",
   "mimetype": "text/x-python",
   "name": "python",
   "nbconvert_exporter": "python",
   "pygments_lexer": "ipython3",
   "version": "3.11.5"
  }
 },
 "nbformat": 4,
 "nbformat_minor": 5
}
