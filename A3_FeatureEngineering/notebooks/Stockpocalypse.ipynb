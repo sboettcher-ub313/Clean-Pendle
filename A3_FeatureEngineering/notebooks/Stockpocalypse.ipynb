{
 "cells": [
  {
   "cell_type": "code",
   "execution_count": 1,
   "id": "55748ed7-21ee-40ef-93ff-d9ae5f2a6ff4",
   "metadata": {},
   "outputs": [],
   "source": [
    "import os\n",
    "import pandas as pd\n",
    "from synthetic_generator_core import SyntheticRareEventGenerator\n",
    "from synthetic_generator_core import generate_market_shock_dataset\n",
    "\n",
    "# --------------------------\n",
    "# 📁 1. Ensure Output Folders\n",
    "# --------------------------\n",
    "os.makedirs(\"synthetic_datasets\", exist_ok=True)\n",
    "os.makedirs(\"market_shock_datasets\", exist_ok=True)"
   ]
  },
  {
   "cell_type": "code",
   "execution_count": 3,
   "id": "e63dc1e5-d305-4c54-bae6-30f016c07c37",
   "metadata": {},
   "outputs": [],
   "source": [
    "# --------------------------\n",
    "# ✅ 2. Manual Configs\n",
    "# --------------------------\n",
    "\n",
    "# Stock Prediction Dataset\n",
    "gen_stock = SyntheticRareEventGenerator(\n",
    "    n_samples=5000,\n",
    "    n_features=15,\n",
    "    imbalance_ratio=0.5,\n",
    "    noise_level=0.1,\n",
    "    concept_drift=0.0,\n",
    "    rare_event_weight=0.0,\n",
    "    seed=42\n",
    ")\n",
    "\n",
    "df_stock = gen_stock.generate()\n",
    "df_stock = gen_stock.add_noise(df_stock)\n",
    "SyntheticRareEventGenerator.save_to_csv(df_stock, \"synthetic_datasets/stock_prediction_clean.csv\")\n",
    "\n",
    "# Market Shock Dataset\n",
    "gen_shock = SyntheticRareEventGenerator(\n",
    "    n_samples=5000,\n",
    "    n_features=15,\n",
    "    imbalance_ratio=0.02,\n",
    "    noise_level=0.3,\n",
    "    concept_drift=0.6,\n",
    "    rare_event_weight=0.8,\n",
    "    seed=99\n",
    ")\n",
    "\n",
    "df_shock = gen_shock.generate()\n",
    "df_shock = gen_shock.add_noise(df_shock)\n",
    "df_shock = gen_shock.inject_drift(df_shock)\n",
    "SyntheticRareEventGenerator.save_to_csv(df_shock, \"synthetic_datasets/market_shock_sim.csv\")"
   ]
  },
  {
   "cell_type": "code",
   "execution_count": 5,
   "id": "717232a1-5198-4dde-842d-d4c774c8d16d",
   "metadata": {},
   "outputs": [
    {
     "name": "stdout",
     "output_type": "stream",
     "text": [
      "[✅] Saved marketshock_easy_s1.csv\n",
      "[✅] Saved marketshock_easy_s2.csv\n",
      "[✅] Saved marketshock_easy_s3.csv\n",
      "[✅] Saved marketshock_medium_s1.csv\n",
      "[✅] Saved marketshock_medium_s2.csv\n",
      "[✅] Saved marketshock_medium_s3.csv\n",
      "[✅] Saved marketshock_hard_s1.csv\n",
      "[✅] Saved marketshock_hard_s2.csv\n",
      "[✅] Saved marketshock_hard_s3.csv\n",
      "[✅] Saved marketshock_extreme_s1.csv\n",
      "[✅] Saved marketshock_extreme_s2.csv\n",
      "[✅] Saved marketshock_extreme_s3.csv\n"
     ]
    }
   ],
   "source": [
    "# --------------------------\n",
    "# 🔁 3. Batch Generation\n",
    "# --------------------------\n",
    "\n",
    "difficulty_levels = [\"easy\", \"medium\", \"hard\", \"extreme\"]\n",
    "seeds_per_level = [1, 2, 3]\n",
    "\n",
    "for level in difficulty_levels:\n",
    "    for seed in seeds_per_level:\n",
    "        df = generate_market_shock_dataset(difficulty=level, random_state=seed)\n",
    "        filename = f\"marketshock_{level}_s{seed}.csv\"\n",
    "        filepath = os.path.join(\"market_shock_datasets\", filename)\n",
    "        df.to_csv(filepath, index=False)\n",
    "        print(f\"[✅] Saved {filename}\")"
   ]
  },
  {
   "cell_type": "code",
   "execution_count": null,
   "id": "1e8add4a-7622-4a9c-a8b1-4bd4b546e40a",
   "metadata": {},
   "outputs": [],
   "source": []
  }
 ],
 "metadata": {
  "kernelspec": {
   "display_name": "Python 3 (ipykernel)",
   "language": "python",
   "name": "python3"
  },
  "language_info": {
   "codemirror_mode": {
    "name": "ipython",
    "version": 3
   },
   "file_extension": ".py",
   "mimetype": "text/x-python",
   "name": "python",
   "nbconvert_exporter": "python",
   "pygments_lexer": "ipython3",
   "version": "3.11.5"
  }
 },
 "nbformat": 4,
 "nbformat_minor": 5
}
