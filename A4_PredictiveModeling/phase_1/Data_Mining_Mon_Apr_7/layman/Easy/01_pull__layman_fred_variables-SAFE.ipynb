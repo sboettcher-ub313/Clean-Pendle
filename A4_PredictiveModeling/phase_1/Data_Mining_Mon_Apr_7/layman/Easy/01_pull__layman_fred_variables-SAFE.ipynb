{
 "cells": [
  {
   "cell_type": "code",
   "execution_count": 23,
   "id": "91e81923-a717-487c-95cd-81c337be5558",
   "metadata": {},
   "outputs": [
    {
     "name": "stdout",
     "output_type": "stream",
     "text": [
      "✅ Loaded layman__oil_price\n",
      "✅ Loaded layman__gas_price\n",
      "✅ Loaded layman__mortgage_rate_30yr\n",
      "✅ Loaded layman__median_home_price\n",
      "❌ Failed: layman__cpi_grocery_prices - Bad Request.  The series does not exist.\n",
      "✅ Loaded layman__total_retail_sales\n",
      "✅ Loaded layman__cpi_electricity\n",
      "✅ Loaded layman__cpi_used_cars\n",
      "✅ Loaded layman__total_consumer_credit\n",
      "✅ Loaded layman__avg_auto_loan_rate_48mo\n",
      "✅ Loaded layman__total_student_loans\n",
      "✅ Loaded layman__rental_vacancy_rate\n",
      "❌ Failed: layman__cpi_fast_food - Bad Request.  The series does not exist.\n",
      "✅ Loaded layman__cpi_event_admission\n",
      "✅ Loaded layman__cpi_airfare\n",
      "❌ Failed: layman__cpi_childcare - Bad Request.  The series does not exist.\n",
      "✅ Loaded layman__cpi_transit_fares\n",
      "✅ Loaded layman__consumer_sentiment_index\n",
      "✅ Loaded layman__personal_savings_rate\n",
      "✅ Loaded layman__unemployment_rate\n",
      "✅ Loaded layman__federal_funds_rate\n",
      "✅ Loaded layman__youth_unemployment_rate\n",
      "✅ Loaded layman__food_price_index\n",
      "❌ Failed: layman__food_away_from_home_index - Bad Request.  The series does not exist.\n",
      "❌ Failed: layman__education_and_childcare_cpi - Bad Request.  The series does not exist.\n",
      "✅ Loaded layman__general_cpi_index\n",
      "✅ Loaded layman__medical_services_index\n",
      "✅ Saved: layman_fred_batch.csv\n"
     ]
    }
   ],
   "source": [
    "from fredapi import Fred\n",
    "import pandas as pd\n",
    "from datetime import datetime\n",
    "\n",
    "# Setup\n",
    "fred = Fred(api_key=\"YOUR API KEY HERE\")\n",
    "\n",
    "start_date = \"1997-01-01\"\n",
    "# Get today's date and format it\n",
    "end_date = datetime.today().strftime(\"%Y-%m-%d\")\n",
    "freq = \"MS\"\n",
    "\n",
    "# Mapping: FRED series code → layman__ variable\n",
    "fred_layman_dict = {\n",
    "    \"WTISPLC\": \"layman__oil_price\",\n",
    "    \"GASREGCOVW\": \"layman__gas_price\",\n",
    "    \"MORTGAGE30US\": \"layman__mortgage_rate_30yr\",\n",
    "    \"MSPUS\": \"layman__median_home_price\",\n",
    "    \"CUSR0000SAF1\": \"layman__cpi_grocery_prices\",\n",
    "    \"RSAFS\": \"layman__total_retail_sales\",\n",
    "    \"CUSR0000SEHF01\": \"layman__cpi_electricity\",\n",
    "    \"CUSR0000SETA02\": \"layman__cpi_used_cars\",\n",
    "    \"TOTALSL\": \"layman__total_consumer_credit\",\n",
    "    \"TERMCBAUTO48NS\": \"layman__avg_auto_loan_rate_48mo\",\n",
    "    \"SLOAS\": \"layman__total_student_loans\",\n",
    "    \"RRVRUSQ156N\": \"layman__rental_vacancy_rate\",\n",
    "    \"CUUR0000SETA03\": \"layman__cpi_fast_food\",\n",
    "    \"CUSR0000SEEA\": \"layman__cpi_event_admission\",\n",
    "    \"CUSR0000SETG01\": \"layman__cpi_airfare\",\n",
    "    \"CUSR0000SEEB03\": \"layman__cpi_childcare\",\n",
    "    \"CUSR0000SETG\": \"layman__cpi_transit_fares\",\n",
    "    \"UMCSENT\": \"layman__consumer_sentiment_index\",\n",
    "    \"PSAVERT\": \"layman__personal_savings_rate\",\n",
    "    \"UNRATE\": \"layman__unemployment_rate\",\n",
    "    \"FEDFUNDS\": \"layman__federal_funds_rate\",\n",
    "    \"LNS14000036\": \"layman__youth_unemployment_rate\",\n",
    "}\n",
    "\n",
    "fallback_fred_layman_dict = {\n",
    "    # ... keep all the existing successful entries\n",
    "    \"CPIUFDSL\": \"layman__food_price_index\",               # replaces grocery\n",
    "    \"CPIUFDINE\": \"layman__food_away_from_home_index\",     # replaces fast food\n",
    "    \"CPIEDUCNS\": \"layman__education_and_childcare_cpi\",   # replaces childcare\n",
    "    \"CPIAUCSL\": \"layman__general_cpi_index\",   # General CPI (replacement for grocery)\n",
    "    \"CPIMEDSL\": \"layman__medical_services_index\",  # Medical costs as household pressure\n",
    "}\n",
    "\n",
    "# Download series\n",
    "date_index = pd.date_range(start=start_date, end=end_date, freq=freq)\n",
    "df = pd.DataFrame(index=date_index)\n",
    "\n",
    "for code, alias in fred_layman_dict.items():\n",
    "    try:\n",
    "        series = fred.get_series(code, observation_start=start_date, observation_end=end_date)\n",
    "        df[alias] = series.resample(freq).ffill()\n",
    "        print(f\"✅ Loaded {alias}\")\n",
    "    except Exception as e:\n",
    "        print(f\"❌ Failed: {alias} - {e}\")\n",
    "\n",
    "for code, alias in fallback_fred_layman_dict.items():\n",
    "    try:\n",
    "        series = fred.get_series(code, observation_start=start_date, observation_end=end_date)\n",
    "        df[alias] = series.resample(freq).ffill()\n",
    "        print(f\"✅ Loaded {alias}\")\n",
    "    except Exception as e:\n",
    "        print(f\"❌ Failed: {alias} - {e}\")\n",
    "\n",
    "# 🧼 Fill any remaining gaps\n",
    "df = df.bfill().ffill()\n",
    "\n",
    "# Save\n",
    "df.index.name = \"date\"\n",
    "df.to_csv(\"layman_fred_batch.csv\")\n",
    "print(\"✅ Saved: layman_fred_batch.csv\")"
   ]
  },
  {
   "cell_type": "code",
   "execution_count": 11,
   "id": "177b749a-7889-48b3-b498-eca6764e5b9d",
   "metadata": {},
   "outputs": [
    {
     "data": {
      "text/plain": [
       "Index(['layman__oil_price', 'layman__gas_price', 'layman__mortgage_rate_30yr',\n",
       "       'layman__median_home_price', 'layman__total_retail_sales',\n",
       "       'layman__cpi_electricity', 'layman__cpi_used_cars',\n",
       "       'layman__total_consumer_credit', 'layman__avg_auto_loan_rate_48mo',\n",
       "       'layman__total_student_loans', 'layman__rental_vacancy_rate',\n",
       "       'layman__cpi_event_admission', 'layman__cpi_airfare',\n",
       "       'layman__cpi_transit_fares', 'layman__consumer_sentiment_index',\n",
       "       'layman__personal_savings_rate', 'layman__unemployment_rate',\n",
       "       'layman__federal_funds_rate', 'layman__youth_unemployment_rate',\n",
       "       'layman__food_price_index', 'layman__general_cpi_index',\n",
       "       'layman__medical_services_index'],\n",
       "      dtype='object')"
      ]
     },
     "execution_count": 11,
     "metadata": {},
     "output_type": "execute_result"
    }
   ],
   "source": [
    "df.columns"
   ]
  },
  {
   "cell_type": "code",
   "execution_count": 13,
   "id": "26966c3e-4e49-4e35-9abb-2a5b30dfbfde",
   "metadata": {},
   "outputs": [
    {
     "data": {
      "text/plain": [
       "22"
      ]
     },
     "execution_count": 13,
     "metadata": {},
     "output_type": "execute_result"
    }
   ],
   "source": [
    "len(df.columns)"
   ]
  },
  {
   "cell_type": "code",
   "execution_count": null,
   "id": "5575b5f8-0011-4e9a-965d-091f363a2bfa",
   "metadata": {},
   "outputs": [],
   "source": []
  }
 ],
 "metadata": {
  "kernelspec": {
   "display_name": "Python 3 (ipykernel)",
   "language": "python",
   "name": "python3"
  },
  "language_info": {
   "codemirror_mode": {
    "name": "ipython",
    "version": 3
   },
   "file_extension": ".py",
   "mimetype": "text/x-python",
   "name": "python",
   "nbconvert_exporter": "python",
   "pygments_lexer": "ipython3",
   "version": "3.11.5"
  }
 },
 "nbformat": 4,
 "nbformat_minor": 5
}
