{
 "cells": [
  {
   "cell_type": "code",
   "execution_count": 38,
   "id": "9f0c96be-9e6d-45b2-acd0-0f73bbc87a97",
   "metadata": {},
   "outputs": [],
   "source": [
    "import pandas as pd\n",
    "\n",
    "# 📁 Load the three datasets\n",
    "batch = pd.read_csv(\"Easy/layman_fred_batch.csv\", index_col=\"date\", parse_dates=True)\n",
    "composites = pd.read_csv(\"Over_Easy/layman_fred_composites.csv\", index_col=\"date\", parse_dates=True)\n",
    "theoreticals = pd.read_csv(\"Medium/layman_fred_theoreticals_enriched.csv\", index_col=\"date\", parse_dates=True)\n"
   ]
  },
  {
   "cell_type": "code",
   "execution_count": 44,
   "id": "0045cc38-2e72-4ee3-967a-1c5e8133f5d6",
   "metadata": {
    "scrolled": true
   },
   "outputs": [
    {
     "name": "stdout",
     "output_type": "stream",
     "text": [
      "✅ Master dataset created with shape: (340, 50)\n"
     ]
    }
   ],
   "source": [
    "# ✂️ Remove overlapping columns from composites and theoreticals\n",
    "composites_filtered = composites.drop(columns=batch.columns.intersection(composites.columns), errors=\"ignore\")\n",
    "theoreticals_filtered = theoreticals.drop(\n",
    "    columns=batch.columns.union(composites.columns).intersection(theoreticals.columns),\n",
    "    errors=\"ignore\"\n",
    ")\n",
    "\n",
    "# 🔗 Merge them step by step\n",
    "merged = batch.join(composites_filtered, how=\"outer\")\n",
    "merged = merged.join(theoreticals_filtered, how=\"outer\")\n",
    "\n",
    "# 🧼 Final sort and save\n",
    "merged = merged.sort_index()\n",
    "\n",
    "# 🧼 Drop index column if it's duplicated (assumes it's first)\n",
    "for df in [merged]:\n",
    "    if df.columns[0].lower() in [\"unnamed: 0\", \"date\"]:\n",
    "        df.drop(df.columns[0], axis=1, inplace=True)\n",
    "\n",
    "merged.to_csv(\"layman_fred_master_dataset.csv\")\n",
    "\n",
    "print(f\"✅ Master dataset created with shape: {merged.shape}\")"
   ]
  },
  {
   "cell_type": "code",
   "execution_count": null,
   "id": "f4a958be-82af-4002-a7db-94afacb65a22",
   "metadata": {},
   "outputs": [],
   "source": []
  }
 ],
 "metadata": {
  "kernelspec": {
   "display_name": "Python 3 (ipykernel)",
   "language": "python",
   "name": "python3"
  },
  "language_info": {
   "codemirror_mode": {
    "name": "ipython",
    "version": 3
   },
   "file_extension": ".py",
   "mimetype": "text/x-python",
   "name": "python",
   "nbconvert_exporter": "python",
   "pygments_lexer": "ipython3",
   "version": "3.11.5"
  }
 },
 "nbformat": 4,
 "nbformat_minor": 5
}
