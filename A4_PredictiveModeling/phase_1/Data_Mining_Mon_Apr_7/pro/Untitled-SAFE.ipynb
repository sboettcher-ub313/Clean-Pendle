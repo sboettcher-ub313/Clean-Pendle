{
 "cells": [
  {
   "cell_type": "code",
   "execution_count": 3,
   "id": "075c6494-c9f9-431a-a022-ea59996fb6ce",
   "metadata": {},
   "outputs": [
    {
     "name": "stdout",
     "output_type": "stream",
     "text": [
      "✅ Loaded: layman__treasury_10yr_rate\n",
      "✅ Loaded: layman__treasury_3mo_rate\n",
      "✅ Loaded: layman__initial_unemployment_claims\n",
      "✅ Loaded: layman__job_openings_total\n",
      "❌ Failed: layman__manufacturing_pmi (NAPM) — Bad Request.  The series does not exist.\n",
      "✅ Loaded: layman__durable_goods_orders\n",
      "✅ Loaded: layman__industrial_production\n",
      "✅ Loaded: layman__real_disposable_income\n",
      "✅ Loaded: layman__real_consumption\n",
      "✅ Loaded: layman__cpi_rent_index\n",
      "✅ Saved: layman_pro_signals.csv\n"
     ]
    }
   ],
   "source": [
    "# 📦 Imports\n",
    "from fredapi import Fred\n",
    "import pandas as pd\n",
    "from datetime import datetime\n",
    "\n",
    "# 🔧 Setup\n",
    "fred = Fred(api_key=\"YOUR API KEY HERE\")  # Replace with your API key\n",
    "start_date = \"1997-01-01\"\n",
    "end_date = datetime.today().strftime(\"%Y-%m-%d\")\n",
    "freq = \"MS\"\n",
    "date_index = pd.date_range(start=start_date, end=end_date, freq=freq)\n",
    "\n",
    "# 🧭 Pro signal mappings (easy FRED access)\n",
    "pro_signals = {\n",
    "    \"GS10\": \"pro__treasury_10yr_rate\",\n",
    "    \"TB3MS\": \"pro__treasury_3mo_rate\",\n",
    "    \"ICSA\": \"pro__initial_unemployment_claims\",\n",
    "    \"JTSJOL\": \"pro__job_openings_total\",\n",
    "    \"NAPM\": \"pro__manufacturing_pmi\",\n",
    "    \"DGORDER\": \"pro__durable_goods_orders\",\n",
    "    \"INDPRO\": \"pro__industrial_production\",\n",
    "    \"DSPIC96\": \"pro__real_disposable_income\",\n",
    "    \"PCEC96\": \"pro__real_consumption\",\n",
    "    \"CUSR0000SEHA\": \"pro__cpi_rent_index\"\n",
    "}\n",
    "\n",
    "# 📊 Initialize dataframe\n",
    "df_pro = pd.DataFrame(index=date_index)\n",
    "\n",
    "# 📥 Pull from FRED\n",
    "for code, alias in pro_signals.items():\n",
    "    try:\n",
    "        series = fred.get_series(code, observation_start=start_date, observation_end=end_date)\n",
    "        df_pro[alias] = series.resample(freq).ffill().reindex(date_index)\n",
    "        print(f\"✅ Loaded: {alias}\")\n",
    "    except Exception as e:\n",
    "        print(f\"❌ Failed: {alias} ({code}) — {e}\")\n",
    "\n",
    "# 🧼 Clean\n",
    "df_pro = df_pro.bfill().ffill()\n",
    "df_pro.index.name = \"date\"\n",
    "\n",
    "# 💾 Save\n",
    "df_pro.to_csv(\"layman_pro_signals.csv\")\n",
    "print(\"✅ Saved: layman_pro_signals.csv\")"
   ]
  },
  {
   "cell_type": "code",
   "execution_count": null,
   "id": "4a16422d-374b-42c1-8c5c-7ab614285924",
   "metadata": {},
   "outputs": [],
   "source": []
  }
 ],
 "metadata": {
  "kernelspec": {
   "display_name": "Python 3 (ipykernel)",
   "language": "python",
   "name": "python3"
  },
  "language_info": {
   "codemirror_mode": {
    "name": "ipython",
    "version": 3
   },
   "file_extension": ".py",
   "mimetype": "text/x-python",
   "name": "python",
   "nbconvert_exporter": "python",
   "pygments_lexer": "ipython3",
   "version": "3.11.5"
  }
 },
 "nbformat": 4,
 "nbformat_minor": 5
}
