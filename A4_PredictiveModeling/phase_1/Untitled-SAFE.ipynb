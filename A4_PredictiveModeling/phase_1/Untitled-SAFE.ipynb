{
 "cells": [
  {
   "cell_type": "code",
   "execution_count": 7,
   "id": "fe9af8da-bfec-48e8-a4dc-fe2e10307614",
   "metadata": {},
   "outputs": [
    {
     "name": "stdout",
     "output_type": "stream",
     "text": [
      "✅ Saved real_signals.csv and real_signal_metadata.json to sim_data\n"
     ]
    },
    {
     "name": "stderr",
     "output_type": "stream",
     "text": [
      "/var/folders/bq/_yk5zsn90t11g7lt1yn4v9w40000gn/T/ipykernel_4549/1798611545.py:56: FutureWarning: 'M' is deprecated and will be removed in a future version, please use 'ME' instead.\n",
      "  df = df.resample(\"M\").mean().dropna(how=\"all\")  # Ensure regular monthly format\n"
     ]
    }
   ],
   "source": [
    "# 📓 Notebook: Real Economic Data Loader for synthetic_signals.csv Format\n",
    "\n",
    "import pandas as pd\n",
    "import json\n",
    "import os\n",
    "from fredapi import Fred\n",
    "\n",
    "# --- Config ---\n",
    "API_KEY = \"YOUR API KEY HERE\"  # Replace with your actual FRED API key\n",
    "START_DATE = \"2000-01-01\"\n",
    "END_DATE = \"2024-01-01\"\n",
    "OUTPUT_FOLDER = \"sim_data\"\n",
    "\n",
    "fred = Fred(api_key=API_KEY)\n",
    "\n",
    "# --- Example Concept-Mapped Signals ---\n",
    "real_signal_map = {\n",
    "    \"GDP\": {\n",
    "        \"source\": \"FRED\",\n",
    "        \"concept_pool\": \"linchpins\",\n",
    "        \"alias\": \"gross_domestic_product\"\n",
    "    },\n",
    "    \"CPIAUCSL\": {\n",
    "        \"source\": \"FRED\",\n",
    "        \"concept_pool\": \"layman_friendly\",\n",
    "        \"alias\": \"inflation_rate\"\n",
    "    },\n",
    "    \"UNRATE\": {\n",
    "        \"source\": \"FRED\",\n",
    "        \"concept_pool\": \"linchpins\",\n",
    "        \"alias\": \"unemployment_rate\"\n",
    "    },\n",
    "    \"FEDFUNDS\": {\n",
    "        \"source\": \"FRED\",\n",
    "        \"concept_pool\": \"linchpins\",\n",
    "        \"alias\": \"federal_funds_rate\"\n",
    "    },\n",
    "    \"UMCSENT\": {\n",
    "        \"source\": \"FRED\",\n",
    "        \"concept_pool\": \"layman_friendly\",\n",
    "        \"alias\": \"consumer_sentiment\"\n",
    "    }\n",
    "    # Add more signals here...\n",
    "}\n",
    "\n",
    "# --- Function: Load + Format Signals ---\n",
    "def load_and_format_signals(signal_map, start, end):\n",
    "    df = pd.DataFrame()\n",
    "    for series_id, meta in signal_map.items():\n",
    "        try:\n",
    "            data = fred.get_series(series_id, observation_start=start, observation_end=end)\n",
    "            df[meta[\"alias\"]] = data\n",
    "        except Exception as e:\n",
    "            print(f\"Error loading {series_id}: {e}\")\n",
    "    df.index.name = \"date\"\n",
    "    df = df.resample(\"M\").mean().dropna(how=\"all\")  # Ensure regular monthly format\n",
    "    return df\n",
    "\n",
    "# --- Generate & Save ---\n",
    "real_df = load_and_format_signals(real_signal_map, START_DATE, END_DATE)\n",
    "os.makedirs(OUTPUT_FOLDER, exist_ok=True)\n",
    "real_df.to_csv(os.path.join(OUTPUT_FOLDER, \"real_signals.csv\"))\n",
    "\n",
    "with open(os.path.join(OUTPUT_FOLDER, \"real_signal_metadata.json\"), \"w\") as f:\n",
    "    json.dump(real_signal_map, f, indent=2)\n",
    "\n",
    "print(f\"✅ Saved real_signals.csv and real_signal_metadata.json to {OUTPUT_FOLDER}\")"
   ]
  },
  {
   "cell_type": "code",
   "execution_count": null,
   "id": "b42114d1-0d8b-470b-84d9-bf2a3eed7f4b",
   "metadata": {},
   "outputs": [],
   "source": []
  }
 ],
 "metadata": {
  "kernelspec": {
   "display_name": "Python 3 (ipykernel)",
   "language": "python",
   "name": "python3"
  },
  "language_info": {
   "codemirror_mode": {
    "name": "ipython",
    "version": 3
   },
   "file_extension": ".py",
   "mimetype": "text/x-python",
   "name": "python",
   "nbconvert_exporter": "python",
   "pygments_lexer": "ipython3",
   "version": "3.11.5"
  }
 },
 "nbformat": 4,
 "nbformat_minor": 5
}
