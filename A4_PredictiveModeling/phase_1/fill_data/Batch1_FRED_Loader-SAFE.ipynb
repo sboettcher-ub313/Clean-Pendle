{
 "cells": [
  {
   "cell_type": "code",
   "execution_count": 1,
   "id": "ba4e489a-b064-4d1a-8e9b-f5782335d074",
   "metadata": {},
   "outputs": [
    {
     "name": "stdout",
     "output_type": "stream",
     "text": [
      "✅ Saved Batch1_fred_signals.csv\n"
     ]
    },
    {
     "name": "stderr",
     "output_type": "stream",
     "text": [
      "/var/folders/bq/_yk5zsn90t11g7lt1yn4v9w40000gn/T/ipykernel_11464/745343462.py:33: FutureWarning: 'M' is deprecated and will be removed in a future version, please use 'ME' instead.\n",
      "  df = df.resample(\"M\").mean().dropna(how=\"all\")\n"
     ]
    }
   ],
   "source": [
    "# Batch 1: Load FRED Macroeconomic Indicators\n",
    "\n",
    "from fredapi import Fred\n",
    "import pandas as pd\n",
    "import os\n",
    "import json\n",
    "\n",
    "API_KEY = \"YOUR API KEY HERE\"  # Replace with your key\n",
    "fred = Fred(api_key=API_KEY)\n",
    "\n",
    "signals = {\n",
    "    \"GDP\": \"gdp_growth\",\n",
    "    \"UNRATE\": \"unemployment_rate\",\n",
    "    \"CPIAUCSL\": \"cpi_inflation\",\n",
    "    \"UMCSENT\": \"consumer_sentiment_index\",\n",
    "    \"FEDFUNDS\": \"federal_funds_rate\",\n",
    "    \"VIXCLS\": \"vix_index\",\n",
    "    \"IR\": \"10y_treasury_yield\"  # Placeholder if real series ID needed\n",
    "}\n",
    "\n",
    "start_date = \"2000-01-01\"\n",
    "end_date = \"2024-01-01\"\n",
    "df = pd.DataFrame()\n",
    "\n",
    "for sid, name in signals.items():\n",
    "    try:\n",
    "        data = fred.get_series(sid, observation_start=start_date, observation_end=end_date)\n",
    "        df[name] = data\n",
    "    except Exception as e:\n",
    "        print(f\"❌ Error loading {sid}: {e}\")\n",
    "\n",
    "df.index.name = \"date\"\n",
    "df = df.resample(\"M\").mean().dropna(how=\"all\")\n",
    "\n",
    "df.to_csv(\"Batch1_fred_signals.csv\")\n",
    "print(\"✅ Saved Batch1_fred_signals.csv\")"
   ]
  },
  {
   "cell_type": "code",
   "execution_count": null,
   "id": "89ee42b0-b18c-4634-a292-e78ad098563d",
   "metadata": {},
   "outputs": [],
   "source": []
  }
 ],
 "metadata": {
  "kernelspec": {
   "display_name": "Python 3 (ipykernel)",
   "language": "python",
   "name": "python3"
  },
  "language_info": {
   "codemirror_mode": {
    "name": "ipython",
    "version": 3
   },
   "file_extension": ".py",
   "mimetype": "text/x-python",
   "name": "python",
   "nbconvert_exporter": "python",
   "pygments_lexer": "ipython3",
   "version": "3.11.5"
  }
 },
 "nbformat": 4,
 "nbformat_minor": 5
}
