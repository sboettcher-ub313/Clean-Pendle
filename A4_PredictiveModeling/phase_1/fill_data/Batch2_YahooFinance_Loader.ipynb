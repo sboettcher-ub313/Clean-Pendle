{
 "cells": [
  {
   "cell_type": "code",
   "execution_count": 13,
   "id": "1aae228c-d568-4665-8831-093c6dad62c8",
   "metadata": {},
   "outputs": [
    {
     "name": "stderr",
     "output_type": "stream",
     "text": [
      "[*********************100%***********************]  1 of 1 completed\n",
      "[*********************100%***********************]  1 of 1 completed\n",
      "[*********************100%***********************]  1 of 1 completed\n",
      "[*********************100%***********************]  1 of 1 completed\n",
      "[*********************100%***********************]  1 of 1 completed\n",
      "[*********************100%***********************]  1 of 1 completed"
     ]
    },
    {
     "name": "stdout",
     "output_type": "stream",
     "text": [
      "✅ Loaded ^GSPC as s&p500_returns\n",
      "✅ Loaded AAPL as apple_stock_movement\n",
      "✅ Loaded MSFT as microsoft_stock_movement\n",
      "✅ Loaded TSLA as tesla_news_spike\n",
      "✅ Loaded QQQ as tech_etf_volume\n",
      "✅ Loaded XLF as financial_etf_flow\n",
      "✅ Saved Batch2_yfinance_signals.csv\n"
     ]
    },
    {
     "name": "stderr",
     "output_type": "stream",
     "text": [
      "\n"
     ]
    }
   ],
   "source": [
    "import yfinance as yf\n",
    "import pandas as pd\n",
    "\n",
    "tickers = {\n",
    "    \"^GSPC\": \"s&p500_returns\",\n",
    "    \"AAPL\": \"apple_stock_movement\",\n",
    "    \"MSFT\": \"microsoft_stock_movement\",\n",
    "    \"TSLA\": \"tesla_news_spike\",\n",
    "    \"QQQ\": \"tech_etf_volume\",\n",
    "    \"XLF\": \"financial_etf_flow\",\n",
    "}\n",
    "\n",
    "start = \"2000-01-01\"\n",
    "end = \"2024-01-01\"\n",
    "\n",
    "series_list = []\n",
    "\n",
    "for ticker, alias in tickers.items():\n",
    "    try:\n",
    "        df = yf.download(ticker, start=start, end=end, interval=\"1mo\", auto_adjust=True)\n",
    "        if not df.empty and \"Close\" in df.columns:\n",
    "            pct_series = df[\"Close\"].pct_change().fillna(0)\n",
    "            pct_series.name = alias\n",
    "            series_list.append(pct_series)\n",
    "            print(f\"✅ Loaded {ticker} as {alias}\")\n",
    "        else:\n",
    "            print(f\"⚠️ No valid 'Close' data for {ticker}\")\n",
    "    except Exception as e:\n",
    "        print(f\"❌ Error with {ticker}: {e}\")\n",
    "\n",
    "# Combine into DataFrame\n",
    "if series_list:\n",
    "    result_df = pd.concat(series_list, axis=1)\n",
    "    result_df.index.name = \"date\"\n",
    "    result_df.to_csv(\"Batch2_yfinance_signals.csv\")\n",
    "    print(\"✅ Saved Batch2_yfinance_signals.csv\")\n",
    "else:\n",
    "    raise ValueError(\"No data was loaded. Check your tickers or internet connection.\")"
   ]
  },
  {
   "cell_type": "code",
   "execution_count": null,
   "id": "f6e66a43-d40d-41d3-9b56-4eac78328f07",
   "metadata": {},
   "outputs": [],
   "source": []
  }
 ],
 "metadata": {
  "kernelspec": {
   "display_name": "Python 3 (ipykernel)",
   "language": "python",
   "name": "python3"
  },
  "language_info": {
   "codemirror_mode": {
    "name": "ipython",
    "version": 3
   },
   "file_extension": ".py",
   "mimetype": "text/x-python",
   "name": "python",
   "nbconvert_exporter": "python",
   "pygments_lexer": "ipython3",
   "version": "3.11.5"
  }
 },
 "nbformat": 4,
 "nbformat_minor": 5
}
