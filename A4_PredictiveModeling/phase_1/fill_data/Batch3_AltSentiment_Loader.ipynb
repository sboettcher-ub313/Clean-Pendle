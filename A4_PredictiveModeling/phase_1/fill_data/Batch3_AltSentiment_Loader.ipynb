{
 "cells": [
  {
   "cell_type": "markdown",
   "id": "d9a999e5-d83f-4e98-afcf-1d1764752469",
   "metadata": {},
   "source": [
    "# Batch 3: Alt-sentiment and public web trends (Google Trends)\n",
    "\n",
    "This notebook fetches weekly Google Trends data for terms that reflect economic anxiety or social media sentiment. These features serve as proxies for crowd-based signals and augment traditional indicators."
   ]
  },
  {
   "cell_type": "code",
   "execution_count": 4,
   "id": "6837d765-7057-47f9-95a7-d148768eff02",
   "metadata": {
    "scrolled": true
   },
   "outputs": [
    {
     "name": "stdout",
     "output_type": "stream",
     "text": [
      "\u001b[33mWARNING: Skipping /Users/sophiaboettcher/anaconda3/lib/python3.11/site-packages/mistune-0.8.4.dist-info due to invalid metadata entry 'name'\u001b[0m\u001b[33m\n",
      "\u001b[0mRequirement already satisfied: pytrends in /Users/sophiaboettcher/anaconda3/lib/python3.11/site-packages (4.9.2)\n",
      "Requirement already satisfied: requests>=2.0 in /Users/sophiaboettcher/anaconda3/lib/python3.11/site-packages (from pytrends) (2.32.3)\n",
      "Requirement already satisfied: pandas>=0.25 in /Users/sophiaboettcher/anaconda3/lib/python3.11/site-packages (from pytrends) (2.2.3)\n",
      "Requirement already satisfied: lxml in /Users/sophiaboettcher/anaconda3/lib/python3.11/site-packages (from pytrends) (5.2.1)\n",
      "Requirement already satisfied: numpy>=1.23.2 in /Users/sophiaboettcher/anaconda3/lib/python3.11/site-packages (from pandas>=0.25->pytrends) (1.23.5)\n",
      "Requirement already satisfied: python-dateutil>=2.8.2 in /Users/sophiaboettcher/anaconda3/lib/python3.11/site-packages (from pandas>=0.25->pytrends) (2.9.0.post0)\n",
      "Requirement already satisfied: pytz>=2020.1 in /Users/sophiaboettcher/anaconda3/lib/python3.11/site-packages (from pandas>=0.25->pytrends) (2024.1)\n",
      "Requirement already satisfied: tzdata>=2022.7 in /Users/sophiaboettcher/anaconda3/lib/python3.11/site-packages (from pandas>=0.25->pytrends) (2023.3)\n",
      "Requirement already satisfied: charset-normalizer<4,>=2 in /Users/sophiaboettcher/anaconda3/lib/python3.11/site-packages (from requests>=2.0->pytrends) (3.4.1)\n",
      "Requirement already satisfied: idna<4,>=2.5 in /Users/sophiaboettcher/anaconda3/lib/python3.11/site-packages (from requests>=2.0->pytrends) (3.10)\n",
      "Requirement already satisfied: urllib3<3,>=1.21.1 in /Users/sophiaboettcher/anaconda3/lib/python3.11/site-packages (from requests>=2.0->pytrends) (2.3.0)\n",
      "Requirement already satisfied: certifi>=2017.4.17 in /Users/sophiaboettcher/anaconda3/lib/python3.11/site-packages (from requests>=2.0->pytrends) (2025.1.31)\n",
      "Requirement already satisfied: six>=1.5 in /Users/sophiaboettcher/anaconda3/lib/python3.11/site-packages (from python-dateutil>=2.8.2->pandas>=0.25->pytrends) (1.16.0)\n",
      "\u001b[33mWARNING: Skipping /Users/sophiaboettcher/anaconda3/lib/python3.11/site-packages/mistune-0.8.4.dist-info due to invalid metadata entry 'name'\u001b[0m\u001b[33m\n",
      "\u001b[0m"
     ]
    }
   ],
   "source": [
    "!pip install pytrends"
   ]
  },
  {
   "cell_type": "code",
   "execution_count": 6,
   "id": "e2c15b12-83d1-4dd6-bffa-3fd7d5f74b73",
   "metadata": {},
   "outputs": [
    {
     "name": "stdout",
     "output_type": "stream",
     "text": [
      "✅ Loaded unemployment as google_trends_unemployment\n",
      "✅ Loaded #recession as tiktok_recession_hashtag_velocity\n",
      "✅ Loaded finance forum as reddit_finance_sentiment\n",
      "✅ Loaded economic collapse as twitter_macro_fear_score\n",
      "✅ Loaded market crash as news_coverage_volatility_index\n",
      "✅ Saved Batch3_google_trends.csv\n"
     ]
    }
   ],
   "source": [
    "from datetime import datetime\n",
    "from pytrends.request import TrendReq\n",
    "import pandas as pd\n",
    "\n",
    "# Initialize pytrends\n",
    "pytrends = TrendReq(hl='en-US', tz=360)\n",
    "\n",
    "# Define search terms and their mapping to column names\n",
    "terms = {\n",
    "    \"google_trends_unemployment\": \"unemployment\",\n",
    "    \"tiktok_recession_hashtag_velocity\": \"#recession\",\n",
    "    \"reddit_finance_sentiment\": \"finance forum\",\n",
    "    \"twitter_macro_fear_score\": \"economic collapse\",\n",
    "    \"news_coverage_volatility_index\": \"market crash\"\n",
    "}\n",
    "\n",
    "# Create a date range to align outputs\n",
    "date_range = pd.date_range(start=\"2004-01-01\", end=\"2024-01-01\", freq=\"W\")\n",
    "df_all = pd.DataFrame(index=date_range)\n",
    "\n",
    "# Loop through each term, fetch interest over time, and align\n",
    "for col_name, search_term in terms.items():\n",
    "    try:\n",
    "        pytrends.build_payload([search_term], timeframe='2004-01-01 2024-01-01')\n",
    "        df = pytrends.interest_over_time()\n",
    "        if not df.empty:\n",
    "            df_all[col_name] = df[search_term].reindex(date_range, method='nearest')\n",
    "            print(f\"✅ Loaded {search_term} as {col_name}\")\n",
    "    except Exception as e:\n",
    "        print(f\"❌ Error with {search_term}: {e}\")\n",
    "\n",
    "# Save to CSV\n",
    "df_all.index.name = \"date\"\n",
    "df_all.to_csv(\"Batch3_google_trends.csv\")\n",
    "print(\"✅ Saved Batch3_google_trends.csv\")"
   ]
  },
  {
   "cell_type": "code",
   "execution_count": 22,
   "id": "c432572d-35dc-40e9-a2c7-30a0c3928d40",
   "metadata": {},
   "outputs": [],
   "source": [
    "df_google_trends = df_all.copy()"
   ]
  }
 ],
 "metadata": {
  "kernelspec": {
   "display_name": "Python 3 (ipykernel)",
   "language": "python",
   "name": "python3"
  },
  "language_info": {
   "codemirror_mode": {
    "name": "ipython",
    "version": 3
   },
   "file_extension": ".py",
   "mimetype": "text/x-python",
   "name": "python",
   "nbconvert_exporter": "python",
   "pygments_lexer": "ipython3",
   "version": "3.11.5"
  }
 },
 "nbformat": 4,
 "nbformat_minor": 5
}
