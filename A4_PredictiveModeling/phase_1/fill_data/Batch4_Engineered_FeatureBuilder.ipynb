{
 "cells": [
  {
   "cell_type": "code",
   "execution_count": 6,
   "id": "4487670f-e00f-432b-af69-99b8e0a221bc",
   "metadata": {},
   "outputs": [
    {
     "name": "stdout",
     "output_type": "stream",
     "text": [
      "✅ Saved Batch4_engineered_features.csv using real data\n"
     ]
    },
    {
     "name": "stderr",
     "output_type": "stream",
     "text": [
      "/var/folders/bq/_yk5zsn90t11g7lt1yn4v9w40000gn/T/ipykernel_11544/4190769383.py:10: FutureWarning: 'M' is deprecated and will be removed in a future version, please use 'ME' instead.\n",
      "  fred_df = fred_df.resample(\"M\").mean().dropna()\n"
     ]
    }
   ],
   "source": [
    "# 📓 Batch 4: Generate Engineered/Derived Features from Real Data\n",
    "\n",
    "import pandas as pd\n",
    "import numpy as np\n",
    "\n",
    "# Load real FRED signals (from Batch 1)\n",
    "fred_df = pd.read_csv(\"Batch1_fred_signals.csv\", parse_dates=[\"date\"], index_col=\"date\")\n",
    "\n",
    "# Ensure monthly frequency\n",
    "fred_df = fred_df.resample(\"M\").mean().dropna()\n",
    "\n",
    "# --- Derived Signals ---\n",
    "df = pd.DataFrame(index=fred_df.index)\n",
    "\n",
    "# 🟢 Proxy for nowcast GDP: centered rolling mean of GDP growth\n",
    "df[\"nowcast_gdp\"] = fred_df[\"gdp_growth\"].rolling(window=3, center=True).mean()\n",
    "\n",
    "# 🟢 Recession model score: weighted normalized combination of high unemployment & negative GDP growth\n",
    "score = (\n",
    "    (fred_df[\"unemployment_rate\"] - fred_df[\"unemployment_rate\"].mean()) / fred_df[\"unemployment_rate\"].std()\n",
    "    - (fred_df[\"gdp_growth\"] - fred_df[\"gdp_growth\"].mean()) / fred_df[\"gdp_growth\"].std()\n",
    ")\n",
    "df[\"recession_model_score\"] = (score - score.min()) / (score.max() - score.min())\n",
    "\n",
    "# 🟢 Economic surprise index: rolling z-score change in CPI inflation\n",
    "inflation_diff = fred_df[\"cpi_inflation\"].diff()\n",
    "rolling_std = inflation_diff.rolling(window=6).std()\n",
    "df[\"economic_surprise_index\"] = inflation_diff / rolling_std\n",
    "\n",
    "# 🟢 Liquidity crunch index: VIX spike + drop in consumer sentiment\n",
    "vix_z = (fred_df[\"vix_index\"] - fred_df[\"vix_index\"].mean()) / fred_df[\"vix_index\"].std()\n",
    "sentiment_z = (fred_df[\"consumer_sentiment_index\"] - fred_df[\"consumer_sentiment_index\"].mean()) / fred_df[\"consumer_sentiment_index\"].std()\n",
    "df[\"liquidity_crunch_index\"] = vix_z - sentiment_z\n",
    "\n",
    "# 🟢 Tail risk score: large jumps in VIX (standardized)\n",
    "vix_change = fred_df[\"vix_index\"].pct_change()\n",
    "df[\"tail_risk_score\"] = (vix_change.rolling(3).std()) * 100\n",
    "\n",
    "# 🟢 Macro risk factor: principal component proxy (simple combination here)\n",
    "df[\"macro_risk_factor_1\"] = (\n",
    "    0.3 * fred_df[\"gdp_growth\"].fillna(0) -\n",
    "    0.5 * fred_df[\"unemployment_rate\"].fillna(0) +\n",
    "    0.2 * fred_df[\"vix_index\"].fillna(0)\n",
    ")\n",
    "\n",
    "# --- Output ---\n",
    "df = df.dropna()\n",
    "df.index.name = \"date\"\n",
    "df.to_csv(\"Batch4_engineered_features.csv\")\n",
    "print(\"✅ Saved Batch4_engineered_features.csv using real data\")"
   ]
  },
  {
   "cell_type": "code",
   "execution_count": null,
   "id": "707bbe18-9b75-4099-a663-e6aaa4347258",
   "metadata": {},
   "outputs": [],
   "source": []
  }
 ],
 "metadata": {
  "kernelspec": {
   "display_name": "Python 3 (ipykernel)",
   "language": "python",
   "name": "python3"
  },
  "language_info": {
   "codemirror_mode": {
    "name": "ipython",
    "version": 3
   },
   "file_extension": ".py",
   "mimetype": "text/x-python",
   "name": "python",
   "nbconvert_exporter": "python",
   "pygments_lexer": "ipython3",
   "version": "3.11.5"
  }
 },
 "nbformat": 4,
 "nbformat_minor": 5
}
