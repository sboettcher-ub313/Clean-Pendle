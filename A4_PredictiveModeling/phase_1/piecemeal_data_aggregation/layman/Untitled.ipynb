{
 "cells": [
  {
   "cell_type": "code",
   "execution_count": 1,
   "id": "cc2b3647-103f-4002-bf4e-5a364e09f7d9",
   "metadata": {},
   "outputs": [],
   "source": [
    "import pandas as pd"
   ]
  },
  {
   "cell_type": "code",
   "execution_count": 9,
   "id": "91a76f97-6a99-4a8d-9921-f3df4bdd3e14",
   "metadata": {},
   "outputs": [],
   "source": [
    "df = pd.read_csv(\"layman_batches/Batch_Layman_01.csv\")"
   ]
  },
  {
   "cell_type": "code",
   "execution_count": 11,
   "id": "6cf7ef21-4c9d-4596-9022-f54061112d9c",
   "metadata": {},
   "outputs": [],
   "source": [
    "df2 = pd.read_csv(\"layman_batches/Batch_Layman_02.csv\")"
   ]
  },
  {
   "cell_type": "code",
   "execution_count": 13,
   "id": "7787e0e3-3195-4c61-95e4-e994cd5910e8",
   "metadata": {
    "scrolled": true
   },
   "outputs": [
    {
     "data": {
      "text/plain": [
       "Index(['date', 'layman__oil_price', 'layman__gas_price',\n",
       "       'layman__mortgage_rate', 'layman__housing_prices',\n",
       "       'layman__grocery_index', 'layman__retail_sales',\n",
       "       'layman__electricity_cost_index', 'layman__used_car_prices',\n",
       "       'layman__minimum_wage_trend', 'layman__water_bill_index',\n",
       "       'linchpin__cpi_inflation', 'linchpin__unemployment_rate',\n",
       "       'linchpin__federal_funds_rate'],\n",
       "      dtype='object')"
      ]
     },
     "execution_count": 13,
     "metadata": {},
     "output_type": "execute_result"
    }
   ],
   "source": [
    "df.columns"
   ]
  },
  {
   "cell_type": "code",
   "execution_count": 19,
   "id": "7e0dabd3-8c35-413b-a5c0-a52fdc7ac85f",
   "metadata": {},
   "outputs": [
    {
     "data": {
      "text/plain": [
       "13"
      ]
     },
     "execution_count": 19,
     "metadata": {},
     "output_type": "execute_result"
    }
   ],
   "source": [
    "len(df.columns)-1"
   ]
  },
  {
   "cell_type": "code",
   "execution_count": 15,
   "id": "01a26cc6-5a67-43d2-a2ae-1738d9c36a70",
   "metadata": {},
   "outputs": [
    {
     "data": {
      "text/plain": [
       "Index(['date', 'layman__consumer_credit', 'layman__auto_loan_rate',\n",
       "       'layman__student_debt_level', 'layman__rental_vacancy_rate',\n",
       "       'layman__fast_food_price_index', 'layman__concert_ticket_index',\n",
       "       'layman__airfare_index', 'layman__education_childcare_index',\n",
       "       'layman__public_transit_fares', 'layman__streaming_cost_index'],\n",
       "      dtype='object')"
      ]
     },
     "execution_count": 15,
     "metadata": {},
     "output_type": "execute_result"
    }
   ],
   "source": [
    "df2.columns"
   ]
  },
  {
   "cell_type": "code",
   "execution_count": 17,
   "id": "f3f99a04-3746-48da-8f39-ec3c82565355",
   "metadata": {},
   "outputs": [
    {
     "data": {
      "text/plain": [
       "23"
      ]
     },
     "execution_count": 17,
     "metadata": {},
     "output_type": "execute_result"
    }
   ],
   "source": [
    "len(df.columns)+len(df2.columns)-2"
   ]
  },
  {
   "cell_type": "markdown",
   "id": "5eafd2d1-7c55-4fcc-8abb-9d9b4a9a64d4",
   "metadata": {},
   "source": [
    "layman__oil_price,\n",
    "layman__gas_price,\n",
    "layman__housing_prices,\n",
    "layman__grocery_index,\n",
    "layman__retail_sales,\n",
    "layman__job_postings_online,\n",
    "layman__mortgage_rate,\n",
    "layman__used_car_prices,\n",
    "layman__electricity_cost_index,\n",
    "layman__minimum_wage_trend,\n",
    "\n",
    "layman__consumer_credit,\n",
    "layman__auto_loan_rate,\n",
    "layman__student_debt_level,\n",
    "layman__rental_vacancy_rate,\n",
    "layman__netflix_subs_index,\n",
    "layman__fast_food_price_index,\n",
    "layman__concert_ticket_index,\n",
    "layman__airfare_index,\n",
    "layman__childcare_cost_index,\n",
    "layman__public_transit_fares,\n",
    "\n",
    "layman__weather_disruption_index,\n",
    "layman__crime_sentiment_index,\n",
    "layman__news_fear_index,\n",
    "layman__youth_political_sentiment,\n",
    "layman__amazon_cart_price_index,\n",
    "layman__water_bill_index,\n",
    "layman__internet_subscription_rate,\n",
    "layman__streaming_bundle_index,\n",
    "layman__consumer_survey_expectations,\n",
    "layman__local_gas_shortage_index,\n",
    "\n",
    "layman__school_closure_score,\n",
    "layman__sports_game_attendance_rate,\n",
    "layman__mall_foot_traffic_index,\n",
    "layman__ev_charging_price_index,\n",
    "layman__pothole_complaints_index,\n",
    "layman__wifi_speed_index,\n",
    "layman__google_trend_recession,\n",
    "layman__personal_savings_rate,\n",
    "layman__financial_anxiety_mentions"
   ]
  }
 ],
 "metadata": {
  "kernelspec": {
   "display_name": "Python 3 (ipykernel)",
   "language": "python",
   "name": "python3"
  },
  "language_info": {
   "codemirror_mode": {
    "name": "ipython",
    "version": 3
   },
   "file_extension": ".py",
   "mimetype": "text/x-python",
   "name": "python",
   "nbconvert_exporter": "python",
   "pygments_lexer": "ipython3",
   "version": "3.11.5"
  }
 },
 "nbformat": 4,
 "nbformat_minor": 5
}
