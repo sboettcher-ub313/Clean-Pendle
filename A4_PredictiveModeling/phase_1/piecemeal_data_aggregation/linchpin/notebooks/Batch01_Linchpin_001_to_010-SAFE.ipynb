{
 "cells": [
  {
   "cell_type": "code",
   "execution_count": 7,
   "id": "9a10b7e0-dcdb-435e-8a6d-f8e3f4462291",
   "metadata": {},
   "outputs": [],
   "source": [
    "# 🔧 Setup\n",
    "from fredapi import Fred\n",
    "import yfinance as yf\n",
    "import pandas as pd\n",
    "import sys\n",
    "import os\n",
    "\n",
    "# Go up one level to find linchpin_functions/\n",
    "parent_dir = os.path.abspath(\"..\")\n",
    "if parent_dir not in sys.path:\n",
    "    sys.path.insert(0, parent_dir)\n",
    "\n",
    "from linchpin_functions import load_linchpin_features, impute_missing, impute_with_zscore, fallback_impute_first_pmi_row"
   ]
  },
  {
   "cell_type": "code",
   "execution_count": 9,
   "id": "a121827d-b001-40a7-a689-15582f102ecc",
   "metadata": {},
   "outputs": [
    {
     "name": "stderr",
     "output_type": "stream",
     "text": [
      "/Users/sophiaboettcher/Param_IndianMutualFunds/A4_PredictiveModeling/piecemeal_data_aggregation/linchpin/linchpin_functions/linchpin_loader.py:24: FutureWarning: 'M' is deprecated and will be removed in a future version, please use 'ME' instead.\n",
      "  monthly_index = pd.date_range(start=start_date, end=end_date, freq=\"M\")\n",
      "/Users/sophiaboettcher/Param_IndianMutualFunds/A4_PredictiveModeling/piecemeal_data_aggregation/linchpin/linchpin_functions/linchpin_loader.py:31: FutureWarning: 'M' is deprecated and will be removed in a future version, please use 'ME' instead.\n",
      "  series = series.resample(\"M\").ffill()  # Monthly alignment and forward-fill\n"
     ]
    },
    {
     "name": "stdout",
     "output_type": "stream",
     "text": [
      "✅ Loaded linchpin__gdp_growth\n"
     ]
    },
    {
     "name": "stderr",
     "output_type": "stream",
     "text": [
      "/Users/sophiaboettcher/Param_IndianMutualFunds/A4_PredictiveModeling/piecemeal_data_aggregation/linchpin/linchpin_functions/linchpin_loader.py:31: FutureWarning: 'M' is deprecated and will be removed in a future version, please use 'ME' instead.\n",
      "  series = series.resample(\"M\").ffill()  # Monthly alignment and forward-fill\n"
     ]
    },
    {
     "name": "stdout",
     "output_type": "stream",
     "text": [
      "✅ Loaded linchpin__cpi_inflation\n"
     ]
    },
    {
     "name": "stderr",
     "output_type": "stream",
     "text": [
      "/Users/sophiaboettcher/Param_IndianMutualFunds/A4_PredictiveModeling/piecemeal_data_aggregation/linchpin/linchpin_functions/linchpin_loader.py:31: FutureWarning: 'M' is deprecated and will be removed in a future version, please use 'ME' instead.\n",
      "  series = series.resample(\"M\").ffill()  # Monthly alignment and forward-fill\n"
     ]
    },
    {
     "name": "stdout",
     "output_type": "stream",
     "text": [
      "✅ Loaded linchpin__unemployment_rate\n"
     ]
    },
    {
     "name": "stderr",
     "output_type": "stream",
     "text": [
      "/Users/sophiaboettcher/Param_IndianMutualFunds/A4_PredictiveModeling/piecemeal_data_aggregation/linchpin/linchpin_functions/linchpin_loader.py:31: FutureWarning: 'M' is deprecated and will be removed in a future version, please use 'ME' instead.\n",
      "  series = series.resample(\"M\").ffill()  # Monthly alignment and forward-fill\n",
      "/Users/sophiaboettcher/Param_IndianMutualFunds/A4_PredictiveModeling/piecemeal_data_aggregation/linchpin/linchpin_functions/linchpin_loader.py:31: FutureWarning: 'M' is deprecated and will be removed in a future version, please use 'ME' instead.\n",
      "  series = series.resample(\"M\").ffill()  # Monthly alignment and forward-fill\n"
     ]
    },
    {
     "name": "stdout",
     "output_type": "stream",
     "text": [
      "✅ Loaded linchpin__vix_index\n",
      "✅ Loaded linchpin__10y_treasury_yield\n"
     ]
    },
    {
     "name": "stderr",
     "output_type": "stream",
     "text": [
      "/Users/sophiaboettcher/Param_IndianMutualFunds/A4_PredictiveModeling/piecemeal_data_aggregation/linchpin/linchpin_functions/linchpin_loader.py:31: FutureWarning: 'M' is deprecated and will be removed in a future version, please use 'ME' instead.\n",
      "  series = series.resample(\"M\").ffill()  # Monthly alignment and forward-fill\n"
     ]
    },
    {
     "name": "stdout",
     "output_type": "stream",
     "text": [
      "✅ Loaded linchpin__federal_funds_rate\n"
     ]
    },
    {
     "name": "stderr",
     "output_type": "stream",
     "text": [
      "/Users/sophiaboettcher/Param_IndianMutualFunds/A4_PredictiveModeling/piecemeal_data_aggregation/linchpin/linchpin_functions/linchpin_loader.py:31: FutureWarning: 'M' is deprecated and will be removed in a future version, please use 'ME' instead.\n",
      "  series = series.resample(\"M\").ffill()  # Monthly alignment and forward-fill\n"
     ]
    },
    {
     "name": "stdout",
     "output_type": "stream",
     "text": [
      "✅ Loaded linchpin__consumer_sentiment_index\n"
     ]
    },
    {
     "name": "stderr",
     "output_type": "stream",
     "text": [
      "/Users/sophiaboettcher/Param_IndianMutualFunds/A4_PredictiveModeling/piecemeal_data_aggregation/linchpin/linchpin_functions/linchpin_loader.py:31: FutureWarning: 'M' is deprecated and will be removed in a future version, please use 'ME' instead.\n",
      "  series = series.resample(\"M\").ffill()  # Monthly alignment and forward-fill\n"
     ]
    },
    {
     "name": "stdout",
     "output_type": "stream",
     "text": [
      "✅ Loaded linchpin__housing_starts\n"
     ]
    },
    {
     "name": "stderr",
     "output_type": "stream",
     "text": [
      "/Users/sophiaboettcher/Param_IndianMutualFunds/A4_PredictiveModeling/piecemeal_data_aggregation/linchpin/linchpin_functions/linchpin_loader.py:31: FutureWarning: 'M' is deprecated and will be removed in a future version, please use 'ME' instead.\n",
      "  series = series.resample(\"M\").ffill()  # Monthly alignment and forward-fill\n",
      "/Users/sophiaboettcher/Param_IndianMutualFunds/A4_PredictiveModeling/piecemeal_data_aggregation/linchpin/linchpin_functions/linchpin_loader.py:31: FutureWarning: 'M' is deprecated and will be removed in a future version, please use 'ME' instead.\n",
      "  series = series.resample(\"M\").ffill()  # Monthly alignment and forward-fill\n"
     ]
    },
    {
     "name": "stdout",
     "output_type": "stream",
     "text": [
      "✅ Loaded linchpin__initial_jobless_claims\n",
      "✅ Loaded linchpin__industrial_production\n"
     ]
    },
    {
     "name": "stderr",
     "output_type": "stream",
     "text": [
      "/Users/sophiaboettcher/Param_IndianMutualFunds/A4_PredictiveModeling/piecemeal_data_aggregation/linchpin/linchpin_functions/linchpin_loader.py:31: FutureWarning: 'M' is deprecated and will be removed in a future version, please use 'ME' instead.\n",
      "  series = series.resample(\"M\").ffill()  # Monthly alignment and forward-fill\n"
     ]
    },
    {
     "name": "stdout",
     "output_type": "stream",
     "text": [
      "✅ Loaded linchpin__manufacturing_hours\n",
      "✅ Loaded linchpin__durable_goods_orders\n",
      "✅ Created linchpin__pmi_manufacturing from proxy components\n",
      "✅ Imputed 7 values for linchpin__vix_index using Huber\n",
      "🛠️ Manual fill for linchpin__vix_index during 2008\n",
      "🛠️ Manual fill for linchpin__vix_index during 2020\n",
      "🛠️ Manually filled linchpin__initial_jobless_claims during 2008\n",
      "🛠️ Manually filled linchpin__initial_jobless_claims during 2020\n",
      "⚠️ First row of linchpin__pmi_manufacturing is missing. Applying fallback imputation...\n",
      "✅ Imputed 1 values for linchpin__pmi_manufacturing using Ridge + z-scores\n",
      "✅ Saved Batch_Linchpin_01.csv\n"
     ]
    },
    {
     "name": "stderr",
     "output_type": "stream",
     "text": [
      "/Users/sophiaboettcher/Param_IndianMutualFunds/A4_PredictiveModeling/piecemeal_data_aggregation/linchpin/linchpin_functions/linchpin_loader.py:31: FutureWarning: 'M' is deprecated and will be removed in a future version, please use 'ME' instead.\n",
      "  series = series.resample(\"M\").ffill()  # Monthly alignment and forward-fill\n"
     ]
    }
   ],
   "source": [
    "# 📥 Load features\n",
    "API_KEY = \"YOUR API KEY HERE\"\n",
    "df = load_linchpin_features(API_KEY)\n",
    "\n",
    "# 🧠 Impute VIX using Huber (robust to spikes)\n",
    "df = impute_missing(\n",
    "    df,\n",
    "    target_col=\"linchpin__vix_index\",\n",
    "    predictor_cols=[\"linchpin__federal_funds_rate\", \"linchpin__consumer_sentiment_index\"],\n",
    "    use_huber=True,\n",
    "    manual_years=[2008, 2020]\n",
    ")\n",
    "\n",
    "# 🧠 Impute Jobless Claims using Ridge + z-score normalization\n",
    "df = impute_with_zscore(\n",
    "    df,\n",
    "    target_col=\"linchpin__initial_jobless_claims\",\n",
    "    predictor_cols=[\n",
    "        \"linchpin__unemployment_rate\",\n",
    "        \"linchpin__consumer_sentiment_index\",\n",
    "        \"linchpin__gdp_growth\",\n",
    "        \"linchpin__industrial_production\"\n",
    "    ],\n",
    "    manual_years=[2008, 2020]\n",
    ")\n",
    "\n",
    "df = fallback_impute_first_pmi_row(df)\n",
    "\n",
    "# 📌 Final edge-case imputation sweep\n",
    "df = df.ffill().bfill()\n",
    "\n",
    "# 💾 Save final cleaned dataset\n",
    "df.to_csv(\"../linchpin_batches/Batch_Linchpin_01.csv\")\n",
    "print(\"✅ Saved Batch_Linchpin_01.csv\")"
   ]
  },
  {
   "cell_type": "code",
   "execution_count": 5,
   "id": "26d3d6f2-5d28-4a32-bfe1-0dd838673156",
   "metadata": {},
   "outputs": [],
   "source": [
    "# df.head()"
   ]
  },
  {
   "cell_type": "markdown",
   "id": "d30f564a-0254-44f7-9f8f-e9ea921dbbb5",
   "metadata": {},
   "source": [
    "### ✅ Batch 1 Coverage Summary\n",
    "\n",
    "| Feature                              | Status               | Notes                                 |\n",
    "|--------------------------------------|----------------------|----------------------------------------|\n",
    "| `linchpin__gdp_growth`               | ✅ Done              | From FRED: `GDP`                       |\n",
    "| `linchpin__cpi_inflation`            | ✅ Done              | From FRED: `CPIAUCSL`                  |\n",
    "| `linchpin__unemployment_rate`        | ✅ Done              | From FRED: `UNRATE`                    |\n",
    "| `linchpin__vix_index`                | ✅ Done              | From FRED: `VIXCLS`                    |\n",
    "| `linchpin__10y_treasury_yield`       | ✅ Done              | From FRED: `GS10`                      |\n",
    "| `linchpin__federal_funds_rate`       | ✅ Done              | From FRED: `FEDFUNDS`                  |\n",
    "| `linchpin__consumer_sentiment_index` | ✅ Done              | From FRED: `UMCSENT`                   |\n",
    "| `linchpin__pmi_manufacturing`        | ✅ Engineered        | Proxy via IP, hours, and orders        |\n",
    "| `linchpin__housing_starts`           | ✅ Done              | From FRED: `HOUST`                     |\n",
    "| `linchpin__initial_jobless_claims`   | ✅ Done + Imputed    | From FRED: `ICSA`                      |"
   ]
  },
  {
   "cell_type": "code",
   "execution_count": null,
   "id": "e2a29e47-897f-4a5c-b14f-24ed69c659d2",
   "metadata": {},
   "outputs": [],
   "source": [
    "####################################################\n",
    "####################################################\n",
    "### BELOW CONTAINS DEPRECATED CODE CELLS ###########\n",
    "### IN NO PARTICULAR ORDER, WITH NO GUARANTEE ######\n",
    "### OF ANY PARTICULAR USEFULNESS WITH REGARD TO: ###\n",
    "### DEBUGGING/CODE TRACING EFFORTS #################\n",
    "####################################################\n",
    "####################################################"
   ]
  },
  {
   "cell_type": "code",
   "execution_count": null,
   "id": "641a0efb-48f8-4523-9225-c4c7d74c6d0c",
   "metadata": {},
   "outputs": [],
   "source": [
    "# df = load_linchpin_features(API_KEY)\n",
    "\n",
    "# # Impute VIX\n",
    "# df = impute_missing(\n",
    "#     df,\n",
    "#     target_col=\"linchpin__vix_index\",\n",
    "#     predictor_cols=[\"linchpin__federal_funds_rate\", \"linchpin__consumer_sentiment_index\"],\n",
    "#     use_huber=True,\n",
    "#     manual_years=[2008, 2020]\n",
    "# )\n",
    "\n",
    "# # Save final result\n",
    "# df.to_csv(\"../linchpin_batches/Batch_Linchpin_01.csv\")\n",
    "# print(\"✅ Saved Batch_Linchpin_01.csv\")\n",
    "\n",
    "# fred = Fred(api_key=\"YOUR API KEY HERE\")\n",
    "# start_date = \"2000-01-01\"\n",
    "# end_date = \"2024-01-01\"\n",
    "# freq = \"ME\"\n",
    "\n",
    "# # ✅ Define feature mapping\n",
    "# features = {\n",
    "#     \"GDP\": \"linchpin__gdp_growth\",\n",
    "#     \"CPIAUCSL\": \"linchpin__cpi_inflation\",\n",
    "#     \"UNRATE\": \"linchpin__unemployment_rate\",\n",
    "#     \"VIXCLS\": \"linchpin__vix_index\",\n",
    "#     \"GS10\": \"linchpin__10y_treasury_yield\",\n",
    "#     \"FEDFUNDS\": \"linchpin__federal_funds_rate\",\n",
    "#     \"UMCSENT\": \"linchpin__consumer_sentiment_index\",\n",
    "#     \"HOUST\": \"linchpin__housing_starts\",\n",
    "#     \"ICSA\": \"linchpin__initial_jobless_claims\",\n",
    "#     \"INDPRO\": \"industrial_production\",\n",
    "#     \"AWHMAN\": \"manufacturing_hours\",\n",
    "#     \"DGORDER\": \"durable_goods_orders\"  # ✅ Fixed here\n",
    "# }\n",
    "\n",
    "# # 📦 Pull data\n",
    "# df = pd.DataFrame()\n",
    "\n",
    "# for code, alias in features.items():\n",
    "#     try:\n",
    "#         series = fred.get_series(code, observation_start=start_date, observation_end=end_date)\n",
    "#         df[alias] = series\n",
    "#         print(f\"✅ Loaded {alias}\")\n",
    "#     except Exception as e:\n",
    "#         print(f\"❌ Failed to load {alias}: {e}\")\n",
    "\n",
    "# # 🧠 Create proxy PMI\n",
    "# try:\n",
    "#     df[\"linchpin__pmi_manufacturing\"] = (\n",
    "#         df[\"industrial_production\"].pct_change() * 0.4 +\n",
    "#         df[\"manufacturing_hours\"].pct_change() * 0.3 +\n",
    "#         df[\"durable_goods_orders\"].pct_change() * 0.3\n",
    "#     )\n",
    "#     print(\"✅ Created linchpin__pmi_manufacturing from proxy components\")\n",
    "# except Exception as e:\n",
    "#     print(f\"❌ Failed to create linchpin__pmi_manufacturing: {e}\")\n",
    "\n",
    "# # 🧼 Clean\n",
    "# df.index.name = \"date\"\n",
    "# df = df.resample(freq).mean().dropna(how=\"all\")\n",
    "\n",
    "# # Example: Impute missing VIX using interest rate + sentiment\n",
    "# df = impute_missing(\n",
    "#     df,\n",
    "#     target_col=\"linchpin__vix_index\",\n",
    "#     predictor_cols=[\"linchpin__federal_funds_rate\", \"linchpin__consumer_sentiment_index\"],\n",
    "#     use_huber=True,\n",
    "#     manual_years=[2008, 2020]\n",
    "# )\n",
    "\n",
    "# # 💾 Save\n",
    "# os.makedirs(\"linchpin_batches\", exist_ok=True)\n",
    "# df.to_csv(\"../linchpin_batches/Batch_Linchpin_01.csv\")\n",
    "# print(\"✅ Saved Batch_Linchpin_01.csv\")"
   ]
  },
  {
   "cell_type": "code",
   "execution_count": 5,
   "id": "6036b17b-6955-488c-a4ec-1458ec0d3fe4",
   "metadata": {},
   "outputs": [],
   "source": [
    "# API_KEY = \"YOUR API KEY HERE\"\n",
    "\n",
    "# df = load_linchpin_features(API_KEY)\n",
    "\n",
    "# # Impute VIX\n",
    "# df = impute_missing(\n",
    "#     df,\n",
    "#     target_col=\"linchpin__vix_index\",\n",
    "#     predictor_cols=[\"linchpin__federal_funds_rate\", \"linchpin__consumer_sentiment_index\"],\n",
    "#     use_huber=True,\n",
    "#     manual_years=[2008, 2020]\n",
    "# )\n",
    "\n",
    "# # Save final result\n",
    "# df.to_csv(\"../linchpin_batches/Batch_Linchpin_01.csv\")\n",
    "# print(\"✅ Saved Batch_Linchpin_01.csv\")"
   ]
  },
  {
   "cell_type": "code",
   "execution_count": null,
   "id": "2dcfc3c4-ce49-40c9-87de-f379fa17bfcc",
   "metadata": {},
   "outputs": [],
   "source": []
  }
 ],
 "metadata": {
  "kernelspec": {
   "display_name": "Python 3 (ipykernel)",
   "language": "python",
   "name": "python3"
  },
  "language_info": {
   "codemirror_mode": {
    "name": "ipython",
    "version": 3
   },
   "file_extension": ".py",
   "mimetype": "text/x-python",
   "name": "python",
   "nbconvert_exporter": "python",
   "pygments_lexer": "ipython3",
   "version": "3.11.5"
  }
 },
 "nbformat": 4,
 "nbformat_minor": 5
}
