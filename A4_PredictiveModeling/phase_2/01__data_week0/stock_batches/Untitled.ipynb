{
 "cells": [
  {
   "cell_type": "code",
   "execution_count": 1,
   "id": "afedf638-d169-410d-b1e4-2a101ed4f569",
   "metadata": {},
   "outputs": [
    {
     "name": "stdout",
     "output_type": "stream",
     "text": [
      "Lookup table saved as stock_metadata_lookup.csv\n"
     ]
    }
   ],
   "source": [
    "import pandas as pd\n",
    "\n",
    "# Load unified wide stock data\n",
    "unified_df = pd.read_csv(\"unified_stock_data.csv\")  # or your path\n",
    "\n",
    "# Load metadata (e.g., WSBStocks or other source)\n",
    "metadata_df = pd.read_csv(\"../wsbstocks.csv\")\n",
    "\n",
    "# Extract tickers from unified data column names\n",
    "tickers_in_data = sorted({col.split(\"_\")[-1] for col in unified_df.columns if \"_\" in col and col != \"Date\"})\n",
    "\n",
    "# Normalize metadata to uppercase and filter\n",
    "metadata_df[\"Ticker\"] = metadata_df[\"Symbol\"].str.upper()\n",
    "metadata_filtered = metadata_df[metadata_df[\"Ticker\"].isin(tickers_in_data)]\n",
    "\n",
    "# Create lookup table with relevant fields\n",
    "metadata_lookup = metadata_filtered[[\"Ticker\", \"Name\", \"Sector\", \"Industry\"]].drop_duplicates().sort_values(\"Ticker\")\n",
    "\n",
    "# Save the lookup table\n",
    "metadata_lookup.to_csv(\"stock_metadata_lookup.csv\", index=False)\n",
    "print(\"Lookup table saved as stock_metadata_lookup.csv\")"
   ]
  },
  {
   "cell_type": "code",
   "execution_count": null,
   "id": "cf693354-ac49-473e-b2c5-7a1753b42a07",
   "metadata": {},
   "outputs": [],
   "source": []
  }
 ],
 "metadata": {
  "kernelspec": {
   "display_name": "Python 3 (ipykernel)",
   "language": "python",
   "name": "python3"
  },
  "language_info": {
   "codemirror_mode": {
    "name": "ipython",
    "version": 3
   },
   "file_extension": ".py",
   "mimetype": "text/x-python",
   "name": "python",
   "nbconvert_exporter": "python",
   "pygments_lexer": "ipython3",
   "version": "3.11.5"
  }
 },
 "nbformat": 4,
 "nbformat_minor": 5
}
