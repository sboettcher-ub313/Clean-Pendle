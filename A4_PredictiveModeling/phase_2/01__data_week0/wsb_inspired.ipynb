{
 "cells": [
  {
   "cell_type": "code",
   "execution_count": 1,
   "id": "9ea0d16f-ec2e-4f1e-bb60-539c3fdbaf56",
   "metadata": {},
   "outputs": [
    {
     "name": "stdout",
     "output_type": "stream",
     "text": [
      "\n",
      "Downloading batch 0 to 24...\n"
     ]
    },
    {
     "name": "stderr",
     "output_type": "stream",
     "text": [
      "[*********************100%***********************]  25 of 25 completed\n",
      "\n",
      "3 Failed downloads:\n",
      "['AACB', 'ABPWW', 'ABLLW']: YFPricesMissingError('possibly delisted; no price data found  (1d 2000-01-01 -> 2025-04-09)')\n",
      "/var/folders/bq/_yk5zsn90t11g7lt1yn4v9w40000gn/T/ipykernel_52515/3504697734.py:31: PerformanceWarning: indexing past lexsort depth may impact performance.\n",
      "  if (ticker,) in batch_data.columns:\n"
     ]
    },
    {
     "name": "stdout",
     "output_type": "stream",
     "text": [
      "\n",
      "Downloading batch 25 to 49...\n"
     ]
    },
    {
     "name": "stderr",
     "output_type": "stream",
     "text": [
      "[*********************100%***********************]  25 of 25 completed\n",
      "\n",
      "2 Failed downloads:\n",
      "['ACONW', 'ABVEW']: YFPricesMissingError('possibly delisted; no price data found  (1d 2000-01-01 -> 2025-04-09)')\n",
      "/var/folders/bq/_yk5zsn90t11g7lt1yn4v9w40000gn/T/ipykernel_52515/3504697734.py:31: PerformanceWarning: indexing past lexsort depth may impact performance.\n",
      "  if (ticker,) in batch_data.columns:\n",
      "[*************         28%                       ]  7 of 25 completed"
     ]
    },
    {
     "name": "stdout",
     "output_type": "stream",
     "text": [
      "\n",
      "Downloading batch 50 to 74...\n"
     ]
    },
    {
     "name": "stderr",
     "output_type": "stream",
     "text": [
      "[*********************100%***********************]  25 of 25 completed\n",
      "\n",
      "2 Failed downloads:\n",
      "['ADSEW', 'ADNWW']: YFPricesMissingError('possibly delisted; no price data found  (1d 2000-01-01 -> 2025-04-09)')\n",
      "/var/folders/bq/_yk5zsn90t11g7lt1yn4v9w40000gn/T/ipykernel_52515/3504697734.py:31: PerformanceWarning: indexing past lexsort depth may impact performance.\n",
      "  if (ticker,) in batch_data.columns:\n",
      "[********              16%                       ]  4 of 25 completed"
     ]
    },
    {
     "name": "stdout",
     "output_type": "stream",
     "text": [
      "\n",
      "Downloading batch 75 to 99...\n"
     ]
    },
    {
     "name": "stderr",
     "output_type": "stream",
     "text": [
      "[*********************100%***********************]  25 of 25 completed\n",
      "\n",
      "4 Failed downloads:\n",
      "['ADVWW', 'AEVAW', 'AFRIW', 'AENTW']: YFPricesMissingError('possibly delisted; no price data found  (1d 2000-01-01 -> 2025-04-09)')\n",
      "/var/folders/bq/_yk5zsn90t11g7lt1yn4v9w40000gn/T/ipykernel_52515/3504697734.py:31: PerformanceWarning: indexing past lexsort depth may impact performance.\n",
      "  if (ticker,) in batch_data.columns:\n",
      "[********              16%                       ]  4 of 25 completed"
     ]
    },
    {
     "name": "stdout",
     "output_type": "stream",
     "text": [
      "\n",
      "Downloading batch 100 to 124...\n"
     ]
    },
    {
     "name": "stderr",
     "output_type": "stream",
     "text": [
      "[*********************100%***********************]  25 of 25 completed\n",
      "\n",
      "2 Failed downloads:\n",
      "['AIMAW', 'AIMDW']: YFPricesMissingError('possibly delisted; no price data found  (1d 2000-01-01 -> 2025-04-09)')\n",
      "/var/folders/bq/_yk5zsn90t11g7lt1yn4v9w40000gn/T/ipykernel_52515/3504697734.py:31: PerformanceWarning: indexing past lexsort depth may impact performance.\n",
      "  if (ticker,) in batch_data.columns:\n",
      "[************          24%                       ]  6 of 25 completed"
     ]
    },
    {
     "name": "stdout",
     "output_type": "stream",
     "text": [
      "\n",
      "Downloading batch 125 to 149...\n"
     ]
    },
    {
     "name": "stderr",
     "output_type": "stream",
     "text": [
      "[*********************100%***********************]  25 of 25 completed\n",
      "\n",
      "3 Failed downloads:\n",
      "['AISPW', 'AITRR', 'AIRJW']: YFPricesMissingError('possibly delisted; no price data found  (1d 2000-01-01 -> 2025-04-09)')\n",
      "/var/folders/bq/_yk5zsn90t11g7lt1yn4v9w40000gn/T/ipykernel_52515/3504697734.py:31: PerformanceWarning: indexing past lexsort depth may impact performance.\n",
      "  if (ticker,) in batch_data.columns:\n",
      "[************          24%                       ]  6 of 25 completed"
     ]
    },
    {
     "name": "stdout",
     "output_type": "stream",
     "text": [
      "\n",
      "Downloading batch 150 to 174...\n"
     ]
    },
    {
     "name": "stderr",
     "output_type": "stream",
     "text": [
      "[*********************100%***********************]  25 of 25 completed\n",
      "\n",
      "1 Failed download:\n",
      "['ALFUW']: YFPricesMissingError('possibly delisted; no price data found  (1d 2000-01-01 -> 2025-04-09)')\n",
      "/var/folders/bq/_yk5zsn90t11g7lt1yn4v9w40000gn/T/ipykernel_52515/3504697734.py:31: PerformanceWarning: indexing past lexsort depth may impact performance.\n",
      "  if (ticker,) in batch_data.columns:\n",
      "[****                   8%                       ]  2 of 25 completed"
     ]
    },
    {
     "name": "stdout",
     "output_type": "stream",
     "text": [
      "\n",
      "Downloading batch 175 to 199...\n"
     ]
    },
    {
     "name": "stderr",
     "output_type": "stream",
     "text": [
      "[*********************100%***********************]  25 of 25 completed\n",
      "\n",
      "2 Failed downloads:\n",
      "['AMODW', 'ALVOW']: YFPricesMissingError('possibly delisted; no price data found  (1d 2000-01-01 -> 2025-04-09)')\n",
      "/var/folders/bq/_yk5zsn90t11g7lt1yn4v9w40000gn/T/ipykernel_52515/3504697734.py:31: PerformanceWarning: indexing past lexsort depth may impact performance.\n",
      "  if (ticker,) in batch_data.columns:\n",
      "[********              16%                       ]  4 of 25 completed"
     ]
    },
    {
     "name": "stdout",
     "output_type": "stream",
     "text": [
      "\n",
      "Downloading batch 200 to 224...\n"
     ]
    },
    {
     "name": "stderr",
     "output_type": "stream",
     "text": [
      "[*********************100%***********************]  25 of 25 completed\n",
      "\n",
      "3 Failed downloads:\n",
      "['ANNAW', 'ANSCW', 'ANGHW']: YFPricesMissingError('possibly delisted; no price data found  (1d 2000-01-01 -> 2025-04-09)')\n",
      "/var/folders/bq/_yk5zsn90t11g7lt1yn4v9w40000gn/T/ipykernel_52515/3504697734.py:31: PerformanceWarning: indexing past lexsort depth may impact performance.\n",
      "  if (ticker,) in batch_data.columns:\n",
      "[********              16%                       ]  4 of 25 completed"
     ]
    },
    {
     "name": "stdout",
     "output_type": "stream",
     "text": [
      "\n",
      "Downloading batch 225 to 249...\n"
     ]
    },
    {
     "name": "stderr",
     "output_type": "stream",
     "text": [
      "[*********************100%***********************]  25 of 25 completed\n",
      "\n",
      "1 Failed download:\n",
      "['APCXW']: YFPricesMissingError('possibly delisted; no price data found  (1d 2000-01-01 -> 2025-04-09)')\n",
      "/var/folders/bq/_yk5zsn90t11g7lt1yn4v9w40000gn/T/ipykernel_52515/3504697734.py:31: PerformanceWarning: indexing past lexsort depth may impact performance.\n",
      "  if (ticker,) in batch_data.columns:\n",
      "[                       0%                       ]"
     ]
    },
    {
     "name": "stdout",
     "output_type": "stream",
     "text": [
      "\n",
      "Downloading batch 250 to 274...\n"
     ]
    },
    {
     "name": "stderr",
     "output_type": "stream",
     "text": [
      "[*********************100%***********************]  25 of 25 completed\n",
      "\n",
      "3 Failed downloads:\n",
      "['ARBEW', 'AREBW', 'ARKOW']: YFPricesMissingError('possibly delisted; no price data found  (1d 2000-01-01 -> 2025-04-09)')\n",
      "/var/folders/bq/_yk5zsn90t11g7lt1yn4v9w40000gn/T/ipykernel_52515/3504697734.py:31: PerformanceWarning: indexing past lexsort depth may impact performance.\n",
      "  if (ticker,) in batch_data.columns:\n",
      "[********              16%                       ]  4 of 25 completed"
     ]
    },
    {
     "name": "stdout",
     "output_type": "stream",
     "text": [
      "\n",
      "Downloading batch 275 to 299...\n"
     ]
    },
    {
     "name": "stderr",
     "output_type": "stream",
     "text": [
      "[*********************100%***********************]  25 of 25 completed\n",
      "/var/folders/bq/_yk5zsn90t11g7lt1yn4v9w40000gn/T/ipykernel_52515/3504697734.py:31: PerformanceWarning: indexing past lexsort depth may impact performance.\n",
      "  if (ticker,) in batch_data.columns:\n",
      "[**********            20%                       ]  5 of 25 completed"
     ]
    },
    {
     "name": "stdout",
     "output_type": "stream",
     "text": [
      "\n",
      "Downloading batch 300 to 324...\n"
     ]
    },
    {
     "name": "stderr",
     "output_type": "stream",
     "text": [
      "[*********************100%***********************]  25 of 25 completed\n",
      "\n",
      "3 Failed downloads:\n",
      "['ASTLW', 'ATIIW', 'ATII']: YFPricesMissingError('possibly delisted; no price data found  (1d 2000-01-01 -> 2025-04-09)')\n",
      "/var/folders/bq/_yk5zsn90t11g7lt1yn4v9w40000gn/T/ipykernel_52515/3504697734.py:31: PerformanceWarning: indexing past lexsort depth may impact performance.\n",
      "  if (ticker,) in batch_data.columns:\n",
      "[****                   8%                       ]  2 of 25 completed"
     ]
    },
    {
     "name": "stdout",
     "output_type": "stream",
     "text": [
      "\n",
      "Downloading batch 325 to 349...\n"
     ]
    },
    {
     "name": "stderr",
     "output_type": "stream",
     "text": [
      "[*********************100%***********************]  25 of 25 completed\n",
      "\n",
      "2 Failed downloads:\n",
      "['ATMVR', 'ATNFW']: YFPricesMissingError('possibly delisted; no price data found  (1d 2000-01-01 -> 2025-04-09)')\n",
      "/var/folders/bq/_yk5zsn90t11g7lt1yn4v9w40000gn/T/ipykernel_52515/3504697734.py:31: PerformanceWarning: indexing past lexsort depth may impact performance.\n",
      "  if (ticker,) in batch_data.columns:\n",
      "[**********            20%                       ]  5 of 25 completed"
     ]
    },
    {
     "name": "stdout",
     "output_type": "stream",
     "text": [
      "\n",
      "Downloading batch 350 to 374...\n"
     ]
    },
    {
     "name": "stderr",
     "output_type": "stream",
     "text": [
      "[*********************100%***********************]  25 of 25 completed\n",
      "\n",
      "3 Failed downloads:\n",
      "['AVPTW', 'AUUDW', 'AUROW']: YFPricesMissingError('possibly delisted; no price data found  (1d 2000-01-01 -> 2025-04-09)')\n",
      "/var/folders/bq/_yk5zsn90t11g7lt1yn4v9w40000gn/T/ipykernel_52515/3504697734.py:31: PerformanceWarning: indexing past lexsort depth may impact performance.\n",
      "  if (ticker,) in batch_data.columns:\n",
      "[********              16%                       ]  4 of 25 completed"
     ]
    },
    {
     "name": "stdout",
     "output_type": "stream",
     "text": [
      "\n",
      "Downloading batch 375 to 399...\n"
     ]
    },
    {
     "name": "stderr",
     "output_type": "stream",
     "text": [
      "[*********************100%***********************]  25 of 25 completed\n",
      "\n",
      "1 Failed download:\n",
      "['BAERW']: YFPricesMissingError('possibly delisted; no price data found  (1d 2000-01-01 -> 2025-04-09)')\n",
      "/var/folders/bq/_yk5zsn90t11g7lt1yn4v9w40000gn/T/ipykernel_52515/3504697734.py:31: PerformanceWarning: indexing past lexsort depth may impact performance.\n",
      "  if (ticker,) in batch_data.columns:\n",
      "[******                12%                       ]  3 of 25 completed"
     ]
    },
    {
     "name": "stdout",
     "output_type": "stream",
     "text": [
      "\n",
      "Downloading batch 400 to 424...\n"
     ]
    },
    {
     "name": "stderr",
     "output_type": "stream",
     "text": [
      "[*********************100%***********************]  25 of 25 completed\n",
      "\n",
      "3 Failed downloads:\n",
      "['BCTXW', 'BCGWW', 'BDMDW']: YFPricesMissingError('possibly delisted; no price data found  (1d 2000-01-01 -> 2025-04-09)')\n",
      "/var/folders/bq/_yk5zsn90t11g7lt1yn4v9w40000gn/T/ipykernel_52515/3504697734.py:31: PerformanceWarning: indexing past lexsort depth may impact performance.\n",
      "  if (ticker,) in batch_data.columns:\n",
      "[**********            20%                       ]  5 of 25 completed"
     ]
    },
    {
     "name": "stdout",
     "output_type": "stream",
     "text": [
      "\n",
      "Downloading batch 425 to 449...\n"
     ]
    },
    {
     "name": "stderr",
     "output_type": "stream",
     "text": [
      "[*********************100%***********************]  25 of 25 completed\n",
      "\n",
      "4 Failed downloads:\n",
      "['BEAGR', 'BFRGW', 'BENFW', 'BEATW']: YFPricesMissingError('possibly delisted; no price data found  (1d 2000-01-01 -> 2025-04-09)')\n",
      "/var/folders/bq/_yk5zsn90t11g7lt1yn4v9w40000gn/T/ipykernel_52515/3504697734.py:31: PerformanceWarning: indexing past lexsort depth may impact performance.\n",
      "  if (ticker,) in batch_data.columns:\n",
      "[******                12%                       ]  3 of 25 completed"
     ]
    },
    {
     "name": "stdout",
     "output_type": "stream",
     "text": [
      "\n",
      "Downloading batch 450 to 474...\n"
     ]
    },
    {
     "name": "stderr",
     "output_type": "stream",
     "text": [
      "[*********************100%***********************]  25 of 25 completed\n",
      "\n",
      "2 Failed downloads:\n",
      "['BIAFW', 'BKHAR']: YFPricesMissingError('possibly delisted; no price data found  (1d 2000-01-01 -> 2025-04-09)')\n",
      "/var/folders/bq/_yk5zsn90t11g7lt1yn4v9w40000gn/T/ipykernel_52515/3504697734.py:31: PerformanceWarning: indexing past lexsort depth may impact performance.\n",
      "  if (ticker,) in batch_data.columns:\n",
      "[************          24%                       ]  6 of 25 completed"
     ]
    },
    {
     "name": "stdout",
     "output_type": "stream",
     "text": [
      "\n",
      "Downloading batch 475 to 499...\n"
     ]
    },
    {
     "name": "stderr",
     "output_type": "stream",
     "text": [
      "[*********************100%***********************]  25 of 25 completed\n",
      "\n",
      "2 Failed downloads:\n",
      "['BLIV', 'BLDEW']: YFPricesMissingError('possibly delisted; no price data found  (1d 2000-01-01 -> 2025-04-09)')\n",
      "/var/folders/bq/_yk5zsn90t11g7lt1yn4v9w40000gn/T/ipykernel_52515/3504697734.py:31: PerformanceWarning: indexing past lexsort depth may impact performance.\n",
      "  if (ticker,) in batch_data.columns:\n",
      "[*************         28%                       ]  7 of 25 completed"
     ]
    },
    {
     "name": "stdout",
     "output_type": "stream",
     "text": [
      "\n",
      "Downloading batch 500 to 524...\n"
     ]
    },
    {
     "name": "stderr",
     "output_type": "stream",
     "text": [
      "[*********************100%***********************]  25 of 25 completed\n",
      "\n",
      "3 Failed downloads:\n",
      "['BNZIW', 'BOWNR', 'BNAIW']: YFPricesMissingError('possibly delisted; no price data found  (1d 2000-01-01 -> 2025-04-09)')\n",
      "/var/folders/bq/_yk5zsn90t11g7lt1yn4v9w40000gn/T/ipykernel_52515/3504697734.py:31: PerformanceWarning: indexing past lexsort depth may impact performance.\n",
      "  if (ticker,) in batch_data.columns:\n",
      "[                       0%                       ]"
     ]
    },
    {
     "name": "stdout",
     "output_type": "stream",
     "text": [
      "\n",
      "Downloading batch 525 to 549...\n"
     ]
    },
    {
     "name": "stderr",
     "output_type": "stream",
     "text": [
      "[*********************100%***********************]  25 of 25 completed\n",
      "\n",
      "2 Failed downloads:\n",
      "['BSIIW', 'BSLKW']: YFPricesMissingError('possibly delisted; no price data found  (1d 2000-01-01 -> 2025-04-09)')\n",
      "/var/folders/bq/_yk5zsn90t11g7lt1yn4v9w40000gn/T/ipykernel_52515/3504697734.py:31: PerformanceWarning: indexing past lexsort depth may impact performance.\n",
      "  if (ticker,) in batch_data.columns:\n",
      "[*****************     36%                       ]  9 of 25 completed"
     ]
    },
    {
     "name": "stdout",
     "output_type": "stream",
     "text": [
      "\n",
      "Downloading batch 550 to 574...\n"
     ]
    },
    {
     "name": "stderr",
     "output_type": "stream",
     "text": [
      "[*********************100%***********************]  25 of 25 completed\n",
      "\n",
      "2 Failed downloads:\n",
      "['BUJAR', 'BTMWW']: YFPricesMissingError('possibly delisted; no price data found  (1d 2000-01-01 -> 2025-04-09)')\n",
      "/var/folders/bq/_yk5zsn90t11g7lt1yn4v9w40000gn/T/ipykernel_52515/3504697734.py:31: PerformanceWarning: indexing past lexsort depth may impact performance.\n",
      "  if (ticker,) in batch_data.columns:\n",
      "[******                12%                       ]  3 of 25 completed"
     ]
    },
    {
     "name": "stdout",
     "output_type": "stream",
     "text": [
      "\n",
      "Downloading batch 575 to 599...\n"
     ]
    },
    {
     "name": "stderr",
     "output_type": "stream",
     "text": [
      "[*********************100%***********************]  25 of 25 completed\n",
      "\n",
      "2 Failed downloads:\n",
      "['BZAIW', 'BZFDW']: YFPricesMissingError('possibly delisted; no price data found  (1d 2000-01-01 -> 2025-04-09)')\n",
      "/var/folders/bq/_yk5zsn90t11g7lt1yn4v9w40000gn/T/ipykernel_52515/3504697734.py:31: PerformanceWarning: indexing past lexsort depth may impact performance.\n",
      "  if (ticker,) in batch_data.columns:\n",
      "[****                   8%                       ]  2 of 25 completed"
     ]
    },
    {
     "name": "stdout",
     "output_type": "stream",
     "text": [
      "\n",
      "Downloading batch 600 to 624...\n"
     ]
    },
    {
     "name": "stderr",
     "output_type": "stream",
     "text": [
      "[*********************100%***********************]  25 of 25 completed\n",
      "/var/folders/bq/_yk5zsn90t11g7lt1yn4v9w40000gn/T/ipykernel_52515/3504697734.py:31: PerformanceWarning: indexing past lexsort depth may impact performance.\n",
      "  if (ticker,) in batch_data.columns:\n",
      "[************          24%                       ]  6 of 25 completed"
     ]
    },
    {
     "name": "stdout",
     "output_type": "stream",
     "text": [
      "\n",
      "Downloading batch 625 to 649...\n"
     ]
    },
    {
     "name": "stderr",
     "output_type": "stream",
     "text": [
      "[*********************100%***********************]  25 of 25 completed\n",
      "\n",
      "2 Failed downloads:\n",
      "['CCIRW', 'CDIOW']: YFPricesMissingError('possibly delisted; no price data found  (1d 2000-01-01 -> 2025-04-09)')\n",
      "/var/folders/bq/_yk5zsn90t11g7lt1yn4v9w40000gn/T/ipykernel_52515/3504697734.py:31: PerformanceWarning: indexing past lexsort depth may impact performance.\n",
      "  if (ticker,) in batch_data.columns:\n",
      "[                       0%                       ]"
     ]
    },
    {
     "name": "stdout",
     "output_type": "stream",
     "text": [
      "\n",
      "Downloading batch 650 to 674...\n"
     ]
    },
    {
     "name": "stderr",
     "output_type": "stream",
     "text": [
      "[*********************100%***********************]  25 of 25 completed\n",
      "\n",
      "4 Failed downloads:\n",
      "['CELUW', 'CDTTW', 'CDROW', 'CEADW']: YFPricesMissingError('possibly delisted; no price data found  (1d 2000-01-01 -> 2025-04-09)')\n",
      "/var/folders/bq/_yk5zsn90t11g7lt1yn4v9w40000gn/T/ipykernel_52515/3504697734.py:31: PerformanceWarning: indexing past lexsort depth may impact performance.\n",
      "  if (ticker,) in batch_data.columns:\n",
      "[**********            20%                       ]  5 of 25 completed"
     ]
    },
    {
     "name": "stdout",
     "output_type": "stream",
     "text": [
      "\n",
      "Downloading batch 675 to 699...\n"
     ]
    },
    {
     "name": "stderr",
     "output_type": "stream",
     "text": [
      "[*********************100%***********************]  25 of 25 completed\n",
      "\n",
      "2 Failed downloads:\n",
      "['CGBSW', 'CEROW']: YFPricesMissingError('possibly delisted; no price data found  (1d 2000-01-01 -> 2025-04-09)')\n",
      "/var/folders/bq/_yk5zsn90t11g7lt1yn4v9w40000gn/T/ipykernel_52515/3504697734.py:31: PerformanceWarning: indexing past lexsort depth may impact performance.\n",
      "  if (ticker,) in batch_data.columns:\n",
      "[****                   8%                       ]  2 of 25 completed"
     ]
    },
    {
     "name": "stdout",
     "output_type": "stream",
     "text": [
      "\n",
      "Downloading batch 700 to 724...\n"
     ]
    },
    {
     "name": "stderr",
     "output_type": "stream",
     "text": [
      "[*********************100%***********************]  25 of 25 completed\n",
      "/var/folders/bq/_yk5zsn90t11g7lt1yn4v9w40000gn/T/ipykernel_52515/3504697734.py:31: PerformanceWarning: indexing past lexsort depth may impact performance.\n",
      "  if (ticker,) in batch_data.columns:\n",
      "[******                12%                       ]  3 of 25 completed"
     ]
    },
    {
     "name": "stdout",
     "output_type": "stream",
     "text": [
      "\n",
      "Downloading batch 725 to 749...\n"
     ]
    },
    {
     "name": "stderr",
     "output_type": "stream",
     "text": [
      "[*********************100%***********************]  25 of 25 completed\n",
      "\n",
      "2 Failed downloads:\n",
      "['CINGW', 'CIFRW']: YFPricesMissingError('possibly delisted; no price data found  (1d 2000-01-01 -> 2025-04-09)')\n",
      "/var/folders/bq/_yk5zsn90t11g7lt1yn4v9w40000gn/T/ipykernel_52515/3504697734.py:31: PerformanceWarning: indexing past lexsort depth may impact performance.\n",
      "  if (ticker,) in batch_data.columns:\n",
      "[****                   8%                       ]  2 of 25 completed"
     ]
    },
    {
     "name": "stdout",
     "output_type": "stream",
     "text": [
      "\n",
      "Downloading batch 750 to 774...\n"
     ]
    },
    {
     "name": "stderr",
     "output_type": "stream",
     "text": [
      "[*********************100%***********************]  25 of 25 completed\n",
      "\n",
      "3 Failed downloads:\n",
      "['CLSKW', 'CLRCR', 'CLRCW']: YFPricesMissingError('possibly delisted; no price data found  (1d 2000-01-01 -> 2025-04-09)')\n",
      "/var/folders/bq/_yk5zsn90t11g7lt1yn4v9w40000gn/T/ipykernel_52515/3504697734.py:31: PerformanceWarning: indexing past lexsort depth may impact performance.\n",
      "  if (ticker,) in batch_data.columns:\n",
      "[********              16%                       ]  4 of 25 completed"
     ]
    },
    {
     "name": "stdout",
     "output_type": "stream",
     "text": [
      "\n",
      "Downloading batch 775 to 799...\n"
     ]
    },
    {
     "name": "stderr",
     "output_type": "stream",
     "text": [
      "[*********************100%***********************]  25 of 25 completed\n",
      "\n",
      "2 Failed downloads:\n",
      "['CNCKW', 'CMPOW']: YFPricesMissingError('possibly delisted; no price data found  (1d 2000-01-01 -> 2025-04-09)')\n",
      "/var/folders/bq/_yk5zsn90t11g7lt1yn4v9w40000gn/T/ipykernel_52515/3504697734.py:31: PerformanceWarning: indexing past lexsort depth may impact performance.\n",
      "  if (ticker,) in batch_data.columns:\n",
      "[*************         28%                       ]  7 of 25 completed"
     ]
    },
    {
     "name": "stdout",
     "output_type": "stream",
     "text": [
      "\n",
      "Downloading batch 800 to 824...\n"
     ]
    },
    {
     "name": "stderr",
     "output_type": "stream",
     "text": [
      "[*********************100%***********************]  25 of 25 completed\n",
      "\n",
      "4 Failed downloads:\n",
      "['CORZZ', 'COEPW', 'CORZW', 'COCHW']: YFPricesMissingError('possibly delisted; no price data found  (1d 2000-01-01 -> 2025-04-09)')\n",
      "/var/folders/bq/_yk5zsn90t11g7lt1yn4v9w40000gn/T/ipykernel_52515/3504697734.py:31: PerformanceWarning: indexing past lexsort depth may impact performance.\n",
      "  if (ticker,) in batch_data.columns:\n",
      "[********              16%                       ]  4 of 25 completed"
     ]
    },
    {
     "name": "stdout",
     "output_type": "stream",
     "text": [
      "\n",
      "Downloading batch 825 to 849...\n"
     ]
    },
    {
     "name": "stderr",
     "output_type": "stream",
     "text": [
      "[*********************100%***********************]  25 of 25 completed\n",
      "\n",
      "2 Failed downloads:\n",
      "['CRESW', 'CREVW']: YFPricesMissingError('possibly delisted; no price data found  (1d 2000-01-01 -> 2025-04-09)')\n",
      "/var/folders/bq/_yk5zsn90t11g7lt1yn4v9w40000gn/T/ipykernel_52515/3504697734.py:31: PerformanceWarning: indexing past lexsort depth may impact performance.\n",
      "  if (ticker,) in batch_data.columns:\n",
      "[**********            20%                       ]  5 of 25 completed"
     ]
    },
    {
     "name": "stdout",
     "output_type": "stream",
     "text": [
      "\n",
      "Downloading batch 850 to 874...\n"
     ]
    },
    {
     "name": "stderr",
     "output_type": "stream",
     "text": [
      "[*********************100%***********************]  25 of 25 completed\n",
      "\n",
      "2 Failed downloads:\n",
      "['CRGOW', 'CRMLW']: YFPricesMissingError('possibly delisted; no price data found  (1d 2000-01-01 -> 2025-04-09)')\n",
      "/var/folders/bq/_yk5zsn90t11g7lt1yn4v9w40000gn/T/ipykernel_52515/3504697734.py:31: PerformanceWarning: indexing past lexsort depth may impact performance.\n",
      "  if (ticker,) in batch_data.columns:\n",
      "[*************         28%                       ]  7 of 25 completed"
     ]
    },
    {
     "name": "stdout",
     "output_type": "stream",
     "text": [
      "\n",
      "Downloading batch 875 to 899...\n"
     ]
    },
    {
     "name": "stderr",
     "output_type": "stream",
     "text": [
      "[*********************100%***********************]  25 of 25 completed\n",
      "\n",
      "1 Failed download:\n",
      "['CSLRW']: YFPricesMissingError('possibly delisted; no price data found  (1d 2000-01-01 -> 2025-04-09)')\n",
      "/var/folders/bq/_yk5zsn90t11g7lt1yn4v9w40000gn/T/ipykernel_52515/3504697734.py:31: PerformanceWarning: indexing past lexsort depth may impact performance.\n",
      "  if (ticker,) in batch_data.columns:\n",
      "[********              16%                       ]  4 of 25 completed"
     ]
    },
    {
     "name": "stdout",
     "output_type": "stream",
     "text": [
      "\n",
      "Downloading batch 900 to 924...\n"
     ]
    },
    {
     "name": "stderr",
     "output_type": "stream",
     "text": [
      "[*********************100%***********************]  25 of 25 completed\n",
      "\n",
      "2 Failed downloads:\n",
      "['CUBWW', 'CURIW']: YFPricesMissingError('possibly delisted; no price data found  (1d 2000-01-01 -> 2025-04-09)')\n",
      "/var/folders/bq/_yk5zsn90t11g7lt1yn4v9w40000gn/T/ipykernel_52515/3504697734.py:31: PerformanceWarning: indexing past lexsort depth may impact performance.\n",
      "  if (ticker,) in batch_data.columns:\n",
      "[******                12%                       ]  3 of 25 completed"
     ]
    },
    {
     "name": "stdout",
     "output_type": "stream",
     "text": [
      "\n",
      "Downloading batch 925 to 949...\n"
     ]
    },
    {
     "name": "stderr",
     "output_type": "stream",
     "text": [
      "[*********************100%***********************]  25 of 25 completed\n",
      "\n",
      "2 Failed downloads:\n",
      "['CYCUW', 'CXAIW']: YFPricesMissingError('possibly delisted; no price data found  (1d 2000-01-01 -> 2025-04-09)')\n",
      "/var/folders/bq/_yk5zsn90t11g7lt1yn4v9w40000gn/T/ipykernel_52515/3504697734.py:31: PerformanceWarning: indexing past lexsort depth may impact performance.\n",
      "  if (ticker,) in batch_data.columns:\n",
      "[********              16%                       ]  4 of 25 completed"
     ]
    },
    {
     "name": "stdout",
     "output_type": "stream",
     "text": [
      "\n",
      "Downloading batch 950 to 974...\n"
     ]
    },
    {
     "name": "stderr",
     "output_type": "stream",
     "text": [
      "[*********************100%***********************]  25 of 25 completed\n",
      "\n",
      "3 Failed downloads:\n",
      "['DECAW', 'DAVEW', 'DFLIW']: YFPricesMissingError('possibly delisted; no price data found  (1d 2000-01-01 -> 2025-04-09)')\n",
      "/var/folders/bq/_yk5zsn90t11g7lt1yn4v9w40000gn/T/ipykernel_52515/3504697734.py:31: PerformanceWarning: indexing past lexsort depth may impact performance.\n",
      "  if (ticker,) in batch_data.columns:\n",
      "[*************         28%                       ]  7 of 25 completed"
     ]
    },
    {
     "name": "stdout",
     "output_type": "stream",
     "text": [
      "\n",
      "Downloading batch 975 to 999...\n"
     ]
    },
    {
     "name": "stderr",
     "output_type": "stream",
     "text": [
      "[*********************100%***********************]  25 of 25 completed\n",
      "\n",
      "4 Failed downloads:\n",
      "['DHCNL', 'DMAAR', 'DHAIW', 'DISTR']: YFPricesMissingError('possibly delisted; no price data found  (1d 2000-01-01 -> 2025-04-09)')\n",
      "/var/folders/bq/_yk5zsn90t11g7lt1yn4v9w40000gn/T/ipykernel_52515/3504697734.py:31: PerformanceWarning: indexing past lexsort depth may impact performance.\n",
      "  if (ticker,) in batch_data.columns:\n"
     ]
    },
    {
     "name": "stdout",
     "output_type": "stream",
     "text": [
      "\n",
      "Downloading batch 1000 to 1024...\n"
     ]
    },
    {
     "name": "stderr",
     "output_type": "stream",
     "text": [
      "[*********************100%***********************]  25 of 25 completed\n",
      "\n",
      "1 Failed download:\n",
      "['DRDBW']: YFPricesMissingError('possibly delisted; no price data found  (1d 2000-01-01 -> 2025-04-09)')\n",
      "/var/folders/bq/_yk5zsn90t11g7lt1yn4v9w40000gn/T/ipykernel_52515/3504697734.py:31: PerformanceWarning: indexing past lexsort depth may impact performance.\n",
      "  if (ticker,) in batch_data.columns:\n",
      "[********              16%                       ]  4 of 25 completed"
     ]
    },
    {
     "name": "stdout",
     "output_type": "stream",
     "text": [
      "\n",
      "Downloading batch 1025 to 1049...\n"
     ]
    },
    {
     "name": "stderr",
     "output_type": "stream",
     "text": [
      "[*********************100%***********************]  25 of 25 completed\n",
      "\n",
      "4 Failed downloads:\n",
      "['DSYWW', 'DTSQR', 'DTSTW', 'DRTSW']: YFPricesMissingError('possibly delisted; no price data found  (1d 2000-01-01 -> 2025-04-09)')\n",
      "/var/folders/bq/_yk5zsn90t11g7lt1yn4v9w40000gn/T/ipykernel_52515/3504697734.py:31: PerformanceWarning: indexing past lexsort depth may impact performance.\n",
      "  if (ticker,) in batch_data.columns:\n",
      "[****                   8%                       ]  2 of 25 completed"
     ]
    },
    {
     "name": "stdout",
     "output_type": "stream",
     "text": [
      "\n",
      "Downloading batch 1050 to 1074...\n"
     ]
    },
    {
     "name": "stderr",
     "output_type": "stream",
     "text": [
      "[*********************100%***********************]  24 of 25 completed\n",
      "\n",
      "3 Failed downloads:\n",
      "['ECDAW', 'ECXWW', 'DYCQR']: YFPricesMissingError('possibly delisted; no price data found  (1d 2000-01-01 -> 2025-04-09)')\n",
      "/var/folders/bq/_yk5zsn90t11g7lt1yn4v9w40000gn/T/ipykernel_52515/3504697734.py:31: PerformanceWarning: indexing past lexsort depth may impact performance.\n",
      "  if (ticker,) in batch_data.columns:\n",
      "[********              16%                       ]  4 of 25 completed"
     ]
    },
    {
     "name": "stdout",
     "output_type": "stream",
     "text": [
      "\n",
      "Downloading batch 1075 to 1099...\n"
     ]
    },
    {
     "name": "stderr",
     "output_type": "stream",
     "text": [
      "[*********************100%***********************]  25 of 25 completed\n",
      "\n",
      "1 Failed download:\n",
      "['EDBLW']: YFPricesMissingError('possibly delisted; no price data found  (1d 2000-01-01 -> 2025-04-09)')\n",
      "/var/folders/bq/_yk5zsn90t11g7lt1yn4v9w40000gn/T/ipykernel_52515/3504697734.py:31: PerformanceWarning: indexing past lexsort depth may impact performance.\n",
      "  if (ticker,) in batch_data.columns:\n",
      "[***************       32%                       ]  8 of 25 completed"
     ]
    },
    {
     "name": "stdout",
     "output_type": "stream",
     "text": [
      "\n",
      "Downloading batch 1100 to 1124...\n"
     ]
    },
    {
     "name": "stderr",
     "output_type": "stream",
     "text": [
      "[*********************100%***********************]  25 of 25 completed\n",
      "\n",
      "2 Failed downloads:\n",
      "['ENGNW', 'EMCGW']: YFPricesMissingError('possibly delisted; no price data found  (1d 2000-01-01 -> 2025-04-09)')\n",
      "/var/folders/bq/_yk5zsn90t11g7lt1yn4v9w40000gn/T/ipykernel_52515/3504697734.py:31: PerformanceWarning: indexing past lexsort depth may impact performance.\n",
      "  if (ticker,) in batch_data.columns:\n",
      "[**********            20%                       ]  5 of 25 completed"
     ]
    },
    {
     "name": "stdout",
     "output_type": "stream",
     "text": [
      "\n",
      "Downloading batch 1125 to 1149...\n"
     ]
    },
    {
     "name": "stderr",
     "output_type": "stream",
     "text": [
      "[*********************100%***********************]  25 of 25 completed\n",
      "\n",
      "2 Failed downloads:\n",
      "['ESHAR', 'ESGLW']: YFPricesMissingError('possibly delisted; no price data found  (1d 2000-01-01 -> 2025-04-09)')\n",
      "/var/folders/bq/_yk5zsn90t11g7lt1yn4v9w40000gn/T/ipykernel_52515/3504697734.py:31: PerformanceWarning: indexing past lexsort depth may impact performance.\n",
      "  if (ticker,) in batch_data.columns:\n",
      "[******                12%                       ]  3 of 25 completed"
     ]
    },
    {
     "name": "stdout",
     "output_type": "stream",
     "text": [
      "\n",
      "Downloading batch 1150 to 1174...\n"
     ]
    },
    {
     "name": "stderr",
     "output_type": "stream",
     "text": [
      "[*********************100%***********************]  25 of 25 completed\n",
      "\n",
      "2 Failed downloads:\n",
      "['EVLVW', 'EUDAW']: YFPricesMissingError('possibly delisted; no price data found  (1d 2000-01-01 -> 2025-04-09)')\n",
      "/var/folders/bq/_yk5zsn90t11g7lt1yn4v9w40000gn/T/ipykernel_52515/3504697734.py:31: PerformanceWarning: indexing past lexsort depth may impact performance.\n",
      "  if (ticker,) in batch_data.columns:\n",
      "[**********            20%                       ]  5 of 25 completed"
     ]
    },
    {
     "name": "stdout",
     "output_type": "stream",
     "text": [
      "\n",
      "Downloading batch 1175 to 1199...\n"
     ]
    },
    {
     "name": "stderr",
     "output_type": "stream",
     "text": [
      "[*********************100%***********************]  25 of 25 completed\n",
      "\n",
      "1 Failed download:\n",
      "['FAASW']: YFPricesMissingError('possibly delisted; no price data found  (1d 2000-01-01 -> 2025-04-09)')\n",
      "/var/folders/bq/_yk5zsn90t11g7lt1yn4v9w40000gn/T/ipykernel_52515/3504697734.py:31: PerformanceWarning: indexing past lexsort depth may impact performance.\n",
      "  if (ticker,) in batch_data.columns:\n",
      "[**********            20%                       ]  5 of 25 completed"
     ]
    },
    {
     "name": "stdout",
     "output_type": "stream",
     "text": [
      "\n",
      "Downloading batch 1200 to 1224...\n"
     ]
    },
    {
     "name": "stderr",
     "output_type": "stream",
     "text": [
      "[*********************100%***********************]  25 of 25 completed\n",
      "\n",
      "3 Failed downloads:\n",
      "['FACTW', 'FBYDW', 'FATBW']: YFPricesMissingError('possibly delisted; no price data found  (1d 2000-01-01 -> 2025-04-09)')\n",
      "/var/folders/bq/_yk5zsn90t11g7lt1yn4v9w40000gn/T/ipykernel_52515/3504697734.py:31: PerformanceWarning: indexing past lexsort depth may impact performance.\n",
      "  if (ticker,) in batch_data.columns:\n",
      "[********              16%                       ]  4 of 25 completed"
     ]
    },
    {
     "name": "stdout",
     "output_type": "stream",
     "text": [
      "\n",
      "Downloading batch 1225 to 1249...\n"
     ]
    },
    {
     "name": "stderr",
     "output_type": "stream",
     "text": [
      "[*********************100%***********************]  25 of 25 completed\n",
      "\n",
      "1 Failed download:\n",
      "['FFAIW']: YFPricesMissingError('possibly delisted; no price data found  (1d 2000-01-01 -> 2025-04-09)')\n",
      "/var/folders/bq/_yk5zsn90t11g7lt1yn4v9w40000gn/T/ipykernel_52515/3504697734.py:31: PerformanceWarning: indexing past lexsort depth may impact performance.\n",
      "  if (ticker,) in batch_data.columns:\n",
      "[******                12%                       ]  3 of 25 completed"
     ]
    },
    {
     "name": "stdout",
     "output_type": "stream",
     "text": [
      "\n",
      "Downloading batch 1250 to 1274...\n"
     ]
    },
    {
     "name": "stderr",
     "output_type": "stream",
     "text": [
      "[*********************100%***********************]  25 of 25 completed\n",
      "/var/folders/bq/_yk5zsn90t11g7lt1yn4v9w40000gn/T/ipykernel_52515/3504697734.py:31: PerformanceWarning: indexing past lexsort depth may impact performance.\n",
      "  if (ticker,) in batch_data.columns:\n",
      "[************          24%                       ]  6 of 25 completed"
     ]
    },
    {
     "name": "stdout",
     "output_type": "stream",
     "text": [
      "\n",
      "Downloading batch 1275 to 1299...\n"
     ]
    },
    {
     "name": "stderr",
     "output_type": "stream",
     "text": [
      "[*********************100%***********************]  25 of 25 completed\n",
      "\n",
      "2 Failed downloads:\n",
      "['FMSTW', 'FLDDW']: YFPricesMissingError('possibly delisted; no price data found  (1d 2000-01-01 -> 2025-04-09)')\n",
      "/var/folders/bq/_yk5zsn90t11g7lt1yn4v9w40000gn/T/ipykernel_52515/3504697734.py:31: PerformanceWarning: indexing past lexsort depth may impact performance.\n",
      "  if (ticker,) in batch_data.columns:\n",
      "[******                12%                       ]  3 of 25 completed"
     ]
    },
    {
     "name": "stdout",
     "output_type": "stream",
     "text": [
      "\n",
      "Downloading batch 1300 to 1324...\n"
     ]
    },
    {
     "name": "stderr",
     "output_type": "stream",
     "text": [
      "[*********************100%***********************]  25 of 25 completed\n",
      "\n",
      "1 Failed download:\n",
      "['FOXXW']: YFPricesMissingError('possibly delisted; no price data found  (1d 2000-01-01 -> 2025-04-09)')\n",
      "/var/folders/bq/_yk5zsn90t11g7lt1yn4v9w40000gn/T/ipykernel_52515/3504697734.py:31: PerformanceWarning: indexing past lexsort depth may impact performance.\n",
      "  if (ticker,) in batch_data.columns:\n",
      "[************          24%                       ]  6 of 25 completed"
     ]
    },
    {
     "name": "stdout",
     "output_type": "stream",
     "text": [
      "\n",
      "Downloading batch 1325 to 1349...\n"
     ]
    },
    {
     "name": "stderr",
     "output_type": "stream",
     "text": [
      "[*********************100%***********************]  25 of 25 completed\n",
      "\n",
      "1 Failed download:\n",
      "['FSHPR']: YFPricesMissingError('possibly delisted; no price data found  (1d 2000-01-01 -> 2025-04-09)')\n",
      "/var/folders/bq/_yk5zsn90t11g7lt1yn4v9w40000gn/T/ipykernel_52515/3504697734.py:31: PerformanceWarning: indexing past lexsort depth may impact performance.\n",
      "  if (ticker,) in batch_data.columns:\n",
      "[****                   8%                       ]  2 of 25 completed"
     ]
    },
    {
     "name": "stdout",
     "output_type": "stream",
     "text": [
      "\n",
      "Downloading batch 1350 to 1374...\n"
     ]
    },
    {
     "name": "stderr",
     "output_type": "stream",
     "text": [
      "[*********************100%***********************]  25 of 25 completed\n",
      "\n",
      "1 Failed download:\n",
      "['FUFUW']: YFPricesMissingError('possibly delisted; no price data found  (1d 2000-01-01 -> 2025-04-09)')\n",
      "/var/folders/bq/_yk5zsn90t11g7lt1yn4v9w40000gn/T/ipykernel_52515/3504697734.py:31: PerformanceWarning: indexing past lexsort depth may impact performance.\n",
      "  if (ticker,) in batch_data.columns:\n",
      "[*************         28%                       ]  7 of 25 completed"
     ]
    },
    {
     "name": "stdout",
     "output_type": "stream",
     "text": [
      "\n",
      "Downloading batch 1375 to 1399...\n"
     ]
    },
    {
     "name": "stderr",
     "output_type": "stream",
     "text": [
      "[*********************100%***********************]  25 of 25 completed\n",
      "\n",
      "2 Failed downloads:\n",
      "['GCLWW', 'GCMGW']: YFPricesMissingError('possibly delisted; no price data found  (1d 2000-01-01 -> 2025-04-09)')\n",
      "/var/folders/bq/_yk5zsn90t11g7lt1yn4v9w40000gn/T/ipykernel_52515/3504697734.py:31: PerformanceWarning: indexing past lexsort depth may impact performance.\n",
      "  if (ticker,) in batch_data.columns:\n",
      "[******                12%                       ]  3 of 25 completed"
     ]
    },
    {
     "name": "stdout",
     "output_type": "stream",
     "text": [
      "\n",
      "Downloading batch 1400 to 1424...\n"
     ]
    },
    {
     "name": "stderr",
     "output_type": "stream",
     "text": [
      "[*********************100%***********************]  25 of 25 completed\n",
      "\n",
      "2 Failed downloads:\n",
      "['GECCZ', 'GFAIW']: YFPricesMissingError('possibly delisted; no price data found  (1d 2000-01-01 -> 2025-04-09)')\n",
      "/var/folders/bq/_yk5zsn90t11g7lt1yn4v9w40000gn/T/ipykernel_52515/3504697734.py:31: PerformanceWarning: indexing past lexsort depth may impact performance.\n",
      "  if (ticker,) in batch_data.columns:\n",
      "[******                12%                       ]  3 of 25 completed"
     ]
    },
    {
     "name": "stdout",
     "output_type": "stream",
     "text": [
      "\n",
      "Downloading batch 1425 to 1449...\n"
     ]
    },
    {
     "name": "stderr",
     "output_type": "stream",
     "text": [
      "[*********************100%***********************]  25 of 25 completed\n",
      "\n",
      "1 Failed download:\n",
      "['GIPRW']: YFPricesMissingError('possibly delisted; no price data found  (1d 2000-01-01 -> 2025-04-09)')\n",
      "/var/folders/bq/_yk5zsn90t11g7lt1yn4v9w40000gn/T/ipykernel_52515/3504697734.py:31: PerformanceWarning: indexing past lexsort depth may impact performance.\n",
      "  if (ticker,) in batch_data.columns:\n",
      "[**********            20%                       ]  5 of 25 completed"
     ]
    },
    {
     "name": "stdout",
     "output_type": "stream",
     "text": [
      "\n",
      "Downloading batch 1450 to 1474...\n"
     ]
    },
    {
     "name": "stderr",
     "output_type": "stream",
     "text": [
      "[*********************100%***********************]  25 of 25 completed\n",
      "\n",
      "1 Failed download:\n",
      "['GOVXW']: YFPricesMissingError('possibly delisted; no price data found  (1d 2000-01-01 -> 2025-04-09)')\n",
      "/var/folders/bq/_yk5zsn90t11g7lt1yn4v9w40000gn/T/ipykernel_52515/3504697734.py:31: PerformanceWarning: indexing past lexsort depth may impact performance.\n",
      "  if (ticker,) in batch_data.columns:\n",
      "[****                   8%                       ]  2 of 25 completed"
     ]
    },
    {
     "name": "stdout",
     "output_type": "stream",
     "text": [
      "\n",
      "Downloading batch 1475 to 1499...\n"
     ]
    },
    {
     "name": "stderr",
     "output_type": "stream",
     "text": [
      "[*********************100%***********************]  25 of 25 completed\n",
      "\n",
      "1 Failed download:\n",
      "['GRRRW']: YFPricesMissingError('possibly delisted; no price data found  (1d 2000-01-01 -> 2025-04-09)')\n",
      "/var/folders/bq/_yk5zsn90t11g7lt1yn4v9w40000gn/T/ipykernel_52515/3504697734.py:31: PerformanceWarning: indexing past lexsort depth may impact performance.\n",
      "  if (ticker,) in batch_data.columns:\n",
      "[                       0%                       ]"
     ]
    },
    {
     "name": "stdout",
     "output_type": "stream",
     "text": [
      "\n",
      "Downloading batch 1500 to 1524...\n"
     ]
    },
    {
     "name": "stderr",
     "output_type": "stream",
     "text": [
      "[*********************100%***********************]  25 of 25 completed\n",
      "/var/folders/bq/_yk5zsn90t11g7lt1yn4v9w40000gn/T/ipykernel_52515/3504697734.py:31: PerformanceWarning: indexing past lexsort depth may impact performance.\n",
      "  if (ticker,) in batch_data.columns:\n",
      "[************          24%                       ]  6 of 25 completed"
     ]
    },
    {
     "name": "stdout",
     "output_type": "stream",
     "text": [
      "\n",
      "Downloading batch 1525 to 1549...\n"
     ]
    },
    {
     "name": "stderr",
     "output_type": "stream",
     "text": [
      "[*********************100%***********************]  25 of 25 completed\n",
      "\n",
      "4 Failed downloads:\n",
      "['HAO', 'HBIO', 'HBANM', 'HAS']: YFRateLimitError('Too Many Requests. Rate limited. Try after a while.')\n",
      "/var/folders/bq/_yk5zsn90t11g7lt1yn4v9w40000gn/T/ipykernel_52515/3504697734.py:31: PerformanceWarning: indexing past lexsort depth may impact performance.\n",
      "  if (ticker,) in batch_data.columns:\n"
     ]
    },
    {
     "name": "stdout",
     "output_type": "stream",
     "text": [
      "\n",
      "Downloading batch 1550 to 1574...\n"
     ]
    },
    {
     "name": "stderr",
     "output_type": "stream",
     "text": [
      "[*********************100%***********************]  25 of 25 completed\n",
      "\n",
      "25 Failed downloads:\n",
      "['HLNE', 'HIT', 'HIHO', 'HIMX', 'HKIT', 'HIVE', 'HKPD', 'HLP', 'HLMN', 'HNVR', 'HNNAZ', 'HGBL', 'HOFT', 'HHS', 'HITI', 'HMR', 'HFWA', 'HNNA', 'HLXB', 'HNST', 'HLIT', 'HMST', 'HNRG', 'HIFS', 'HLVX']: YFRateLimitError('Too Many Requests. Rate limited. Try after a while.')\n",
      "/var/folders/bq/_yk5zsn90t11g7lt1yn4v9w40000gn/T/ipykernel_52515/3504697734.py:31: PerformanceWarning: indexing past lexsort depth may impact performance.\n",
      "  if (ticker,) in batch_data.columns:\n"
     ]
    },
    {
     "name": "stdout",
     "output_type": "stream",
     "text": [
      "\n",
      "Downloading batch 1575 to 1599...\n"
     ]
    },
    {
     "name": "stderr",
     "output_type": "stream",
     "text": [
      "[*********************100%***********************]  25 of 25 completed\n",
      "\n",
      "25 Failed downloads:\n",
      "['HOPE', 'HPAI', 'HOLO', 'HOLOW', 'HONE', 'HOWL', 'HPAIW', 'HOOD', 'HOVNP', 'HONDW', 'HOTH', 'HPKEW', 'HOVRW', 'HON', 'HOFVW', 'HOUR', 'HOOK', 'HPK', 'HOND', 'HOFV', 'HQI', 'HPH', 'HONDU', 'HOVR', 'HOLX']: YFRateLimitError('Too Many Requests. Rate limited. Try after a while.')\n",
      "/var/folders/bq/_yk5zsn90t11g7lt1yn4v9w40000gn/T/ipykernel_52515/3504697734.py:31: PerformanceWarning: indexing past lexsort depth may impact performance.\n",
      "  if (ticker,) in batch_data.columns:\n"
     ]
    },
    {
     "name": "stdout",
     "output_type": "stream",
     "text": [
      "\n",
      "Downloading batch 1600 to 1624...\n"
     ]
    },
    {
     "name": "stderr",
     "output_type": "stream",
     "text": [
      "[*********************100%***********************]  25 of 25 completed\n",
      "\n",
      "25 Failed downloads:\n",
      "['HTLM', 'HSIC', 'HSDT', 'HSTM', 'HROW', 'HST', 'HTHT', 'HTCO', 'HROWL', 'HTOO', 'HQY', 'HSPO', 'HRMY', 'HSPT', 'HROWM', 'HSCS', 'HSON', 'HTBK', 'HRZN', 'HSPTU', 'HTLD', 'HTCR', 'HRTX', 'HSAI', 'HSII']: YFRateLimitError('Too Many Requests. Rate limited. Try after a while.')\n",
      "/var/folders/bq/_yk5zsn90t11g7lt1yn4v9w40000gn/T/ipykernel_52515/3504697734.py:31: PerformanceWarning: indexing past lexsort depth may impact performance.\n",
      "  if (ticker,) in batch_data.columns:\n"
     ]
    },
    {
     "name": "stdout",
     "output_type": "stream",
     "text": [
      "\n",
      "Downloading batch 1625 to 1649...\n"
     ]
    },
    {
     "name": "stderr",
     "output_type": "stream",
     "text": [
      "[*********************100%***********************]  25 of 25 completed\n",
      "\n",
      "25 Failed downloads:\n",
      "['HWH', 'HWBK', 'HTZWW', 'HUIZ', 'HYFM', 'HUDI', 'HUBC', 'HUBCW', 'HUHU', 'HUMA', 'HURA', 'HTZ', 'HVII', 'HUBG', 'HWKN', 'HUMAW', 'HVIIU', 'HWC', 'HYMC', 'HURC', 'HVIIR', 'HURN', 'HUT', 'HWCPZ', 'HTOOW']: YFRateLimitError('Too Many Requests. Rate limited. Try after a while.')\n",
      "/var/folders/bq/_yk5zsn90t11g7lt1yn4v9w40000gn/T/ipykernel_52515/3504697734.py:31: PerformanceWarning: indexing past lexsort depth may impact performance.\n",
      "  if (ticker,) in batch_data.columns:\n"
     ]
    },
    {
     "name": "stdout",
     "output_type": "stream",
     "text": [
      "\n",
      "Downloading batch 1650 to 1674...\n"
     ]
    },
    {
     "name": "stderr",
     "output_type": "stream",
     "text": [
      "[*********************100%***********************]  25 of 25 completed\n",
      "\n",
      "25 Failed downloads:\n",
      "['IBRX', 'IBACR', 'ICAD', 'ICG', 'ICLR', 'IBKR', 'HYPR', 'IBEX', 'IBCP', 'IAC', 'IAS', 'IBG', 'ICMB', 'IBIO', 'IART', 'HYMCW', 'IBAC', 'ICCT', 'ICU', 'IBOC', 'ICHR', 'ICCC', 'ICFI', 'ICON', 'ICCM']: YFRateLimitError('Too Many Requests. Rate limited. Try after a while.')\n",
      "/var/folders/bq/_yk5zsn90t11g7lt1yn4v9w40000gn/T/ipykernel_52515/3504697734.py:31: PerformanceWarning: indexing past lexsort depth may impact performance.\n",
      "  if (ticker,) in batch_data.columns:\n"
     ]
    },
    {
     "name": "stdout",
     "output_type": "stream",
     "text": [
      "\n",
      "Downloading batch 1675 to 1699...\n"
     ]
    },
    {
     "name": "stderr",
     "output_type": "stream",
     "text": [
      "[*********************100%***********************]  25 of 25 completed\n",
      "\n",
      "25 Failed downloads:\n",
      "['IDN', 'IGMS', 'ILPT', 'ICUCW', 'IDYA', 'III', 'IDXX', 'IKT', 'IEP', 'IFBD', 'IFRX', 'IINN', 'IDCC', 'IHRT', 'IIIV', 'IMAB', 'IKNA', 'IGIC', 'ILLRW', 'ILLR', 'ILMN', 'IDAI', 'ICUI', 'ILAG', 'IESC']: YFRateLimitError('Too Many Requests. Rate limited. Try after a while.')\n",
      "/var/folders/bq/_yk5zsn90t11g7lt1yn4v9w40000gn/T/ipykernel_52515/3504697734.py:31: PerformanceWarning: indexing past lexsort depth may impact performance.\n",
      "  if (ticker,) in batch_data.columns:\n"
     ]
    },
    {
     "name": "stdout",
     "output_type": "stream",
     "text": [
      "\n",
      "Downloading batch 1700 to 1724...\n"
     ]
    },
    {
     "name": "stderr",
     "output_type": "stream",
     "text": [
      "[*********************100%***********************]  25 of 25 completed\n",
      "\n",
      "25 Failed downloads:\n",
      "['IMOS', 'IMMX', 'IMMR', 'IMG', 'IMTE', 'IMPP', 'INBK', 'IMPPP', 'IMCR', 'IMXI', 'IMRN', 'INBS', 'IMKTA', 'IMTX', 'IMNN', 'INBKZ', 'INBX', 'IMMP', 'IMNM', 'IMVT', 'IMCC', 'IMRX', 'IMUX', 'INAB', 'IMTXW']: YFRateLimitError('Too Many Requests. Rate limited. Try after a while.')\n",
      "/var/folders/bq/_yk5zsn90t11g7lt1yn4v9w40000gn/T/ipykernel_52515/3504697734.py:31: PerformanceWarning: indexing past lexsort depth may impact performance.\n",
      "  if (ticker,) in batch_data.columns:\n"
     ]
    },
    {
     "name": "stdout",
     "output_type": "stream",
     "text": [
      "\n",
      "Downloading batch 1725 to 1749...\n"
     ]
    },
    {
     "name": "stderr",
     "output_type": "stream",
     "text": [
      "[*********************100%***********************]  25 of 25 completed\n",
      "\n",
      "25 Failed downloads:\n",
      "['INCY', 'INDI', 'INNV', 'INGN', 'INSE', 'INTA', 'INO', 'INKT', 'INMD', 'INDB', 'INMB', 'INDV', 'INDP', 'INTC', 'INTS', 'INOD', 'INCR', 'INM', 'INSM', 'INTG', 'INLF', 'INSG', 'INTR', 'INTJ', 'INHD']: YFRateLimitError('Too Many Requests. Rate limited. Try after a while.')\n",
      "/var/folders/bq/_yk5zsn90t11g7lt1yn4v9w40000gn/T/ipykernel_52515/3504697734.py:31: PerformanceWarning: indexing past lexsort depth may impact performance.\n",
      "  if (ticker,) in batch_data.columns:\n"
     ]
    },
    {
     "name": "stdout",
     "output_type": "stream",
     "text": [
      "\n",
      "Downloading batch 1750 to 1774...\n"
     ]
    },
    {
     "name": "stderr",
     "output_type": "stream",
     "text": [
      "[*********************100%***********************]  24 of 25 completed\n",
      "\n",
      "25 Failed downloads:\n",
      "['INVE', 'IPHA', 'IOSP', 'IONS', 'IPM', 'INVZW', 'INVA', 'INTU', 'IPX', 'INZY', 'IRBT', 'IPAR', 'IPWR', 'IOBT', 'IPSC', 'IQ', 'IPGP', 'IPW', 'IPA', 'INTZ', 'IONR', 'INVZ', 'IPDN', 'IOVA', 'INV']: YFRateLimitError('Too Many Requests. Rate limited. Try after a while.')\n",
      "/var/folders/bq/_yk5zsn90t11g7lt1yn4v9w40000gn/T/ipykernel_52515/3504697734.py:31: PerformanceWarning: indexing past lexsort depth may impact performance.\n",
      "  if (ticker,) in batch_data.columns:\n"
     ]
    },
    {
     "name": "stdout",
     "output_type": "stream",
     "text": [
      "\n",
      "Downloading batch 1775 to 1799...\n"
     ]
    },
    {
     "name": "stderr",
     "output_type": "stream",
     "text": [
      "[*********************100%***********************]  24 of 25 completed\n",
      "\n",
      "25 Failed downloads:\n",
      "['ISSC', 'ITIC', 'IROH', 'ISPOW', 'IRWD', 'IRIX', 'ISRLU', 'ISPR', 'IREN', 'ISRL', 'ITRI', 'IRTC', 'ITOS', 'IROHW', 'ISRLW', 'ISTR', 'IRON', 'ISPO', 'ISRG', 'IROQ', 'IRDM', 'IROHR', 'ISPC', 'IRD', 'IRMD']: YFRateLimitError('Too Many Requests. Rate limited. Try after a while.')\n",
      "/var/folders/bq/_yk5zsn90t11g7lt1yn4v9w40000gn/T/ipykernel_52515/3504697734.py:31: PerformanceWarning: indexing past lexsort depth may impact performance.\n",
      "  if (ticker,) in batch_data.columns:\n"
     ]
    },
    {
     "name": "stdout",
     "output_type": "stream",
     "text": [
      "\n",
      "Downloading batch 1800 to 1824...\n"
     ]
    },
    {
     "name": "stderr",
     "output_type": "stream",
     "text": [
      "[*********************100%***********************]  25 of 25 completed\n",
      "\n",
      "25 Failed downloads:\n",
      "['ITRM', 'JAMF', 'IVVD', 'IVA', 'ITRN', 'IZEA', 'JD', 'IXHL', 'JAGX', 'JAKK', 'JACK', 'IZM', 'JANX', 'JBDI', 'JBHT', 'JCTC', 'IVCAW', 'JBLU', 'IVP', 'JAZZ', 'JDZG', 'IVDA', 'IVCA', 'JBSS', 'JCSE']: YFRateLimitError('Too Many Requests. Rate limited. Try after a while.')\n",
      "/var/folders/bq/_yk5zsn90t11g7lt1yn4v9w40000gn/T/ipykernel_52515/3504697734.py:31: PerformanceWarning: indexing past lexsort depth may impact performance.\n",
      "  if (ticker,) in batch_data.columns:\n"
     ]
    },
    {
     "name": "stdout",
     "output_type": "stream",
     "text": [
      "\n",
      "Downloading batch 1825 to 1849...\n"
     ]
    },
    {
     "name": "stderr",
     "output_type": "stream",
     "text": [
      "[*********************100%***********************]  25 of 25 completed\n",
      "\n",
      "25 Failed downloads:\n",
      "['JFIN', 'JTAI', 'JVSA', 'JFB', 'JOUT', 'JVA', 'JUNE', 'JSPRW', 'JVSAR', 'JUNS', 'JSM', 'JFBRW', 'JKHY', 'JNVR', 'JOYY', 'JRVR', 'JMSB', 'JWEL', 'JG', 'JL', 'JFBR', 'JRSH', 'JFU', 'JJSF', 'JSPR']: YFRateLimitError('Too Many Requests. Rate limited. Try after a while.')\n",
      "/var/folders/bq/_yk5zsn90t11g7lt1yn4v9w40000gn/T/ipykernel_52515/3504697734.py:31: PerformanceWarning: indexing past lexsort depth may impact performance.\n",
      "  if (ticker,) in batch_data.columns:\n"
     ]
    },
    {
     "name": "stdout",
     "output_type": "stream",
     "text": [
      "\n",
      "Downloading batch 1850 to 1874...\n"
     ]
    },
    {
     "name": "stderr",
     "output_type": "stream",
     "text": [
      "[*********************100%***********************]  24 of 25 completed\n",
      "\n",
      "25 Failed downloads:\n",
      "['KIDS', 'JZXN', 'KBSX', 'JYNT', 'KALA', 'JXG', 'KGEI', 'KE', 'KELYA', 'KALU', 'KHC', 'KC', 'KDP', 'KDLY', 'JYD', 'KARO', 'KAVL', 'JZ', 'KFII', 'KELYB', 'KDLYW', 'KALV', 'KFFB', 'KEQU', 'KFIIU']: YFRateLimitError('Too Many Requests. Rate limited. Try after a while.')\n",
      "/var/folders/bq/_yk5zsn90t11g7lt1yn4v9w40000gn/T/ipykernel_52515/3504697734.py:31: PerformanceWarning: indexing past lexsort depth may impact performance.\n",
      "  if (ticker,) in batch_data.columns:\n"
     ]
    },
    {
     "name": "stdout",
     "output_type": "stream",
     "text": [
      "\n",
      "Downloading batch 1875 to 1899...\n"
     ]
    },
    {
     "name": "stderr",
     "output_type": "stream",
     "text": [
      "[*********************100%***********************]  24 of 25 completed\n",
      "\n",
      "25 Failed downloads:\n",
      "['KINS', 'KPRX', 'KPTI', 'KOD', 'KITTW', 'KLTOW', 'KLAC', 'KOPN', 'KIRK', 'KPLTW', 'KIDZ', 'KLTR', 'KLIC', 'KITT', 'KNSA', 'KRKR', 'KLRS', 'KLXE', 'KLTO', 'KNDI', 'KPLT', 'KMTS', 'KIDZW', 'KMDA', 'KOSS']: YFRateLimitError('Too Many Requests. Rate limited. Try after a while.')\n",
      "/var/folders/bq/_yk5zsn90t11g7lt1yn4v9w40000gn/T/ipykernel_52515/3504697734.py:31: PerformanceWarning: indexing past lexsort depth may impact performance.\n",
      "  if (ticker,) in batch_data.columns:\n"
     ]
    },
    {
     "name": "stdout",
     "output_type": "stream",
     "text": [
      "\n",
      "Downloading batch 1900 to 1924...\n"
     ]
    },
    {
     "name": "stderr",
     "output_type": "stream",
     "text": [
      "[*********************100%***********************]  25 of 25 completed\n",
      "\n",
      "25 Failed downloads:\n",
      "['KSCP', 'KWE', 'KVACW', 'KRRO', 'KRYS', 'KRON', 'KURA', 'KROS', 'KRUS', 'KZIA', 'KTCC', 'KYTX', 'KTTA', 'KTOS', 'KYMR', 'LAB', 'KVAC', 'KVHI', 'KRT', 'KRNY', 'KXIN', 'KZR', 'KRMD', 'KSPI', 'KRNT']: YFRateLimitError('Too Many Requests. Rate limited. Try after a while.')\n",
      "/var/folders/bq/_yk5zsn90t11g7lt1yn4v9w40000gn/T/ipykernel_52515/3504697734.py:31: PerformanceWarning: indexing past lexsort depth may impact performance.\n",
      "  if (ticker,) in batch_data.columns:\n"
     ]
    },
    {
     "name": "stdout",
     "output_type": "stream",
     "text": [
      "\n",
      "Downloading batch 1925 to 1949...\n"
     ]
    },
    {
     "name": "stderr",
     "output_type": "stream",
     "text": [
      "[*********************100%***********************]  25 of 25 completed\n",
      "\n",
      "25 Failed downloads:\n",
      "['LANDP', 'LBTYK', 'LAES', 'LDTC', 'LASE', 'LBGJ', 'LCFY', 'LCID', 'LAND', 'LBRDK', 'LAKE', 'LAZR', 'LBTYA', 'LBRDP', 'LANC', 'LASR', 'LAMR', 'LCNB', 'LANDO', 'LBTYB', 'LCUT', 'LANDM', 'LARK', 'LBRDA', 'LAUR']: YFRateLimitError('Too Many Requests. Rate limited. Try after a while.')\n",
      "/var/folders/bq/_yk5zsn90t11g7lt1yn4v9w40000gn/T/ipykernel_52515/3504697734.py:31: PerformanceWarning: indexing past lexsort depth may impact performance.\n",
      "  if (ticker,) in batch_data.columns:\n"
     ]
    },
    {
     "name": "stdout",
     "output_type": "stream",
     "text": [
      "\n",
      "Downloading batch 1950 to 1974...\n"
     ]
    },
    {
     "name": "stderr",
     "output_type": "stream",
     "text": [
      "[*********************100%***********************]  25 of 25 completed\n",
      "\n",
      "25 Failed downloads:\n",
      "['LGHL', 'LFUS', 'LEDS', 'LGHLW', 'LFWD', 'LEE', 'LGCB', 'LFCR', 'LEGN', 'LFMDP', 'LDWY', 'LEGH', 'LEXX', 'LEXXW', 'LENZ', 'LGIH', 'LFST', 'LE', 'LGMK', 'LDTCW', 'LFMD', 'LGCL', 'LESL', 'LECO', 'LFVN']: YFRateLimitError('Too Many Requests. Rate limited. Try after a while.')\n",
      "/var/folders/bq/_yk5zsn90t11g7lt1yn4v9w40000gn/T/ipykernel_52515/3504697734.py:31: PerformanceWarning: indexing past lexsort depth may impact performance.\n",
      "  if (ticker,) in batch_data.columns:\n"
     ]
    },
    {
     "name": "stdout",
     "output_type": "stream",
     "text": [
      "\n",
      "Downloading batch 1975 to 1999...\n"
     ]
    },
    {
     "name": "stderr",
     "output_type": "stream",
     "text": [
      "[*********************100%***********************]  25 of 25 completed\n",
      "\n",
      "25 Failed downloads:\n",
      "['LINE', 'LI', 'LIQT', 'LIN', 'LITM', 'LIXT', 'LIVN', 'LIND', 'LINC', 'LIDRW', 'LGVN', 'LIF', 'LITE', 'LILAK', 'LICN', 'LHSW', 'LIVE', 'LGO', 'LINK', 'LION', 'LIDR', 'LIEN', 'LGND', 'LILA', 'LIPO']: YFRateLimitError('Too Many Requests. Rate limited. Try after a while.')\n",
      "/var/folders/bq/_yk5zsn90t11g7lt1yn4v9w40000gn/T/ipykernel_52515/3504697734.py:31: PerformanceWarning: indexing past lexsort depth may impact performance.\n",
      "  if (ticker,) in batch_data.columns:\n"
     ]
    },
    {
     "name": "stdout",
     "output_type": "stream",
     "text": [
      "\n",
      "Downloading batch 2000 to 2024...\n"
     ]
    },
    {
     "name": "stderr",
     "output_type": "stream",
     "text": [
      "[*********************100%***********************]  25 of 25 completed\n",
      "\n",
      "25 Failed downloads:\n",
      "['LNT', 'LNKS', 'LOGC', 'LNW', 'LOCO', 'LOBO', 'LLYVK', 'LNSR', 'LIXTW', 'LNZAW', 'LKFN', 'LMFA', 'LLYVA', 'LNKB', 'LMB', 'LOKVU', 'LOGI', 'LMNR', 'LMAT', 'LKQ', 'LOPE', 'LNZA', 'LOAN', 'LOOP', 'LNTH']: YFRateLimitError('Too Many Requests. Rate limited. Try after a while.')\n",
      "/var/folders/bq/_yk5zsn90t11g7lt1yn4v9w40000gn/T/ipykernel_52515/3504697734.py:31: PerformanceWarning: indexing past lexsort depth may impact performance.\n",
      "  if (ticker,) in batch_data.columns:\n"
     ]
    },
    {
     "name": "stdout",
     "output_type": "stream",
     "text": [
      "\n",
      "Downloading batch 2025 to 2049...\n"
     ]
    },
    {
     "name": "stderr",
     "output_type": "stream",
     "text": [
      "[*********************100%***********************]  25 of 25 completed\n",
      "\n",
      "25 Failed downloads:\n",
      "['LSAK', 'LRE', 'LSB', 'LRCX', 'LPLA', 'LPAA', 'LRHC', 'LPRO', 'LRMR', 'LPBBU', 'LPCN', 'LPTX', 'LSBPW', 'LQDA', 'LSCC', 'LPSN', 'LPAAU', 'LOT', 'LOVE', 'LQDT', 'LRFC', 'LSBK', 'LPTH', 'LPBB', 'LPBBW']: YFRateLimitError('Too Many Requests. Rate limited. Try after a while.')\n",
      "/var/folders/bq/_yk5zsn90t11g7lt1yn4v9w40000gn/T/ipykernel_52515/3504697734.py:31: PerformanceWarning: indexing past lexsort depth may impact performance.\n",
      "  if (ticker,) in batch_data.columns:\n"
     ]
    },
    {
     "name": "stdout",
     "output_type": "stream",
     "text": [
      "\n",
      "Downloading batch 2050 to 2074...\n"
     ]
    },
    {
     "name": "stderr",
     "output_type": "stream",
     "text": [
      "[*********************100%***********************]  24 of 25 completed\n",
      "\n",
      "25 Failed downloads:\n",
      "['LTRYW', 'LUNG', 'LSH', 'LTBR', 'LWLG', 'LUCY', 'LTRX', 'LSE', 'LSTR', 'LUNR', 'LSTA', 'LTRN', 'LSEA', 'LUCYW', 'LWAY', 'LVROW', 'LVO', 'LSEAW', 'LVRO', 'LUCD', 'LULU', 'LVLU', 'LVTX', 'LTRY', 'LX']: YFRateLimitError('Too Many Requests. Rate limited. Try after a while.')\n",
      "/var/folders/bq/_yk5zsn90t11g7lt1yn4v9w40000gn/T/ipykernel_52515/3504697734.py:31: PerformanceWarning: indexing past lexsort depth may impact performance.\n",
      "  if (ticker,) in batch_data.columns:\n"
     ]
    },
    {
     "name": "stdout",
     "output_type": "stream",
     "text": [
      "\n",
      "Downloading batch 2075 to 2099...\n"
     ]
    },
    {
     "name": "stderr",
     "output_type": "stream",
     "text": [
      "[*********************100%***********************]  25 of 25 completed\n",
      "\n",
      "25 Failed downloads:\n",
      "['LYEL', 'MAR', 'MANH', 'LXEH', 'MAMO', 'LZMH', 'MASI', 'LYFT', 'LXEO', 'LYRA', 'MATW', 'MASS', 'LYTS', 'MAMA', 'MAT', 'MAPS', 'MARPS', 'MAPSW', 'LXRX', 'MASK', 'MARA', 'MACIW', 'MATH', 'MACI', 'LZ']: YFRateLimitError('Too Many Requests. Rate limited. Try after a while.')\n",
      "/var/folders/bq/_yk5zsn90t11g7lt1yn4v9w40000gn/T/ipykernel_52515/3504697734.py:31: PerformanceWarning: indexing past lexsort depth may impact performance.\n",
      "  if (ticker,) in batch_data.columns:\n"
     ]
    },
    {
     "name": "stdout",
     "output_type": "stream",
     "text": [
      "\n",
      "Downloading batch 2100 to 2124...\n"
     ]
    },
    {
     "name": "stderr",
     "output_type": "stream",
     "text": [
      "[*********************100%***********************]  25 of 25 completed\n",
      "\n",
      "25 Failed downloads:\n",
      "['MCHPP', 'MBINN', 'MBAVW', 'MBIO', 'MCHP', 'MBOT', 'MBINL', 'MCHX', 'MAYS', 'MBCN', 'MBNKP', 'MBLY', 'MBINM', 'MBWM', 'MAYA', 'MBUU', 'MCRB', 'MBIN', 'MAZE', 'MBRX', 'MAXN', 'MCRI', 'MBX', 'MCBS', 'MCFT']: YFRateLimitError('Too Many Requests. Rate limited. Try after a while.')\n",
      "/var/folders/bq/_yk5zsn90t11g7lt1yn4v9w40000gn/T/ipykernel_52515/3504697734.py:31: PerformanceWarning: indexing past lexsort depth may impact performance.\n",
      "  if (ticker,) in batch_data.columns:\n"
     ]
    },
    {
     "name": "stdout",
     "output_type": "stream",
     "text": [
      "\n",
      "Downloading batch 2125 to 2149...\n"
     ]
    },
    {
     "name": "stderr",
     "output_type": "stream",
     "text": [
      "[*********************100%***********************]  25 of 25 completed\n",
      "\n",
      "25 Failed downloads:\n",
      "['MEDP', 'MESO', 'MDIA', 'MDCXW', 'MEIP', 'MERC', 'MEGL', 'MDGL', 'MDAIW', 'MDAI', 'MCW', 'MDBH', 'MCTR', 'MESA', 'MDCX', 'MDLZ', 'MDRR', 'MEOH', 'META', 'MCVT', 'MDWD', 'MDXG', 'MDXH', 'MELI', 'MDB']: YFRateLimitError('Too Many Requests. Rate limited. Try after a while.')\n",
      "/var/folders/bq/_yk5zsn90t11g7lt1yn4v9w40000gn/T/ipykernel_52515/3504697734.py:31: PerformanceWarning: indexing past lexsort depth may impact performance.\n",
      "  if (ticker,) in batch_data.columns:\n"
     ]
    },
    {
     "name": "stdout",
     "output_type": "stream",
     "text": [
      "\n",
      "Downloading batch 2150 to 2174...\n"
     ]
    },
    {
     "name": "stderr",
     "output_type": "stream",
     "text": [
      "[*********************100%***********************]  24 of 25 completed\n",
      "\n",
      "25 Failed downloads:\n",
      "['MGYR', 'MGRX', 'MFI', 'MFIN', 'MHUA', 'MGRM', 'MIDD', 'MGX', 'METCB', 'MGNI', 'METCZ', 'MGPI', 'MFIC', 'MGRC', 'MGIH', 'MGTX', 'MFH', 'MGIC', 'MGNX', 'MFICL', 'METC', 'MHLD', 'MIGI', 'METCL', 'MGEE']: YFRateLimitError('Too Many Requests. Rate limited. Try after a while.')\n",
      "/var/folders/bq/_yk5zsn90t11g7lt1yn4v9w40000gn/T/ipykernel_52515/3504697734.py:31: PerformanceWarning: indexing past lexsort depth may impact performance.\n",
      "  if (ticker,) in batch_data.columns:\n"
     ]
    },
    {
     "name": "stdout",
     "output_type": "stream",
     "text": [
      "\n",
      "Downloading batch 2175 to 2199...\n"
     ]
    },
    {
     "name": "stderr",
     "output_type": "stream",
     "text": [
      "[*********************100%***********************]  24 of 25 completed\n",
      "\n",
      "25 Failed downloads:\n",
      "['MKDWW', 'MNDO', 'MLTX', 'MLEC', 'MLKN', 'MKTX', 'MIRM', 'MKSI', 'MITK', 'MLAC', 'MKDW', 'MMLP', 'MLGO', 'MLAB', 'MIND', 'MKZR', 'MLYS', 'MIRA', 'MLCO', 'MLACU', 'MIST', 'MMSI', 'MIMI', 'MMYT', 'MKTW']: YFRateLimitError('Too Many Requests. Rate limited. Try after a while.')\n",
      "/var/folders/bq/_yk5zsn90t11g7lt1yn4v9w40000gn/T/ipykernel_52515/3504697734.py:31: PerformanceWarning: indexing past lexsort depth may impact performance.\n",
      "  if (ticker,) in batch_data.columns:\n"
     ]
    },
    {
     "name": "stdout",
     "output_type": "stream",
     "text": [
      "\n",
      "Downloading batch 2200 to 2224...\n"
     ]
    },
    {
     "name": "stderr",
     "output_type": "stream",
     "text": [
      "[*********************100%***********************]  25 of 25 completed\n",
      "\n",
      "25 Failed downloads:\n",
      "['MOLN', 'MNPR', 'MNSBP', 'MNTSW', 'MOBX', 'MNDY', 'MOGO', 'MOBXW', 'MNTS', 'MODD', 'MNST', 'MNTK', 'MNY', 'MNKD', 'MNOV', 'MNRO', 'MOB', 'MNSB', 'MNMD', 'MORN', 'MOFG', 'MNDR', 'MODV', 'MNYWW', 'MOMO']: YFRateLimitError('Too Many Requests. Rate limited. Try after a while.')\n",
      "/var/folders/bq/_yk5zsn90t11g7lt1yn4v9w40000gn/T/ipykernel_52515/3504697734.py:31: PerformanceWarning: indexing past lexsort depth may impact performance.\n",
      "  if (ticker,) in batch_data.columns:\n"
     ]
    },
    {
     "name": "stdout",
     "output_type": "stream",
     "text": [
      "\n",
      "Downloading batch 2225 to 2249...\n"
     ]
    },
    {
     "name": "stderr",
     "output_type": "stream",
     "text": [
      "[*********************100%***********************]  25 of 25 completed\n",
      "\n",
      "25 Failed downloads:\n",
      "['MRX', 'MSAIW', 'MRM', 'MRNO', 'MPAA', 'MRVI', 'MRKR', 'MRUS', 'MREO', 'MRCY', 'MRBK', 'MOVE', 'MRAM', 'MSAI', 'MRIN', 'MRNOW', 'MRNA', 'MRSN', 'MQ', 'MSBI', 'MPWR', 'MRTN', 'MRCC', 'MPB', 'MRVL']: YFRateLimitError('Too Many Requests. Rate limited. Try after a while.')\n",
      "/var/folders/bq/_yk5zsn90t11g7lt1yn4v9w40000gn/T/ipykernel_52515/3504697734.py:31: PerformanceWarning: indexing past lexsort depth may impact performance.\n",
      "  if (ticker,) in batch_data.columns:\n"
     ]
    },
    {
     "name": "stdout",
     "output_type": "stream",
     "text": [
      "\n",
      "Downloading batch 2250 to 2274...\n"
     ]
    },
    {
     "name": "stderr",
     "output_type": "stream",
     "text": [
      "[*********************100%***********************]  25 of 25 completed\n",
      "\n",
      "25 Failed downloads:\n",
      "['MTEK', 'MSFT', 'MSPRW', 'MSTR', 'MTC', 'MTSR', 'MSBIP', 'MSS', 'MSGM', 'MU', 'MSPR', 'MTVA', 'MSPRZ', 'MTLS', 'MURA', 'MULN', 'MTRX', 'MTEN', 'MTEX', 'MSW', 'MVBF', 'MTSI', 'MTCH', 'MTEKW', 'MSEX']: YFRateLimitError('Too Many Requests. Rate limited. Try after a while.')\n",
      "/var/folders/bq/_yk5zsn90t11g7lt1yn4v9w40000gn/T/ipykernel_52515/3504697734.py:31: PerformanceWarning: indexing past lexsort depth may impact performance.\n",
      "  if (ticker,) in batch_data.columns:\n"
     ]
    },
    {
     "name": "stdout",
     "output_type": "stream",
     "text": [
      "\n",
      "Downloading batch 2275 to 2299...\n"
     ]
    },
    {
     "name": "stderr",
     "output_type": "stream",
     "text": [
      "[*********************100%***********************]  25 of 25 completed\n",
      "\n",
      "25 Failed downloads:\n",
      "['NATH', 'MYSZ', 'NAMS', 'NAYA', 'MYRG', 'MYFW', 'MYPS', 'NAMSW', 'NAOV', 'MYNZ', 'NAII', 'MXL', 'NATR', 'MVSTW', 'MVIS', 'MWYN', 'NAVI', 'NAUT', 'NAAS', 'MYPSW', 'MYGN', 'MVST', 'NAGE', 'NAMI', 'MXCT']: YFRateLimitError('Too Many Requests. Rate limited. Try after a while.')\n",
      "/var/folders/bq/_yk5zsn90t11g7lt1yn4v9w40000gn/T/ipykernel_52515/3504697734.py:31: PerformanceWarning: indexing past lexsort depth may impact performance.\n",
      "  if (ticker,) in batch_data.columns:\n"
     ]
    },
    {
     "name": "stdout",
     "output_type": "stream",
     "text": [
      "\n",
      "Downloading batch 2300 to 2324...\n"
     ]
    },
    {
     "name": "stderr",
     "output_type": "stream",
     "text": [
      "[*********************100%***********************]  24 of 25 completed\n",
      "\n",
      "25 Failed downloads:\n",
      "['NEGG', 'NB', 'NDAQ', 'NCT', 'NCPL', 'NCRA', 'NBN', 'NCNA', 'NBBK', 'NCSM', 'NCI', 'NEHC', 'NBTX', 'NBTB', 'NDSN', 'NBIS', 'NCNO', 'NCMI', 'NCTY', 'NECB', 'NCIQ', 'NDLS', 'NBIX', 'NCEW', 'NDRA']: YFRateLimitError('Too Many Requests. Rate limited. Try after a while.')\n",
      "/var/folders/bq/_yk5zsn90t11g7lt1yn4v9w40000gn/T/ipykernel_52515/3504697734.py:31: PerformanceWarning: indexing past lexsort depth may impact performance.\n",
      "  if (ticker,) in batch_data.columns:\n"
     ]
    },
    {
     "name": "stdout",
     "output_type": "stream",
     "text": [
      "\n",
      "Downloading batch 2325 to 2349...\n"
     ]
    },
    {
     "name": "stderr",
     "output_type": "stream",
     "text": [
      "[*********************100%***********************]  25 of 25 completed\n",
      "\n",
      "25 Failed downloads:\n",
      "['NEOV', 'NGNE', 'NHICU', 'NFLX', 'NEHCW', 'NEXN', 'NETD', 'NEWTH', 'NEOG', 'NESRW', 'NFE', 'NEOVW', 'NESR', 'NEWTG', 'NEPH', 'NERV', 'NEWTZ', 'NEXT', 'NEUP', 'NFBK', 'NEWT', 'NEON', 'NEO', 'NEWTI', 'NETDW']: YFRateLimitError('Too Many Requests. Rate limited. Try after a while.')\n",
      "/var/folders/bq/_yk5zsn90t11g7lt1yn4v9w40000gn/T/ipykernel_52515/3504697734.py:31: PerformanceWarning: indexing past lexsort depth may impact performance.\n",
      "  if (ticker,) in batch_data.columns:\n"
     ]
    },
    {
     "name": "stdout",
     "output_type": "stream",
     "text": [
      "\n",
      "Downloading batch 2350 to 2374...\n"
     ]
    },
    {
     "name": "stderr",
     "output_type": "stream",
     "text": [
      "[*********************100%***********************]  25 of 25 completed\n",
      "\n",
      "25 Failed downloads:\n",
      "['NITO', 'NMRA', 'NIPG', 'NHPBP', 'NMRK', 'NHTC', 'NKTX', 'NICE', 'NMFC', 'NKSH', 'NISN', 'NIOBW', 'NIXX', 'NIVF', 'NNAVW', 'NIU', 'NIXXW', 'NN', 'NMTC', 'NMFCZ', 'NKTR', 'NLSPW', 'NHPAP', 'NLSP', 'NMIH']: YFRateLimitError('Too Many Requests. Rate limited. Try after a while.')\n",
      "/var/folders/bq/_yk5zsn90t11g7lt1yn4v9w40000gn/T/ipykernel_52515/3504697734.py:31: PerformanceWarning: indexing past lexsort depth may impact performance.\n",
      "  if (ticker,) in batch_data.columns:\n"
     ]
    },
    {
     "name": "stdout",
     "output_type": "stream",
     "text": [
      "\n",
      "Downloading batch 2375 to 2399...\n"
     ]
    },
    {
     "name": "stderr",
     "output_type": "stream",
     "text": [
      "[*********************100%***********************]  24 of 25 completed\n",
      "\n",
      "25 Failed downloads:\n",
      "['NNBR', 'NRDS', 'NOVT', 'NSTS', 'NSIT', 'NSSC', 'NSPR', 'NPCE', 'NOEM', 'NRXPW', 'NRIM', 'NNE', 'NRSNW', 'NOEMW', 'NNOX', 'NRIX', 'NNDM', 'NRC', 'NRSN', 'NOEMR', 'NRXP', 'NOTV', 'NOEMU', 'NODK', 'NNNN']: YFRateLimitError('Too Many Requests. Rate limited. Try after a while.')\n",
      "/var/folders/bq/_yk5zsn90t11g7lt1yn4v9w40000gn/T/ipykernel_52515/3504697734.py:31: PerformanceWarning: indexing past lexsort depth may impact performance.\n",
      "  if (ticker,) in batch_data.columns:\n"
     ]
    },
    {
     "name": "stdout",
     "output_type": "stream",
     "text": [
      "\n",
      "Downloading batch 2400 to 2424...\n"
     ]
    },
    {
     "name": "stderr",
     "output_type": "stream",
     "text": [
      "[*********************100%***********************]  25 of 25 completed\n",
      "\n",
      "25 Failed downloads:\n",
      "['NTRP', 'NUVL', 'NTRBW', 'NTGR', 'NTRA', 'NTWOU', 'NTRSO', 'NTHI', 'NTES', 'NTCL', 'NURO', 'NUTX', 'NTWK', 'NTRB', 'NSYS', 'NTWO', 'NTAP', 'NUKK', 'NTNX', 'NUKKW', 'NTLA', 'NTIC', 'NUWE', 'NTRS', 'NTCT']: YFRateLimitError('Too Many Requests. Rate limited. Try after a while.')\n",
      "/var/folders/bq/_yk5zsn90t11g7lt1yn4v9w40000gn/T/ipykernel_52515/3504697734.py:31: PerformanceWarning: indexing past lexsort depth may impact performance.\n",
      "  if (ticker,) in batch_data.columns:\n"
     ]
    },
    {
     "name": "stdout",
     "output_type": "stream",
     "text": [
      "\n",
      "Downloading batch 2425 to 2449...\n"
     ]
    },
    {
     "name": "stderr",
     "output_type": "stream",
     "text": [
      "[*********************100%***********************]  25 of 25 completed\n",
      "\n",
      "25 Failed downloads:\n",
      "['NWFL', 'NVEC', 'NVA', 'NVCR', 'NVCT', 'NVAX', 'NWPX', 'NVEE', 'NWL', 'NVNI', 'NVX', 'NWE', 'NVVE', 'NVMI', 'NWS', 'NVVEW', 'NWGL', 'NWBI', 'NVFY', 'NVAWW', 'NVNO', 'NVNIW', 'NVDA', 'NWSA', 'NVTS']: YFRateLimitError('Too Many Requests. Rate limited. Try after a while.')\n",
      "/var/folders/bq/_yk5zsn90t11g7lt1yn4v9w40000gn/T/ipykernel_52515/3504697734.py:31: PerformanceWarning: indexing past lexsort depth may impact performance.\n",
      "  if (ticker,) in batch_data.columns:\n"
     ]
    },
    {
     "name": "stdout",
     "output_type": "stream",
     "text": [
      "\n",
      "Downloading batch 2450 to 2474...\n"
     ]
    },
    {
     "name": "stderr",
     "output_type": "stream",
     "text": [
      "[*********************100%***********************]  25 of 25 completed\n",
      "\n",
      "25 Failed downloads:\n",
      "['NXXT', 'NXPI', 'NYMTI', 'NXGLW', 'NYMTM', 'NWTNW', 'NXPL', 'NXPLW', 'NXTT', 'NXU', 'NXST', 'OABI', 'NYAX', 'NXTC', 'NWTG', 'NYMTN', 'NXL', 'NYXH', 'NYMTG', 'NXT', 'NWTN', 'NYMTL', 'NXGL', 'NYMTZ', 'NYMT']: YFRateLimitError('Too Many Requests. Rate limited. Try after a while.')\n",
      "/var/folders/bq/_yk5zsn90t11g7lt1yn4v9w40000gn/T/ipykernel_52515/3504697734.py:31: PerformanceWarning: indexing past lexsort depth may impact performance.\n",
      "  if (ticker,) in batch_data.columns:\n"
     ]
    },
    {
     "name": "stdout",
     "output_type": "stream",
     "text": [
      "\n",
      "Downloading batch 2475 to 2499...\n"
     ]
    },
    {
     "name": "stderr",
     "output_type": "stream",
     "text": [
      "[*********************100%***********************]  25 of 25 completed\n",
      "\n",
      "25 Failed downloads:\n",
      "['OCUL', 'OCFCP', 'OCSAW', 'OCC', 'OACCU', 'OCS', 'OAKU', 'OAKUR', 'OBLG', 'OCCIN', 'OBT', 'OCG', 'OCEA', 'OACCW', 'OCCI', 'OCTO', 'OCCIM', 'OCFC', 'OBIO', 'OCEAW', 'OCCIO', 'OACC', 'OCGN', 'OCSL', 'OB']: YFRateLimitError('Too Many Requests. Rate limited. Try after a while.')\n",
      "/var/folders/bq/_yk5zsn90t11g7lt1yn4v9w40000gn/T/ipykernel_52515/3504697734.py:31: PerformanceWarning: indexing past lexsort depth may impact performance.\n",
      "  if (ticker,) in batch_data.columns:\n"
     ]
    },
    {
     "name": "stdout",
     "output_type": "stream",
     "text": [
      "\n",
      "Downloading batch 2500 to 2524...\n"
     ]
    },
    {
     "name": "stderr",
     "output_type": "stream",
     "text": [
      "[*********************100%***********************]  24 of 25 completed\n",
      "\n",
      "25 Failed downloads:\n",
      "['OLLI', 'OFLX', 'OFS', 'OFSSH', 'OLPX', 'OGI', 'OLED', 'ODVWZ', 'OESX', 'OM', 'OLMA', 'OKYO', 'OCX', 'OMER', 'OLB', 'OMAB', 'ODFL', 'ODYS', 'OMCC', 'OKUR', 'ODD', 'OKTA', 'OFIX', 'OMCL', 'ODP']: YFRateLimitError('Too Many Requests. Rate limited. Try after a while.')\n",
      "/var/folders/bq/_yk5zsn90t11g7lt1yn4v9w40000gn/T/ipykernel_52515/3504697734.py:31: PerformanceWarning: indexing past lexsort depth may impact performance.\n",
      "  if (ticker,) in batch_data.columns:\n"
     ]
    },
    {
     "name": "stdout",
     "output_type": "stream",
     "text": [
      "\n",
      "Downloading batch 2525 to 2549...\n"
     ]
    },
    {
     "name": "stderr",
     "output_type": "stream",
     "text": [
      "[*********************100%***********************]  25 of 25 completed\n",
      "\n",
      "25 Failed downloads:\n",
      "['OP', 'OPBK', 'ONFO', 'ONEW', 'OPOF', 'ONBPP', 'ONC', 'OMH', 'ON', 'OMEX', 'OPK', 'OPEN', 'ONB', 'ONDS', 'ONMDW', 'OPCH', 'OPI', 'ONBPO', 'ONEG', 'ONMD', 'ONVO', 'OPINL', 'OPAL', 'ONCY', 'ONCO']: YFRateLimitError('Too Many Requests. Rate limited. Try after a while.')\n",
      "/var/folders/bq/_yk5zsn90t11g7lt1yn4v9w40000gn/T/ipykernel_52515/3504697734.py:31: PerformanceWarning: indexing past lexsort depth may impact performance.\n",
      "  if (ticker,) in batch_data.columns:\n"
     ]
    },
    {
     "name": "stdout",
     "output_type": "stream",
     "text": [
      "\n",
      "Downloading batch 2550 to 2574...\n"
     ]
    },
    {
     "name": "stderr",
     "output_type": "stream",
     "text": [
      "[*********************100%***********************]  25 of 25 completed\n",
      "\n",
      "25 Failed downloads:\n",
      "['ORGNW', 'OSPN', 'OPRA', 'OPTX', 'OPTN', 'OSS', 'ORIS', 'OPRX', 'ORMP', 'ORIC', 'ORKT', 'ORRF', 'ORGO', 'OSRHW', 'OPRT', 'OSRH', 'OS', 'OPXS', 'OSIS', 'OST', 'ORGN', 'OPTXW', 'OSBC', 'ORLY', 'ORKA']: YFRateLimitError('Too Many Requests. Rate limited. Try after a while.')\n",
      "/var/folders/bq/_yk5zsn90t11g7lt1yn4v9w40000gn/T/ipykernel_52515/3504697734.py:31: PerformanceWarning: indexing past lexsort depth may impact performance.\n",
      "  if (ticker,) in batch_data.columns:\n"
     ]
    },
    {
     "name": "stdout",
     "output_type": "stream",
     "text": [
      "\n",
      "Downloading batch 2575 to 2599...\n"
     ]
    },
    {
     "name": "stderr",
     "output_type": "stream",
     "text": [
      "[*********************100%***********************]  25 of 25 completed\n",
      "\n",
      "25 Failed downloads:\n",
      "['OXLCZ', 'OUST', 'OXSQG', 'OUSTZ', 'OXLC', 'OXSQ', 'OTLK', 'OTRK', 'OXLCG', 'OXLCO', 'OXLCL', 'OSW', 'OTLY', 'OTTR', 'OXLCN', 'OVBC', 'OXLCI', 'OXBR', 'OSUR', 'OXBRW', 'OVLY', 'OTEX', 'OXLCP', 'OVID', 'OUSTW']: YFRateLimitError('Too Many Requests. Rate limited. Try after a while.')\n",
      "/var/folders/bq/_yk5zsn90t11g7lt1yn4v9w40000gn/T/ipykernel_52515/3504697734.py:31: PerformanceWarning: indexing past lexsort depth may impact performance.\n",
      "  if (ticker,) in batch_data.columns:\n"
     ]
    },
    {
     "name": "stdout",
     "output_type": "stream",
     "text": [
      "\n",
      "Downloading batch 2600 to 2624...\n"
     ]
    },
    {
     "name": "stderr",
     "output_type": "stream",
     "text": [
      "[*********************100%***********************]  25 of 25 completed\n",
      "\n",
      "25 Failed downloads:\n",
      "['PBBK', 'PAX', 'PAYX', 'PAYS', 'PAGP', 'PACB', 'PALI', 'PAMT', 'PARA', 'OXSQZ', 'PANW', 'PAL', 'PATK', 'OZK', 'OZKAP', 'PBFS', 'PAVM', 'PAVS', 'PAA', 'PANL', 'PARAA', 'PAVMZ', 'PAYO', 'PAHC', 'PASG']: YFRateLimitError('Too Many Requests. Rate limited. Try after a while.')\n",
      "/var/folders/bq/_yk5zsn90t11g7lt1yn4v9w40000gn/T/ipykernel_52515/3504697734.py:31: PerformanceWarning: indexing past lexsort depth may impact performance.\n",
      "  if (ticker,) in batch_data.columns:\n"
     ]
    },
    {
     "name": "stdout",
     "output_type": "stream",
     "text": [
      "\n",
      "Downloading batch 2625 to 2649...\n"
     ]
    },
    {
     "name": "stderr",
     "output_type": "stream",
     "text": [
      "[*********************100%***********************]  25 of 25 completed\n",
      "\n",
      "25 Failed downloads:\n",
      "['PC', 'PCH', 'PBM', 'PCT', 'PDD', 'PBYI', 'PDFS', 'PBHC', 'PCYO', 'PBPB', 'PCSC', 'PDLB', 'PDCO', 'PBMWW', 'PCTTW', 'PCVX', 'PCB', 'PDEX', 'PCRX', 'PCSA', 'PDSB', 'PCAR', 'PCLA', 'PCTTU', 'PCTY']: YFRateLimitError('Too Many Requests. Rate limited. Try after a while.')\n",
      "/var/folders/bq/_yk5zsn90t11g7lt1yn4v9w40000gn/T/ipykernel_52515/3504697734.py:31: PerformanceWarning: indexing past lexsort depth may impact performance.\n",
      "  if (ticker,) in batch_data.columns:\n"
     ]
    },
    {
     "name": "stdout",
     "output_type": "stream",
     "text": [
      "\n",
      "Downloading batch 2650 to 2674...\n"
     ]
    },
    {
     "name": "stderr",
     "output_type": "stream",
     "text": [
      "[*********************100%***********************]  25 of 25 completed\n",
      "\n",
      "25 Failed downloads:\n",
      "['PETZ', 'PFIS', 'PETWW', 'PERI', 'PGHL', 'PFG', 'PGEN', 'PEP', 'PENG', 'PENN', 'PGC', 'PDYN', 'PFBC', 'PEBK', 'PESI', 'PET', 'PETS', 'PDYNW', 'PEGA', 'PEBO', 'PFX', 'PEV', 'PFXNZ', 'PECO', 'PEPG']: YFRateLimitError('Too Many Requests. Rate limited. Try after a while.')\n",
      "/var/folders/bq/_yk5zsn90t11g7lt1yn4v9w40000gn/T/ipykernel_52515/3504697734.py:31: PerformanceWarning: indexing past lexsort depth may impact performance.\n",
      "  if (ticker,) in batch_data.columns:\n"
     ]
    },
    {
     "name": "stdout",
     "output_type": "stream",
     "text": [
      "\n",
      "Downloading batch 2675 to 2699...\n"
     ]
    },
    {
     "name": "stderr",
     "output_type": "stream",
     "text": [
      "[*********************100%***********************]  24 of 25 completed\n",
      "\n",
      "25 Failed downloads:\n",
      "['PGNY', 'PI', 'PIIIW', 'PITA', 'PLMKW', 'PLBY', 'PLBC', 'PHIO', 'PHVS', 'PGY', 'PINC', 'PHH', 'PIII', 'PHUN', 'PGYWW', 'PHAR', 'PKOH', 'PLAY', 'PLMK', 'PLL', 'PLCE', 'PHLT', 'PHAT', 'PLAB', 'PKBK']: YFRateLimitError('Too Many Requests. Rate limited. Try after a while.')\n",
      "/var/folders/bq/_yk5zsn90t11g7lt1yn4v9w40000gn/T/ipykernel_52515/3504697734.py:31: PerformanceWarning: indexing past lexsort depth may impact performance.\n",
      "  if (ticker,) in batch_data.columns:\n"
     ]
    },
    {
     "name": "stdout",
     "output_type": "stream",
     "text": [
      "\n",
      "Downloading batch 2700 to 2724...\n"
     ]
    },
    {
     "name": "stderr",
     "output_type": "stream",
     "text": [
      "[*********************100%***********************]  25 of 25 completed\n",
      "\n",
      "25 Failed downloads:\n",
      "['PLRZ', 'PNBK', 'PNTG', 'PLUR', 'PLYA', 'PN', 'PLTK', 'PLXS', 'PLPC', 'PNFPP', 'PLUT', 'PNFP', 'PMEC', 'PLSE', 'PLRX', 'PNRG', 'PLMR', 'PMAX', 'PLUG', 'PMCB', 'PMN', 'PLTR', 'PMTS', 'PMVP', 'PLUS']: YFRateLimitError('Too Many Requests. Rate limited. Try after a while.')\n",
      "/var/folders/bq/_yk5zsn90t11g7lt1yn4v9w40000gn/T/ipykernel_52515/3504697734.py:31: PerformanceWarning: indexing past lexsort depth may impact performance.\n",
      "  if (ticker,) in batch_data.columns:\n"
     ]
    },
    {
     "name": "stdout",
     "output_type": "stream",
     "text": [
      "\n",
      "Downloading batch 2725 to 2749...\n"
     ]
    },
    {
     "name": "stderr",
     "output_type": "stream",
     "text": [
      "[*********************100%***********************]  25 of 25 completed\n",
      "\n",
      "25 Failed downloads:\n",
      "['PRCT', 'PRAX', 'POWI', 'POOL', 'POLA', 'PONY', 'PPBT', 'POWWP', 'PODD', 'POCI', 'PRE', 'POET', 'PODC', 'PPC', 'POWW', 'POWL', 'PPIH', 'PRAA', 'PPSI', 'POAI', 'PPTA', 'PRDO', 'POLE', 'PPBI', 'PRCH']: YFRateLimitError('Too Many Requests. Rate limited. Try after a while.')\n",
      "/var/folders/bq/_yk5zsn90t11g7lt1yn4v9w40000gn/T/ipykernel_52515/3504697734.py:31: PerformanceWarning: indexing past lexsort depth may impact performance.\n",
      "  if (ticker,) in batch_data.columns:\n"
     ]
    },
    {
     "name": "stdout",
     "output_type": "stream",
     "text": [
      "\n",
      "Downloading batch 2750 to 2774...\n"
     ]
    },
    {
     "name": "stderr",
     "output_type": "stream",
     "text": [
      "[*********************100%***********************]  25 of 25 completed\n",
      "\n",
      "25 Failed downloads:\n",
      "['PROK', 'PROV', 'PRLD', 'PRVA', 'PRGS', 'PSIG', 'PSIX', 'PRENW', 'PRTC', 'PSHG', 'PSEC', 'PRTS', 'PRTG', 'PROP', 'PRFX', 'PRZO', 'PRQR', 'PROF', 'PRPL', 'PRME', 'PRPO', 'PRSO', 'PRTH', 'PRTA', 'PRPH']: YFRateLimitError('Too Many Requests. Rate limited. Try after a while.')\n",
      "/var/folders/bq/_yk5zsn90t11g7lt1yn4v9w40000gn/T/ipykernel_52515/3504697734.py:31: PerformanceWarning: indexing past lexsort depth may impact performance.\n",
      "  if (ticker,) in batch_data.columns:\n"
     ]
    },
    {
     "name": "stdout",
     "output_type": "stream",
     "text": [
      "\n",
      "Downloading batch 2775 to 2799...\n"
     ]
    },
    {
     "name": "stderr",
     "output_type": "stream",
     "text": [
      "[*********************100%***********************]  25 of 25 completed\n",
      "\n",
      "25 Failed downloads:\n",
      "['PTC', 'PSNL', 'PT', 'PTHL', 'PSTV', 'PTCT', 'PTLE', 'PWM', 'PTEN', 'PWOD', 'PTGX', 'PSNY', 'PULM', 'PTON', 'PTIXW', 'PTPI', 'PUBM', 'PTLO', 'PTIX', 'PVBC', 'PTMN', 'PVLA', 'PWP', 'PSMT', 'PSNYW']: YFRateLimitError('Too Many Requests. Rate limited. Try after a while.')\n",
      "/var/folders/bq/_yk5zsn90t11g7lt1yn4v9w40000gn/T/ipykernel_52515/3504697734.py:31: PerformanceWarning: indexing past lexsort depth may impact performance.\n",
      "  if (ticker,) in batch_data.columns:\n"
     ]
    },
    {
     "name": "stdout",
     "output_type": "stream",
     "text": [
      "\n",
      "Downloading batch 2800 to 2824...\n"
     ]
    },
    {
     "name": "stderr",
     "output_type": "stream",
     "text": [
      "[*********************100%***********************]  25 of 25 completed\n",
      "\n",
      "25 Failed downloads:\n",
      "['PZZA', 'QIPT', 'QQQX', 'QNTM', 'PYPL', 'QLYS', 'QMCO', 'PYXS', 'PYPD', 'QFIN', 'QH', 'QNST', 'PYCR', 'QCRH', 'QDEL', 'QLGN', 'QCOM', 'QETA', 'QNCX', 'QETAU', 'PXSAW', 'QMMM', 'PXLW', 'QNRX', 'PXS']: YFRateLimitError('Too Many Requests. Rate limited. Try after a while.')\n",
      "/var/folders/bq/_yk5zsn90t11g7lt1yn4v9w40000gn/T/ipykernel_52515/3504697734.py:31: PerformanceWarning: indexing past lexsort depth may impact performance.\n",
      "  if (ticker,) in batch_data.columns:\n"
     ]
    },
    {
     "name": "stdout",
     "output_type": "stream",
     "text": [
      "\n",
      "Downloading batch 2825 to 2849...\n"
     ]
    },
    {
     "name": "stderr",
     "output_type": "stream",
     "text": [
      "[*********************100%***********************]  25 of 25 completed\n",
      "\n",
      "25 Failed downloads:\n",
      "['RAINW', 'RAPT', 'QVCGB', 'QURE', 'RAIN', 'QTRX', 'QVCGP', 'QTTB', 'QSIAW', 'RANI', 'RAIL', 'RAPP', 'QUBT', 'QRHC', 'RAVE', 'QSI', 'RANG', 'QVCGA', 'RADX', 'QRVO', 'QUIK', 'RARE', 'RANGU', 'QSG', 'RAND']: YFRateLimitError('Too Many Requests. Rate limited. Try after a while.')\n",
      "/var/folders/bq/_yk5zsn90t11g7lt1yn4v9w40000gn/T/ipykernel_52515/3504697734.py:31: PerformanceWarning: indexing past lexsort depth may impact performance.\n",
      "  if (ticker,) in batch_data.columns:\n"
     ]
    },
    {
     "name": "stdout",
     "output_type": "stream",
     "text": [
      "\n",
      "Downloading batch 2850 to 2874...\n"
     ]
    },
    {
     "name": "stderr",
     "output_type": "stream",
     "text": [
      "[*********************100%***********************]  24 of 25 completed\n",
      "\n",
      "25 Failed downloads:\n",
      "['RDIB', 'RCKTW', 'RDZN', 'RBKB', 'RBBN', 'RCAT', 'RAYA', 'RCKY', 'RDCM', 'RDWR', 'RDNT', 'RDGT', 'RAY', 'RCMT', 'RDI', 'RCKT', 'RDUS', 'RDHL', 'RDFN', 'RBCAA', 'RCON', 'RBB', 'RCEL', 'RDVT', 'RCT']: YFRateLimitError('Too Many Requests. Rate limited. Try after a while.')\n",
      "/var/folders/bq/_yk5zsn90t11g7lt1yn4v9w40000gn/T/ipykernel_52515/3504697734.py:31: PerformanceWarning: indexing past lexsort depth may impact performance.\n",
      "  if (ticker,) in batch_data.columns:\n"
     ]
    },
    {
     "name": "stdout",
     "output_type": "stream",
     "text": [
      "\n",
      "Downloading batch 2875 to 2899...\n"
     ]
    },
    {
     "name": "stderr",
     "output_type": "stream",
     "text": [
      "[*********************100%***********************]  25 of 25 completed\n",
      "\n",
      "25 Failed downloads:\n",
      "['RELL', 'RENE', 'REPL', 'REYN', 'REG', 'REGCP', 'REKR', 'RECT', 'REAL', 'REVB', 'REFR', 'REE', 'REFI', 'REAX', 'REGN', 'RENT', 'RDZNW', 'REVBW', 'RETO', 'REGCO', 'RENEW', 'REBN', 'RELY', 'RELI', 'RENB']: YFRateLimitError('Too Many Requests. Rate limited. Try after a while.')\n",
      "/var/folders/bq/_yk5zsn90t11g7lt1yn4v9w40000gn/T/ipykernel_52515/3504697734.py:31: PerformanceWarning: indexing past lexsort depth may impact performance.\n",
      "  if (ticker,) in batch_data.columns:\n"
     ]
    },
    {
     "name": "stdout",
     "output_type": "stream",
     "text": [
      "\n",
      "Downloading batch 2900 to 2924...\n"
     ]
    },
    {
     "name": "stderr",
     "output_type": "stream",
     "text": [
      "[*********************100%***********************]  25 of 25 completed\n",
      "\n",
      "25 Failed downloads:\n",
      "['RGC', 'RICK', 'RGLD', 'RGS', 'RHLD', 'RILYT', 'RIBB', 'RGTI', 'RFIL', 'RILY', 'RGLS', 'RILYG', 'RGEN', 'RILYL', 'RGP', 'RGTIW', 'RGCO', 'RIGL', 'RIBBR', 'RFAI', 'RILYN', 'RGNX', 'RFAIR', 'RILYK', 'RILYP']: YFRateLimitError('Too Many Requests. Rate limited. Try after a while.')\n",
      "/var/folders/bq/_yk5zsn90t11g7lt1yn4v9w40000gn/T/ipykernel_52515/3504697734.py:31: PerformanceWarning: indexing past lexsort depth may impact performance.\n",
      "  if (ticker,) in batch_data.columns:\n"
     ]
    },
    {
     "name": "stdout",
     "output_type": "stream",
     "text": [
      "\n",
      "Downloading batch 2925 to 2949...\n"
     ]
    },
    {
     "name": "stderr",
     "output_type": "stream",
     "text": [
      "[*********************100%***********************]  25 of 25 completed\n",
      "\n",
      "25 Failed downloads:\n",
      "['RMR', 'RITR', 'RMBI', 'RMCF', 'RIVN', 'RLMD', 'RNAC', 'RMCO', 'RMSGW', 'RNA', 'RMTI', 'RNTX', 'RLAY', 'RIME', 'RMBS', 'RMSG', 'RMBL', 'RKLB', 'RNAZ', 'RNW', 'RIOT', 'RLYB', 'RILYZ', 'RMNI', 'RKDA']: YFRateLimitError('Too Many Requests. Rate limited. Try after a while.')\n",
      "/var/folders/bq/_yk5zsn90t11g7lt1yn4v9w40000gn/T/ipykernel_52515/3504697734.py:31: PerformanceWarning: indexing past lexsort depth may impact performance.\n",
      "  if (ticker,) in batch_data.columns:\n"
     ]
    },
    {
     "name": "stdout",
     "output_type": "stream",
     "text": [
      "\n",
      "Downloading batch 2950 to 2974...\n"
     ]
    },
    {
     "name": "stderr",
     "output_type": "stream",
     "text": [
      "[*********************100%***********************]  25 of 25 completed\n",
      "\n",
      "25 Failed downloads:\n",
      "['RNXT', 'RPRX', 'RRR', 'ROST', 'RPD', 'ROMA', 'RPTX', 'ROP', 'RRGB', 'ROOT', 'ROKU', 'RUMBW', 'ROIV', 'RTC', 'RSVR', 'RPID', 'RR', 'RRBI', 'ROCK', 'RSSS', 'RSLS', 'ROAD', 'RPAY', 'RNWWW', 'RUM']: YFRateLimitError('Too Many Requests. Rate limited. Try after a while.')\n",
      "/var/folders/bq/_yk5zsn90t11g7lt1yn4v9w40000gn/T/ipykernel_52515/3504697734.py:31: PerformanceWarning: indexing past lexsort depth may impact performance.\n",
      "  if (ticker,) in batch_data.columns:\n"
     ]
    },
    {
     "name": "stdout",
     "output_type": "stream",
     "text": [
      "\n",
      "Downloading batch 2975 to 2999...\n"
     ]
    },
    {
     "name": "stderr",
     "output_type": "stream",
     "text": [
      "[*********************100%***********************]  25 of 25 completed\n",
      "\n",
      "25 Failed downloads:\n",
      "['RXRX', 'RVYL', 'RWAY', 'RVSN', 'RVPHW', 'SABS', 'RVSB', 'RYTM', 'RUN', 'RUSHB', 'RUSHA', 'RZLVW', 'RVSNW', 'RYET', 'RVPH', 'SABR', 'RVMD', 'RXT', 'RWAYL', 'RWAYZ', 'RZLV', 'RZLT', 'RYAAY', 'RXST', 'RVMDW']: YFRateLimitError('Too Many Requests. Rate limited. Try after a while.')\n",
      "/var/folders/bq/_yk5zsn90t11g7lt1yn4v9w40000gn/T/ipykernel_52515/3504697734.py:31: PerformanceWarning: indexing past lexsort depth may impact performance.\n",
      "  if (ticker,) in batch_data.columns:\n"
     ]
    },
    {
     "name": "stdout",
     "output_type": "stream",
     "text": [
      "\n",
      "Downloading batch 3000 to 3024...\n"
     ]
    },
    {
     "name": "stderr",
     "output_type": "stream",
     "text": [
      "[*********************100%***********************]  25 of 25 completed\n",
      "\n",
      "25 Failed downloads:\n",
      "['SBC', 'SBFG', 'SANM', 'SAGE', 'SAMG', 'SAIL', 'SBET', 'SAGT', 'SABSW', 'SAIA', 'SAIHW', 'SAIH', 'SBCF', 'SAVA', 'SANA', 'SATS', 'SATLW', 'SAG', 'SBCWW', 'SATL', 'SANW', 'SAFT', 'SAIC', 'SBAC', 'SANG']: YFRateLimitError('Too Many Requests. Rate limited. Try after a while.')\n",
      "/var/folders/bq/_yk5zsn90t11g7lt1yn4v9w40000gn/T/ipykernel_52515/3504697734.py:31: PerformanceWarning: indexing past lexsort depth may impact performance.\n",
      "  if (ticker,) in batch_data.columns:\n"
     ]
    },
    {
     "name": "stdout",
     "output_type": "stream",
     "text": [
      "\n",
      "Downloading batch 3025 to 3049...\n"
     ]
    },
    {
     "name": "stderr",
     "output_type": "stream",
     "text": [
      "[*********************100%***********************]  24 of 25 completed\n",
      "\n",
      "25 Failed downloads:\n",
      "['SCVL', 'SDAWW', 'SDHIU', 'SBRA', 'SCHL', 'SDGR', 'SCSC', 'SDSTW', 'SBGI', 'SBFMW', 'SCPH', 'SBLK', 'SCNI', 'SBFM', 'SCNX', 'SCLX', 'SDA', 'SCOR', 'SCLXW', 'SCKT', 'SBUX', 'SDST', 'SCWO', 'SCYX', 'SDOT']: YFRateLimitError('Too Many Requests. Rate limited. Try after a while.')\n",
      "/var/folders/bq/_yk5zsn90t11g7lt1yn4v9w40000gn/T/ipykernel_52515/3504697734.py:31: PerformanceWarning: indexing past lexsort depth may impact performance.\n",
      "  if (ticker,) in batch_data.columns:\n"
     ]
    },
    {
     "name": "stdout",
     "output_type": "stream",
     "text": [
      "\n",
      "Downloading batch 3050 to 3074...\n"
     ]
    },
    {
     "name": "stderr",
     "output_type": "stream",
     "text": [
      "[*********************100%***********************]  24 of 25 completed\n",
      "\n",
      "25 Failed downloads:\n",
      "['SFWL', 'SGA', 'SERV', 'SENEA', 'SFNC', 'SEATW', 'SFST', 'SELX', 'SFM', 'SFIX', 'SGBX', 'SENEB', 'SERA', 'SEER', 'SEIC', 'SEDG', 'SFBC', 'SELF', 'SFD', 'SEVN', 'SEED', 'SFHG', 'SEZL', 'SEPN', 'SEAT']: YFRateLimitError('Too Many Requests. Rate limited. Try after a while.')\n",
      "/var/folders/bq/_yk5zsn90t11g7lt1yn4v9w40000gn/T/ipykernel_52515/3504697734.py:31: PerformanceWarning: indexing past lexsort depth may impact performance.\n",
      "  if (ticker,) in batch_data.columns:\n"
     ]
    },
    {
     "name": "stdout",
     "output_type": "stream",
     "text": [
      "\n",
      "Downloading batch 3075 to 3099...\n"
     ]
    },
    {
     "name": "stderr",
     "output_type": "stream",
     "text": [
      "[*********************100%***********************]  25 of 25 completed\n",
      "\n",
      "25 Failed downloads:\n",
      "['SGMO', 'SHOP', 'SGMA', 'SHPH', 'SGD', 'SGMT', 'SHMD', 'SHFS', 'SHC', 'SHEN', 'SHMDW', 'SGLY', 'SGHT', 'SHBI', 'SHIP', 'SGRP', 'SGRY', 'SHOT', 'SHOTW', 'SGC', 'SHLS', 'SHOO', 'SHIM', 'SGML', 'SHFSW']: YFRateLimitError('Too Many Requests. Rate limited. Try after a while.')\n",
      "/var/folders/bq/_yk5zsn90t11g7lt1yn4v9w40000gn/T/ipykernel_52515/3504697734.py:31: PerformanceWarning: indexing past lexsort depth may impact performance.\n",
      "  if (ticker,) in batch_data.columns:\n"
     ]
    },
    {
     "name": "stdout",
     "output_type": "stream",
     "text": [
      "\n",
      "Downloading batch 3100 to 3124...\n"
     ]
    },
    {
     "name": "stderr",
     "output_type": "stream",
     "text": [
      "[*********************100%***********************]  25 of 25 completed\n",
      "\n",
      "25 Failed downloads:\n",
      "['SIMAU', 'SISI', 'SKGR', 'SILC', 'SKGRU', 'SJ', 'SIDU', 'SILO', 'SIBN', 'SIGA', 'SKGRW', 'SIEB', 'SHYF', 'SKIN', 'SIGIP', 'SJW', 'SIRI', 'SIMO', 'SIMA', 'SIGI', 'SION', 'SITM', 'SINT', 'SIFY', 'SKBL']: YFRateLimitError('Too Many Requests. Rate limited. Try after a while.')\n",
      "/var/folders/bq/_yk5zsn90t11g7lt1yn4v9w40000gn/T/ipykernel_52515/3504697734.py:31: PerformanceWarning: indexing past lexsort depth may impact performance.\n",
      "  if (ticker,) in batch_data.columns:\n"
     ]
    },
    {
     "name": "stdout",
     "output_type": "stream",
     "text": [
      "\n",
      "Downloading batch 3125 to 3149...\n"
     ]
    },
    {
     "name": "stderr",
     "output_type": "stream",
     "text": [
      "[*********************100%***********************]  25 of 25 completed\n",
      "\n",
      "25 Failed downloads:\n",
      "['SKYQ', 'SLE', 'SKYX', 'SLM', 'SLRN', 'SLRX', 'SLNH', 'SKYE', 'SKWD', 'SLAB', 'SLDB', 'SLRC', 'SLNHP', 'SLGL', 'SLDPW', 'SLNG', 'SKYW', 'SKYT', 'SLS', 'SLNO', 'SKK', 'SLP', 'SLMBP', 'SLDP', 'SLN']: YFRateLimitError('Too Many Requests. Rate limited. Try after a while.')\n",
      "/var/folders/bq/_yk5zsn90t11g7lt1yn4v9w40000gn/T/ipykernel_52515/3504697734.py:31: PerformanceWarning: indexing past lexsort depth may impact performance.\n",
      "  if (ticker,) in batch_data.columns:\n"
     ]
    },
    {
     "name": "stdout",
     "output_type": "stream",
     "text": [
      "\n",
      "Downloading batch 3150 to 3174...\n"
     ]
    },
    {
     "name": "stderr",
     "output_type": "stream",
     "text": [
      "[*********************100%***********************]  25 of 25 completed\n",
      "\n",
      "25 Failed downloads:\n",
      "['SLXN', 'SMXT', 'SNCRL', 'SMBC', 'SMID', 'SNAL', 'SNDL', 'SNCR', 'SLXNW', 'SMTC', 'SMXWW', 'SMX', 'SMPL', 'SMCI', 'SMTI', 'SNCY', 'SMSI', 'SNDX', 'SND', 'SNDK', 'SMTK', 'SNEX', 'SLSN', 'SNES', 'SNBR']: YFRateLimitError('Too Many Requests. Rate limited. Try after a while.')\n",
      "/var/folders/bq/_yk5zsn90t11g7lt1yn4v9w40000gn/T/ipykernel_52515/3504697734.py:31: PerformanceWarning: indexing past lexsort depth may impact performance.\n",
      "  if (ticker,) in batch_data.columns:\n"
     ]
    },
    {
     "name": "stdout",
     "output_type": "stream",
     "text": [
      "\n",
      "Downloading batch 3175 to 3199...\n"
     ]
    },
    {
     "name": "stderr",
     "output_type": "stream",
     "text": [
      "[*********************100%***********************]  25 of 25 completed\n",
      "\n",
      "25 Failed downloads:\n",
      "['SOHU', 'SNYR', 'SNWV', 'SOHOB', 'SONM', 'SNT', 'SNFCA', 'SNTG', 'SNOA', 'SOHOO', 'SNPX', 'SOGP', 'SNTI', 'SONN', 'SOFI', 'SNGX', 'SNY', 'SNRE', 'SOBR', 'SNPS', 'SONO', 'SOHO', 'SNSE', 'SOHON', 'SOND']: YFRateLimitError('Too Many Requests. Rate limited. Try after a while.')\n",
      "/var/folders/bq/_yk5zsn90t11g7lt1yn4v9w40000gn/T/ipykernel_52515/3504697734.py:31: PerformanceWarning: indexing past lexsort depth may impact performance.\n",
      "  if (ticker,) in batch_data.columns:\n"
     ]
    },
    {
     "name": "stdout",
     "output_type": "stream",
     "text": [
      "\n",
      "Downloading batch 3200 to 3224...\n"
     ]
    },
    {
     "name": "stderr",
     "output_type": "stream",
     "text": [
      "[*********************100%***********************]  25 of 25 completed\n",
      "\n",
      "25 Failed downloads:\n",
      "['SPRY', 'SQFTP', 'SQFTW', 'SPFI', 'SPPL', 'SPRO', 'SPKL', 'SPCB', 'SPTN', 'SPNS', 'SQFT', 'SPWH', 'SPRB', 'SPSC', 'SPOK', 'SOTK', 'SPAI', 'SOUNW', 'SOUN', 'SPT', 'SOPA', 'SOPH', 'SPRC', 'SPHL', 'SOWG']: YFRateLimitError('Too Many Requests. Rate limited. Try after a while.')\n",
      "/var/folders/bq/_yk5zsn90t11g7lt1yn4v9w40000gn/T/ipykernel_52515/3504697734.py:31: PerformanceWarning: indexing past lexsort depth may impact performance.\n",
      "  if (ticker,) in batch_data.columns:\n"
     ]
    },
    {
     "name": "stdout",
     "output_type": "stream",
     "text": [
      "\n",
      "Downloading batch 3225 to 3249...\n"
     ]
    },
    {
     "name": "stderr",
     "output_type": "stream",
     "text": [
      "[*********************100%***********************]  25 of 25 completed\n",
      "\n",
      "25 Failed downloads:\n",
      "['STAI', 'SRZN', 'SSBK', 'SRTS', 'SRPT', 'STBA', 'SRAD', 'SSTI', 'SSKN', 'SRRK', 'SRBK', 'SRDX', 'STAK', 'SRCE', 'STBX', 'SSSS', 'SSYS', 'SSRM', 'SRM', 'SSSSL', 'STAA', 'SSP', 'SSBI', 'SSNC', 'SRZNW']: YFRateLimitError('Too Many Requests. Rate limited. Try after a while.')\n",
      "/var/folders/bq/_yk5zsn90t11g7lt1yn4v9w40000gn/T/ipykernel_52515/3504697734.py:31: PerformanceWarning: indexing past lexsort depth may impact performance.\n",
      "  if (ticker,) in batch_data.columns:\n"
     ]
    },
    {
     "name": "stdout",
     "output_type": "stream",
     "text": [
      "\n",
      "Downloading batch 3250 to 3274...\n"
     ]
    },
    {
     "name": "stderr",
     "output_type": "stream",
     "text": [
      "[*********************100%***********************]  25 of 25 completed\n",
      "\n",
      "25 Failed downloads:\n",
      "['STRF', 'STLD', 'STKH', 'STRA', 'STNE', 'STRK', 'STRS', 'STEC', 'STSSW', 'STI', 'STOK', 'STRM', 'STHO', 'STKS', 'STRO', 'STEP', 'STSS', 'STRL', 'STGW', 'STRRP', 'STIM', 'STFS', 'STRT', 'STKL', 'STRR']: YFRateLimitError('Too Many Requests. Rate limited. Try after a while.')\n",
      "/var/folders/bq/_yk5zsn90t11g7lt1yn4v9w40000gn/T/ipykernel_52515/3504697734.py:31: PerformanceWarning: indexing past lexsort depth may impact performance.\n",
      "  if (ticker,) in batch_data.columns:\n"
     ]
    },
    {
     "name": "stdout",
     "output_type": "stream",
     "text": [
      "\n",
      "Downloading batch 3275 to 3299...\n"
     ]
    },
    {
     "name": "stderr",
     "output_type": "stream",
     "text": [
      "[*********************100%***********************]  25 of 25 completed\n",
      "\n",
      "25 Failed downloads:\n",
      "['SVCCU', 'SVCC', 'SVII', 'STX', 'SUPN', 'SVCO', 'SWAG', 'SWKHL', 'SWAGW', 'SURG', 'SVRA', 'SVC', 'SVIIW', 'SVRE', 'SWKH', 'SUNE', 'SUNS', 'SWIN', 'SVREW', 'SUUN', 'STTK', 'SWIM', 'SVCCW', 'SUGP', 'SWBI']: YFRateLimitError('Too Many Requests. Rate limited. Try after a while.')\n",
      "/var/folders/bq/_yk5zsn90t11g7lt1yn4v9w40000gn/T/ipykernel_52515/3504697734.py:31: PerformanceWarning: indexing past lexsort depth may impact performance.\n",
      "  if (ticker,) in batch_data.columns:\n"
     ]
    },
    {
     "name": "stdout",
     "output_type": "stream",
     "text": [
      "\n",
      "Downloading batch 3300 to 3324...\n"
     ]
    },
    {
     "name": "stderr",
     "output_type": "stream",
     "text": [
      "[*********************100%***********************]  25 of 25 completed\n",
      "\n",
      "25 Failed downloads:\n",
      "['SY', 'TALK', 'SXTP', 'SXTPW', 'SZZLU', 'SWKS', 'TAIT', 'SYRE', 'SWVLW', 'SYM', 'SXTC', 'SWTX', 'TACT', 'TAOP', 'SYTA', 'TANH', 'SWVL', 'SYT', 'TALKW', 'SYBX', 'SYNA', 'SYTAW', 'SYPR', 'SYBT', 'SYRA']: YFRateLimitError('Too Many Requests. Rate limited. Try after a while.')\n",
      "/var/folders/bq/_yk5zsn90t11g7lt1yn4v9w40000gn/T/ipykernel_52515/3504697734.py:31: PerformanceWarning: indexing past lexsort depth may impact performance.\n",
      "  if (ticker,) in batch_data.columns:\n"
     ]
    },
    {
     "name": "stdout",
     "output_type": "stream",
     "text": [
      "\n",
      "Downloading batch 3325 to 3349...\n"
     ]
    },
    {
     "name": "stderr",
     "output_type": "stream",
     "text": [
      "[*********************100%***********************]  25 of 25 completed\n",
      "\n",
      "25 Failed downloads:\n",
      "['TAVIR', 'TCBIO', 'TATT', 'TC', 'TBBK', 'TBMCR', 'TBLAW', 'TBPH', 'TCBX', 'TBCH', 'TCBS', 'TCMD', 'TASK', 'TBRG', 'TAVI', 'TBLD', 'TBMC', 'TBLA', 'TAYD', 'TARS', 'TCBI', 'TARA', 'TAVIU', 'TBH', 'TCBK']: YFRateLimitError('Too Many Requests. Rate limited. Try after a while.')\n",
      "/var/folders/bq/_yk5zsn90t11g7lt1yn4v9w40000gn/T/ipykernel_52515/3504697734.py:31: PerformanceWarning: indexing past lexsort depth may impact performance.\n",
      "  if (ticker,) in batch_data.columns:\n"
     ]
    },
    {
     "name": "stdout",
     "output_type": "stream",
     "text": [
      "\n",
      "Downloading batch 3350 to 3374...\n"
     ]
    },
    {
     "name": "stderr",
     "output_type": "stream",
     "text": [
      "[*********************100%***********************]  25 of 25 completed\n",
      "\n",
      "25 Failed downloads:\n",
      "['TER', 'TFIN', 'TCOM', 'TDUP', 'TECX', 'TDAC', 'TDACW', 'TENX', 'TECTP', 'TCRT', 'TECH', 'TCRX', 'TELO', 'TDTH', 'TFINP', 'TERN', 'TEAM', 'TGL', 'TEM', 'TCX', 'TELA', 'TFSL', 'TCPC', 'TENB', 'TDACU']: YFRateLimitError('Too Many Requests. Rate limited. Try after a while.')\n",
      "/var/folders/bq/_yk5zsn90t11g7lt1yn4v9w40000gn/T/ipykernel_52515/3504697734.py:31: PerformanceWarning: indexing past lexsort depth may impact performance.\n",
      "  if (ticker,) in batch_data.columns:\n"
     ]
    },
    {
     "name": "stdout",
     "output_type": "stream",
     "text": [
      "\n",
      "Downloading batch 3375 to 3399...\n"
     ]
    },
    {
     "name": "stderr",
     "output_type": "stream",
     "text": [
      "[*********************100%***********************]  25 of 25 completed\n",
      "\n",
      "25 Failed downloads:\n",
      "['TKLF', 'THTX', 'THFF', 'THAR', 'TLN', 'THRM', 'TIL', 'TH', 'TGTX', 'TKNO', 'TIPT', 'TLS', 'TILE', 'THRD', 'TIGO', 'TLF', 'THCH', 'TIRX', 'TLRY', 'THRY', 'TIVC', 'TLPH', 'TITN', 'TIGR', 'TLSA']: YFRateLimitError('Too Many Requests. Rate limited. Try after a while.')\n",
      "/var/folders/bq/_yk5zsn90t11g7lt1yn4v9w40000gn/T/ipykernel_52515/3504697734.py:31: PerformanceWarning: indexing past lexsort depth may impact performance.\n",
      "  if (ticker,) in batch_data.columns:\n"
     ]
    },
    {
     "name": "stdout",
     "output_type": "stream",
     "text": [
      "\n",
      "Downloading batch 3400 to 3424...\n"
     ]
    },
    {
     "name": "stderr",
     "output_type": "stream",
     "text": [
      "[*********************100%***********************]  25 of 25 completed\n",
      "\n",
      "25 Failed downloads:\n",
      "['TMCWW', 'TMDX', 'TNFA', 'TNON', 'TORO', 'TMC', 'TOWN', 'TOI', 'TLX', 'TLSI', 'TOMZ', 'TOP', 'TPCS', 'TMCI', 'TNXP', 'TNDM', 'TNMG', 'TMUS', 'TNONW', 'TOPW', 'TOYO', 'TNYA', 'TPG', 'TOUR', 'TNGX']: YFRateLimitError('Too Many Requests. Rate limited. Try after a while.')\n",
      "/var/folders/bq/_yk5zsn90t11g7lt1yn4v9w40000gn/T/ipykernel_52515/3504697734.py:31: PerformanceWarning: indexing past lexsort depth may impact performance.\n",
      "  if (ticker,) in batch_data.columns:\n"
     ]
    },
    {
     "name": "stdout",
     "output_type": "stream",
     "text": [
      "\n",
      "Downloading batch 3425 to 3449...\n"
     ]
    },
    {
     "name": "stderr",
     "output_type": "stream",
     "text": [
      "[*********************100%***********************]  25 of 25 completed\n",
      "\n",
      "25 Failed downloads:\n",
      "['TPIC', 'TRMD', 'TPGXL', 'TRAW', 'TRI', 'TRMK', 'TRML', 'TRMB', 'TPST', 'TRSG', 'TREE', 'TRS', 'TRST', 'TROW', 'TRINI', 'TRIP', 'TRUG', 'TROO', 'TRNS', 'TRIN', 'TRNR', 'TRIB', 'TRUE', 'TRINZ', 'TRDA']: YFRateLimitError('Too Many Requests. Rate limited. Try after a while.')\n",
      "/var/folders/bq/_yk5zsn90t11g7lt1yn4v9w40000gn/T/ipykernel_52515/3504697734.py:31: PerformanceWarning: indexing past lexsort depth may impact performance.\n",
      "  if (ticker,) in batch_data.columns:\n"
     ]
    },
    {
     "name": "stdout",
     "output_type": "stream",
     "text": [
      "\n",
      "Downloading batch 3450 to 3474...\n"
     ]
    },
    {
     "name": "stderr",
     "output_type": "stream",
     "text": [
      "[*********************100%***********************]  24 of 25 completed\n",
      "\n",
      "25 Failed downloads:\n",
      "['TTEK', 'TURN', 'TURB', 'TTMI', 'TTAN', 'TTNP', 'TSHA', 'TTWO', 'TRUP', 'TRVI', 'TSBX', 'TTGT', 'TSVT', 'TSCO', 'TSEM', 'TSAT', 'TTSH', 'TSLA', 'TUSK', 'TSSI', 'TVGN', 'TSBK', 'TTD', 'TTEC', 'TRVG']: YFRateLimitError('Too Many Requests. Rate limited. Try after a while.')\n",
      "/var/folders/bq/_yk5zsn90t11g7lt1yn4v9w40000gn/T/ipykernel_52515/3504697734.py:31: PerformanceWarning: indexing past lexsort depth may impact performance.\n",
      "  if (ticker,) in batch_data.columns:\n"
     ]
    },
    {
     "name": "stdout",
     "output_type": "stream",
     "text": [
      "\n",
      "Downloading batch 3475 to 3499...\n"
     ]
    },
    {
     "name": "stderr",
     "output_type": "stream",
     "text": [
      "[*********************100%***********************]  25 of 25 completed\n",
      "\n",
      "25 Failed downloads:\n",
      "['TW', 'UBFO', 'TYRA', 'UBSI', 'UBX', 'TVTX', 'TXG', 'UBCP', 'TZOO', 'TWIN', 'TXMD', 'TWNP', 'TWFG', 'TXRH', 'UAL', 'TWST', 'TWG', 'UBXG', 'TZUP', 'TXN', 'TYGO', 'UCTT', 'UCAR', 'TVGNW', 'UCL']: YFRateLimitError('Too Many Requests. Rate limited. Try after a while.')\n",
      "/var/folders/bq/_yk5zsn90t11g7lt1yn4v9w40000gn/T/ipykernel_52515/3504697734.py:31: PerformanceWarning: indexing past lexsort depth may impact performance.\n",
      "  if (ticker,) in batch_data.columns:\n"
     ]
    },
    {
     "name": "stdout",
     "output_type": "stream",
     "text": [
      "\n",
      "Downloading batch 3500 to 3524...\n"
     ]
    },
    {
     "name": "stderr",
     "output_type": "stream",
     "text": [
      "[*********************100%***********************]  25 of 25 completed\n",
      "\n",
      "25 Failed downloads:\n",
      "['ULCC', 'ULBI', 'UNCY', 'UNTY', 'UFG', 'UG', 'UHG', 'UNIT', 'UKOMW', 'UONE', 'UEIC', 'ULH', 'UDMY', 'UMBFP', 'UONEK', 'UOKA', 'UMBF', 'ULTA', 'ULY', 'UNB', 'UFPT', 'UGRO', 'UFCS', 'UK', 'UFPI']: YFRateLimitError('Too Many Requests. Rate limited. Try after a while.')\n",
      "/var/folders/bq/_yk5zsn90t11g7lt1yn4v9w40000gn/T/ipykernel_52515/3504697734.py:31: PerformanceWarning: indexing past lexsort depth may impact performance.\n",
      "  if (ticker,) in batch_data.columns:\n"
     ]
    },
    {
     "name": "stdout",
     "output_type": "stream",
     "text": [
      "\n",
      "Downloading batch 3525 to 3549...\n"
     ]
    },
    {
     "name": "stderr",
     "output_type": "stream",
     "text": [
      "[*********************100%***********************]  24 of 25 completed\n",
      "\n",
      "25 Failed downloads:\n",
      "['USAR', 'UTHR', 'UPC', 'UPXI', 'URGN', 'UPWK', 'USEG', 'UVSP', 'URBN', 'UROY', 'USCB', 'USIO', 'UXIN', 'USLM', 'UPST', 'USGO', 'UTMD', 'USEA', 'UPBD', 'USAU', 'USARW', 'UPB', 'UPLD', 'USGOW', 'UTSI']: YFRateLimitError('Too Many Requests. Rate limited. Try after a while.')\n",
      "/var/folders/bq/_yk5zsn90t11g7lt1yn4v9w40000gn/T/ipykernel_52515/3504697734.py:31: PerformanceWarning: indexing past lexsort depth may impact performance.\n",
      "  if (ticker,) in batch_data.columns:\n"
     ]
    },
    {
     "name": "stdout",
     "output_type": "stream",
     "text": [
      "\n",
      "Downloading batch 3550 to 3574...\n"
     ]
    },
    {
     "name": "stderr",
     "output_type": "stream",
     "text": [
      "[*********************100%***********************]  25 of 25 completed\n",
      "\n",
      "25 Failed downloads:\n",
      "['VEON', 'VCIG', 'VALN', 'VCTR', 'VERI', 'VECO', 'VERU', 'VCICU', 'VACH', 'VBNK', 'VANI', 'VERO', 'VCIC', 'VABK', 'VERB', 'VBTX', 'VCYT', 'VCEL', 'VEEA', 'VEEE', 'UYSCU', 'VCSA', 'VERA', 'VALU', 'VC']: YFRateLimitError('Too Many Requests. Rate limited. Try after a while.')\n",
      "/var/folders/bq/_yk5zsn90t11g7lt1yn4v9w40000gn/T/ipykernel_52515/3504697734.py:31: PerformanceWarning: indexing past lexsort depth may impact performance.\n",
      "  if (ticker,) in batch_data.columns:\n"
     ]
    },
    {
     "name": "stdout",
     "output_type": "stream",
     "text": [
      "\n",
      "Downloading batch 3575 to 3599...\n"
     ]
    },
    {
     "name": "stderr",
     "output_type": "stream",
     "text": [
      "[*********************100%***********************]  25 of 25 completed\n",
      "\n",
      "25 Failed downloads:\n",
      "['VICR', 'VLCN', 'VITL', 'VINC', 'VIRT', 'VGASW', 'VERX', 'VKTX', 'VIRC', 'VFF', 'VFS', 'VLYPO', 'VIASP', 'VINP', 'VIOT', 'VLY', 'VLYPN', 'VIR', 'VIGL', 'VERV', 'VIAV', 'VFSWW', 'VIVK', 'VLGEA', 'VGAS']: YFRateLimitError('Too Many Requests. Rate limited. Try after a while.')\n",
      "/var/folders/bq/_yk5zsn90t11g7lt1yn4v9w40000gn/T/ipykernel_52515/3504697734.py:31: PerformanceWarning: indexing past lexsort depth may impact performance.\n",
      "  if (ticker,) in batch_data.columns:\n"
     ]
    },
    {
     "name": "stdout",
     "output_type": "stream",
     "text": [
      "\n",
      "Downloading batch 3600 to 3624...\n"
     ]
    },
    {
     "name": "stderr",
     "output_type": "stream",
     "text": [
      "[*********************100%***********************]  25 of 25 completed\n",
      "\n",
      "25 Failed downloads:\n",
      "['VNOM', 'VRAR', 'VRNA', 'VRNS', 'VRNT', 'VMD', 'VOXR', 'VMEO', 'VOR', 'VREX', 'VMAR', 'VRDN', 'VRAX', 'VRM', 'VRSK', 'VRRM', 'VLYPP', 'VRSN', 'VRA', 'VRTX', 'VNET', 'VOD', 'VRME', 'VNDA', 'VRCA']: YFRateLimitError('Too Many Requests. Rate limited. Try after a while.')\n",
      "/var/folders/bq/_yk5zsn90t11g7lt1yn4v9w40000gn/T/ipykernel_52515/3504697734.py:31: PerformanceWarning: indexing past lexsort depth may impact performance.\n",
      "  if (ticker,) in batch_data.columns:\n"
     ]
    },
    {
     "name": "stdout",
     "output_type": "stream",
     "text": [
      "\n",
      "Downloading batch 3625 to 3649...\n"
     ]
    },
    {
     "name": "stderr",
     "output_type": "stream",
     "text": [
      "[*********************100%***********************]  25 of 25 completed\n",
      "\n",
      "25 Failed downloads:\n",
      "['VTYX', 'VSME', 'WAFDP', 'WABC', 'WAFD', 'VVOS', 'VTRS', 'VSTEW', 'VTGN', 'VS', 'VUZI', 'VTVT', 'VYGR', 'VYNE', 'VSA', 'VSTM', 'VTSI', 'VSAT', 'VXRT', 'VSEC', 'VSTA', 'VVPR', 'VSEEW', 'VSEE', 'VSTE']: YFRateLimitError('Too Many Requests. Rate limited. Try after a while.')\n",
      "/var/folders/bq/_yk5zsn90t11g7lt1yn4v9w40000gn/T/ipykernel_52515/3504697734.py:31: PerformanceWarning: indexing past lexsort depth may impact performance.\n",
      "  if (ticker,) in batch_data.columns:\n"
     ]
    },
    {
     "name": "stdout",
     "output_type": "stream",
     "text": [
      "\n",
      "Downloading batch 3650 to 3674...\n"
     ]
    },
    {
     "name": "stderr",
     "output_type": "stream",
     "text": [
      "[*********************100%***********************]  25 of 25 completed\n",
      "\n",
      "25 Failed downloads:\n",
      "['WAVE', 'WFF', 'WB', 'WBD', 'WDFC', 'WEN', 'WFRD', 'WALDW', 'WCT', 'WBA', 'WEYS', 'WDAY', 'WBTN', 'WDC', 'WAY', 'WAFU', 'WASH', 'WATT', 'WALD', 'WETH', 'WEST', 'WERN', 'WETO', 'WAI', 'WFCF']: YFRateLimitError('Too Many Requests. Rate limited. Try after a while.')\n",
      "/var/folders/bq/_yk5zsn90t11g7lt1yn4v9w40000gn/T/ipykernel_52515/3504697734.py:31: PerformanceWarning: indexing past lexsort depth may impact performance.\n",
      "  if (ticker,) in batch_data.columns:\n"
     ]
    },
    {
     "name": "stdout",
     "output_type": "stream",
     "text": [
      "\n",
      "Downloading batch 3675 to 3699...\n"
     ]
    },
    {
     "name": "stderr",
     "output_type": "stream",
     "text": [
      "[*********************100%***********************]  25 of 25 completed\n",
      "\n",
      "25 Failed downloads:\n",
      "['WLAC', 'WGSWW', 'WKEY', 'WHLRP', 'WINA', 'WHFCL', 'WLACW', 'WILC', 'WINT', 'WLACU', 'WLDSW', 'WHLRD', 'WGRX', 'WLDN', 'WKHS', 'WHWK', 'WGS', 'WHLR', 'WIX', 'WLFC', 'WING', 'WHF', 'WLDS', 'WIMI', 'WKSP']: YFRateLimitError('Too Many Requests. Rate limited. Try after a while.')\n",
      "/var/folders/bq/_yk5zsn90t11g7lt1yn4v9w40000gn/T/ipykernel_52515/3504697734.py:31: PerformanceWarning: indexing past lexsort depth may impact performance.\n",
      "  if (ticker,) in batch_data.columns:\n"
     ]
    },
    {
     "name": "stdout",
     "output_type": "stream",
     "text": [
      "\n",
      "Downloading batch 3700 to 3724...\n"
     ]
    },
    {
     "name": "stderr",
     "output_type": "stream",
     "text": [
      "[*********************100%***********************]  25 of 25 completed\n",
      "\n",
      "25 Failed downloads:\n",
      "['WLGS', 'WTO', 'WOK', 'WRAP', 'WTF', 'WSBF', 'WORX', 'WSC', 'WSBC', 'WNW', 'WTW', 'WNEB', 'WRLD', 'WSFS', 'WMG', 'WTFC', 'WRD', 'WULF', 'WTFCP', 'WPRT', 'WMPN', 'WTBA', 'WOOF', 'WSBCP', 'WTFCM']: YFRateLimitError('Too Many Requests. Rate limited. Try after a while.')\n",
      "/var/folders/bq/_yk5zsn90t11g7lt1yn4v9w40000gn/T/ipykernel_52515/3504697734.py:31: PerformanceWarning: indexing past lexsort depth may impact performance.\n",
      "  if (ticker,) in batch_data.columns:\n"
     ]
    },
    {
     "name": "stdout",
     "output_type": "stream",
     "text": [
      "\n",
      "Downloading batch 3725 to 3749...\n"
     ]
    },
    {
     "name": "stderr",
     "output_type": "stream",
     "text": [
      "[*********************100%***********************]  25 of 25 completed\n",
      "\n",
      "25 Failed downloads:\n",
      "['XAGE', 'WXM', 'WYNN', 'WWD', 'XMTR', 'XCH', 'XELB', 'XCUR', 'XHG', 'WVVI', 'XFOR', 'XAIR', 'XENE', 'WVVIP', 'WYHG', 'XBIT', 'XEL', 'XBIO', 'WW', 'WVE', 'XHLD', 'XERS', 'XBP', 'XLO', 'XGN']: YFRateLimitError('Too Many Requests. Rate limited. Try after a while.')\n",
      "/var/folders/bq/_yk5zsn90t11g7lt1yn4v9w40000gn/T/ipykernel_52515/3504697734.py:31: PerformanceWarning: indexing past lexsort depth may impact performance.\n",
      "  if (ticker,) in batch_data.columns:\n"
     ]
    },
    {
     "name": "stdout",
     "output_type": "stream",
     "text": [
      "\n",
      "Downloading batch 3750 to 3774...\n"
     ]
    },
    {
     "name": "stderr",
     "output_type": "stream",
     "text": [
      "[*********************100%***********************]  25 of 25 completed\n",
      "\n",
      "25 Failed downloads:\n",
      "['XRAY', 'XNET', 'XOMAP', 'XYLO', 'XPON', 'YHNA', 'XNCR', 'XRTX', 'YGMZ', 'XOS', 'XTLB', 'YAAS', 'XTIA', 'XOMAO', 'XRX', 'XTKG', 'XWEL', 'XPEL', 'YHGJ', 'XXII', 'YHNAR', 'XP', 'XOSWW', 'YHC', 'XOMA']: YFRateLimitError('Too Many Requests. Rate limited. Try after a while.')\n",
      "/var/folders/bq/_yk5zsn90t11g7lt1yn4v9w40000gn/T/ipykernel_52515/3504697734.py:31: PerformanceWarning: indexing past lexsort depth may impact performance.\n",
      "  if (ticker,) in batch_data.columns:\n"
     ]
    },
    {
     "name": "stdout",
     "output_type": "stream",
     "text": [
      "\n",
      "Downloading batch 3775 to 3799...\n"
     ]
    },
    {
     "name": "stderr",
     "output_type": "stream",
     "text": [
      "[*********************100%***********************]  25 of 25 completed\n",
      "\n",
      "25 Failed downloads:\n",
      "['YQ', 'ZBIO', 'YJ', 'YSXT', 'YYAI', 'Z', 'ZENA', 'YIBO', 'YOTAR', 'YOSH', 'ZAPPW', 'ZCARW', 'ZBAO', 'YXT', 'YORW', 'ZD', 'YYGH', 'YTRA', 'ZCMD', 'ZBRA', 'YMAB', 'YI', 'ZBAI', 'ZCAR', 'ZAPP']: YFRateLimitError('Too Many Requests. Rate limited. Try after a while.')\n",
      "/var/folders/bq/_yk5zsn90t11g7lt1yn4v9w40000gn/T/ipykernel_52515/3504697734.py:31: PerformanceWarning: indexing past lexsort depth may impact performance.\n",
      "  if (ticker,) in batch_data.columns:\n"
     ]
    },
    {
     "name": "stdout",
     "output_type": "stream",
     "text": [
      "\n",
      "Downloading batch 3800 to 3824...\n"
     ]
    },
    {
     "name": "stderr",
     "output_type": "stream",
     "text": [
      "[*********************100%***********************]  25 of 25 completed\n",
      "\n",
      "25 Failed downloads:\n",
      "['ZURA', 'ZKIN', 'ZLAB', 'ZNTL', 'ZENV', 'ZEUS', 'ZJYL', 'ZM', 'ZVRA', 'ZEO', 'ZVSA', 'ZEOWW', 'ZYBT', 'ZSPC', 'ZUMZ', 'ZTEK', 'ZOOZW', 'ZJK', 'ZS', 'ZG', 'ZION', 'ZI', 'ZIMV', 'ZOOZ', 'ZIONP']: YFRateLimitError('Too Many Requests. Rate limited. Try after a while.')\n",
      "/var/folders/bq/_yk5zsn90t11g7lt1yn4v9w40000gn/T/ipykernel_52515/3504697734.py:31: PerformanceWarning: indexing past lexsort depth may impact performance.\n",
      "  if (ticker,) in batch_data.columns:\n"
     ]
    },
    {
     "name": "stdout",
     "output_type": "stream",
     "text": [
      "\n",
      "Downloading batch 3825 to 3826...\n"
     ]
    },
    {
     "name": "stderr",
     "output_type": "stream",
     "text": [
      "[*********************100%***********************]  2 of 2 completed\n",
      "\n",
      "2 Failed downloads:\n",
      "['ZYXI', 'ZYME']: YFRateLimitError('Too Many Requests. Rate limited. Try after a while.')\n",
      "/var/folders/bq/_yk5zsn90t11g7lt1yn4v9w40000gn/T/ipykernel_52515/3504697734.py:31: PerformanceWarning: indexing past lexsort depth may impact performance.\n",
      "  if (ticker,) in batch_data.columns:\n"
     ]
    },
    {
     "name": "stdout",
     "output_type": "stream",
     "text": [
      "\n",
      "✅ All batches complete. Check the 'stock_batches' folder for CSVs.\n"
     ]
    }
   ],
   "source": [
    "import yfinance as yf\n",
    "import pandas as pd\n",
    "import time\n",
    "import os\n",
    "from datetime import datetime\n",
    "\n",
    "# === CONFIG ===\n",
    "TICKER_CSV = \"nasdaq_screener_1744230849604.csv\"  # your uploaded ticker file\n",
    "BATCH_SIZE = 25\n",
    "START_DATE = \"2000-01-01\"\n",
    "END_DATE = datetime.today().strftime(\"%Y-%m-%d\")\n",
    "OUTPUT_DIR = \"stock_batches\"\n",
    "\n",
    "# === STEP 1: Load Ticker Symbols ===\n",
    "tickers_df = pd.read_csv(TICKER_CSV)\n",
    "ticker_col = tickers_df.columns[0]  # assumes ticker is in first column\n",
    "tickers = tickers_df[ticker_col].dropna().unique().tolist()\n",
    "\n",
    "# === STEP 2: Make output directory ===\n",
    "os.makedirs(OUTPUT_DIR, exist_ok=True)\n",
    "\n",
    "# === STEP 3: Download in Batches ===\n",
    "for i in range(0, len(tickers), BATCH_SIZE):\n",
    "    batch = tickers[i:i+BATCH_SIZE]\n",
    "    print(f\"\\nDownloading batch {i} to {i+len(batch)-1}...\")\n",
    "    try:\n",
    "        batch_data = yf.download(batch, start=START_DATE, end=END_DATE, group_by='ticker', threads=True, auto_adjust=False)\n",
    "\n",
    "        # Save each ticker to its own CSV\n",
    "        for ticker in batch:\n",
    "            if (ticker,) in batch_data.columns:\n",
    "                df = batch_data[ticker].copy()\n",
    "                df.to_csv(f\"{OUTPUT_DIR}/{ticker}.csv\")\n",
    "            elif ticker in batch_data.columns.get_level_values(0):\n",
    "                df = batch_data[ticker].copy()\n",
    "                df.to_csv(f\"{OUTPUT_DIR}/{ticker}.csv\")\n",
    "            else:\n",
    "                print(f\"  [!] No data for: {ticker}\")\n",
    "\n",
    "    except Exception as e:\n",
    "        print(f\"  [ERROR] Failed to fetch batch {i}: {e}\")\n",
    "\n",
    "    time.sleep(1)  # polite pause between batches\n",
    "\n",
    "print(\"\\n✅ All batches complete. Check the 'stock_batches' folder for CSVs.\")\n"
   ]
  },
  {
   "cell_type": "code",
   "execution_count": null,
   "id": "abc839e8-895e-4bf4-adda-ad219dac856d",
   "metadata": {},
   "outputs": [],
   "source": []
  }
 ],
 "metadata": {
  "kernelspec": {
   "display_name": "Python 3 (ipykernel)",
   "language": "python",
   "name": "python3"
  },
  "language_info": {
   "codemirror_mode": {
    "name": "ipython",
    "version": 3
   },
   "file_extension": ".py",
   "mimetype": "text/x-python",
   "name": "python",
   "nbconvert_exporter": "python",
   "pygments_lexer": "ipython3",
   "version": "3.11.5"
  }
 },
 "nbformat": 4,
 "nbformat_minor": 5
}
