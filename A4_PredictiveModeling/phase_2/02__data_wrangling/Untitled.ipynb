{
 "cells": [
  {
   "cell_type": "code",
   "execution_count": 1,
   "id": "77cb5aed-c8e7-4d86-9bda-1b305437c408",
   "metadata": {},
   "outputs": [
    {
     "name": "stdout",
     "output_type": "stream",
     "text": [
      "Saved preview: pre_ingestion/preview_cleaned_mutual_fund_nav copy.csv\n",
      "Saved preview: pre_ingestion/preview_Batch_Layman_01.csv\n",
      "Saved preview: pre_ingestion/preview_layman_fred_batch.csv\n",
      "Saved preview: pre_ingestion/preview_Batch_Layman_02.csv\n",
      "Saved preview: pre_ingestion/preview_unified_stock_data.csv\n",
      "Saved preview: pre_ingestion/preview_wsbstocks.csv\n",
      "Saved preview: pre_ingestion/preview_nasdaq_screener_1744230849604.csv\n",
      "Saved preview: pre_ingestion/preview_startup data.csv\n",
      "Saved preview: pre_ingestion/preview_layman_fred_theoreticals.csv\n",
      "Saved preview: pre_ingestion/preview_Batch2_yfinance_signals.csv\n",
      "Saved preview: pre_ingestion/preview_Batch4_engineered_features.csv\n",
      "Saved preview: pre_ingestion/preview_pro_signals.csv\n",
      "Saved preview: pre_ingestion/preview_Batch1_fred_signals.csv\n",
      "Saved preview: pre_ingestion/preview_Batch_Linchpin_01.csv\n",
      "Saved preview: pre_ingestion/preview_Batch_Linchpin_02.csv\n",
      "Saved preview: pre_ingestion/preview_financial_data_cleaned2.csv\n",
      "Saved preview: pre_ingestion/preview_stock_metadata_lookup.csv\n",
      "Saved preview: pre_ingestion/preview_financial_data_btc_era.csv\n",
      "Saved preview: pre_ingestion/preview_Batch3_google_trends.csv\n"
     ]
    }
   ],
   "source": [
    "import pandas as pd\n",
    "import os\n",
    "\n",
    "# --- Config ---\n",
    "source_folder = \"full_data_sources\"     # Update this to your real folder path\n",
    "output_folder = \"pre_ingestion\"  # Folder to save trimmed preview files\n",
    "preview_rows = 50  # Number of rows to keep for each preview\n",
    "\n",
    "# --- Ensure output folder exists ---\n",
    "os.makedirs(output_folder, exist_ok=True)\n",
    "\n",
    "# --- Process all CSVs in the source folder ---\n",
    "for filename in os.listdir(source_folder):\n",
    "    if filename.endswith(\".csv\"):\n",
    "        file_path = os.path.join(source_folder, filename)\n",
    "        try:\n",
    "            df = pd.read_csv(file_path, nrows=preview_rows)\n",
    "            preview_file_path = os.path.join(output_folder, f\"preview_{filename}\")\n",
    "            df.to_csv(preview_file_path, index=False)\n",
    "            print(f\"Saved preview: {preview_file_path}\")\n",
    "        except Exception as e:\n",
    "            print(f\"❌ Error processing {filename}: {e}\")"
   ]
  },
  {
   "cell_type": "code",
   "execution_count": null,
   "id": "fdeaa383-2488-4540-9f25-195d67673154",
   "metadata": {},
   "outputs": [],
   "source": []
  }
 ],
 "metadata": {
  "kernelspec": {
   "display_name": "Python 3 (ipykernel)",
   "language": "python",
   "name": "python3"
  },
  "language_info": {
   "codemirror_mode": {
    "name": "ipython",
    "version": 3
   },
   "file_extension": ".py",
   "mimetype": "text/x-python",
   "name": "python",
   "nbconvert_exporter": "python",
   "pygments_lexer": "ipython3",
   "version": "3.11.5"
  }
 },
 "nbformat": 4,
 "nbformat_minor": 5
}
