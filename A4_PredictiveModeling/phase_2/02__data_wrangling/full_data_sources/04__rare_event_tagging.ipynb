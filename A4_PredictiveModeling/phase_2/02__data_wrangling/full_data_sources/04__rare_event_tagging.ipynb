{
 "cells": [
  {
   "cell_type": "code",
   "execution_count": 1,
   "id": "c6db3240-7c06-41bb-9d91-118d999b7ceb",
   "metadata": {
    "scrolled": true
   },
   "outputs": [
    {
     "name": "stdout",
     "output_type": "stream",
     "text": [
      "\u001b[33mWARNING: Skipping /Users/sophiaboettcher/anaconda3/lib/python3.11/site-packages/mistune-0.8.4.dist-info due to invalid metadata entry 'name'\u001b[0m\u001b[33m\n",
      "\u001b[0mRequirement already satisfied: pyarrow in /Users/sophiaboettcher/anaconda3/lib/python3.11/site-packages (11.0.0)\n",
      "Requirement already satisfied: numpy>=1.16.6 in /Users/sophiaboettcher/anaconda3/lib/python3.11/site-packages (from pyarrow) (1.23.5)\n",
      "\u001b[33mWARNING: Skipping /Users/sophiaboettcher/anaconda3/lib/python3.11/site-packages/mistune-0.8.4.dist-info due to invalid metadata entry 'name'\u001b[0m\u001b[33m\n",
      "\u001b[0mNote: you may need to restart the kernel to use updated packages.\n"
     ]
    }
   ],
   "source": [
    "pip install pyarrow"
   ]
  },
  {
   "cell_type": "code",
   "execution_count": 3,
   "id": "80fe6ccc-4a81-4608-b69e-4e0740961be3",
   "metadata": {},
   "outputs": [
    {
     "name": "stdout",
     "output_type": "stream",
     "text": [
      "        date  layman__oil_price  layman__gas_price  layman__mortgage_rate  \\\n",
      "0 1997-01-01              27.65              1.316                   8.25   \n",
      "1 1997-02-01              27.65              1.316                   8.25   \n",
      "2 1997-03-01              27.65              1.316                   8.25   \n",
      "3 1997-04-01              27.65              1.316                   8.25   \n",
      "4 1997-05-01              27.65              1.316                   8.25   \n",
      "\n",
      "   layman__housing_prices  layman__grocery_index  layman__retail_sales  \\\n",
      "0                   100.0                  166.3              268044.0   \n",
      "1                   100.0                  166.3              268044.0   \n",
      "2                   100.0                  166.3              268044.0   \n",
      "3                   100.0                  166.3              268044.0   \n",
      "4                   100.0                  166.3              268044.0   \n",
      "\n",
      "   layman__electricity_cost_index  layman__used_car_prices  \\\n",
      "0                           117.3                    153.9   \n",
      "1                           117.3                    153.9   \n",
      "2                           117.3                    153.9   \n",
      "3                           117.3                    153.9   \n",
      "4                           117.3                    153.9   \n",
      "\n",
      "   layman__minimum_wage_trend  ...  nav_153434  nav_153435  nav_153436  \\\n",
      "0                        5.15  ...         9.8     35.1732     10.0213   \n",
      "1                        5.15  ...         9.8     35.1732     10.0213   \n",
      "2                        5.15  ...         9.8     35.1732     10.0213   \n",
      "3                        5.15  ...         9.8     35.1732     10.0213   \n",
      "4                        5.15  ...         9.8     35.1732     10.0213   \n",
      "\n",
      "   nav_153438  nav_153441  nav_153442  nav_153443  nav_153444  nav_153445  \\\n",
      "0    1002.237      10.019     10.0197      10.083     10.0832     10.0819   \n",
      "1    1002.237      10.019     10.0197      10.083     10.0832     10.0819   \n",
      "2    1002.237      10.019     10.0197      10.083     10.0832     10.0819   \n",
      "3    1002.237      10.019     10.0197      10.083     10.0832     10.0819   \n",
      "4    1002.237      10.019     10.0197      10.083     10.0832     10.0819   \n",
      "\n",
      "   nav_153451  \n",
      "0   1002.7085  \n",
      "1   1002.7085  \n",
      "2   1002.7085  \n",
      "3   1002.7085  \n",
      "4   1002.7085  \n",
      "\n",
      "[5 rows x 14334 columns]\n"
     ]
    }
   ],
   "source": [
    "import os\n",
    "import pandas as pd\n",
    "\n",
    "merged = pd.read_parquet(\"final_merged_dataset.parquet\")\n",
    "print(merged.head())"
   ]
  },
  {
   "cell_type": "code",
   "execution_count": 5,
   "id": "2deda392-ca06-4228-af1c-8f9c2965c913",
   "metadata": {},
   "outputs": [
    {
     "name": "stdout",
     "output_type": "stream",
     "text": [
      "Shock tag applied using vix_index\n",
      "Final dataset saved to rare__final_merged_dataset.parquet\n"
     ]
    }
   ],
   "source": [
    "# --- Tag market stress, shock, and recession ---\n",
    "merged[\"market_stress_flag\"] = 0\n",
    "merged[\"market_shock_flag\"] = 0\n",
    "merged[\"nber_recession_flag\"] = 0\n",
    "\n",
    "# Define recession (NBER-style macro periods)\n",
    "recession_periods = [\n",
    "    (\"2000-03-01\", \"2002-10-31\"),\n",
    "    (\"2007-12-01\", \"2009-06-30\"),\n",
    "    (\"2011-08-01\", \"2011-08-31\"),\n",
    "    (\"2020-03-01\", \"2020-03-31\"),\n",
    "    (\"2022-01-01\", \"2022-06-30\"),\n",
    "    (\"2023-03-01\", \"2023-03-31\"),\n",
    "]\n",
    "\n",
    "for start, end in recession_periods:\n",
    "    mask = (merged['date'] >= start) & (merged['date'] <= end)\n",
    "    merged.loc[mask, \"market_stress_flag\"] = 1\n",
    "    merged.loc[mask, \"nber_recession_flag\"] = 1\n",
    "\n",
    "# Define market shock by VIX > 40 from best available column\n",
    "vix_columns = [col for col in merged.columns if \"vix\" in col.lower()]\n",
    "vix_column = None\n",
    "for vix in [\"vix_index\", \"linchpin__vix_index\", \"adj close_^vix\"]:\n",
    "    if vix in merged.columns:\n",
    "        vix_column = vix\n",
    "        break\n",
    "\n",
    "if vix_column:\n",
    "    merged.loc[merged[vix_column] > 40, \"market_shock_flag\"] = 1\n",
    "    print(f\"Shock tag applied using {vix_column}\")\n",
    "else:\n",
    "    print(\"No VIX column found for shock tagging.\")\n",
    "\n",
    "# Save to disk\n",
    "merged.to_parquet(\"rare__final_merged_dataset.parquet\", index=False)\n",
    "print(\"Final dataset saved to rare__final_merged_dataset.parquet\")"
   ]
  },
  {
   "cell_type": "markdown",
   "id": "d3b5a2c6-6af9-4eca-916d-a10cf42cb42d",
   "metadata": {},
   "source": [
    "#### **🗓️ Historic Economic Stress Periods (sed in tagging logic)**\n",
    "| Period                  | Labelled As              | Description                                  |\n",
    "|------------------------|--------------------------|----------------------------------------------|\n",
    "| 2000-03 to 2002-10     | market_stress_flag       | Dot-com bubble burst                        |\n",
    "| 2007-12 to 2009-06     | market_stress_flag       | Global Financial Crisis                     |\n",
    "| 2011-08                | market_stress_flag       | U.S. debt downgrade                         |\n",
    "| 2020-03                | market_stress_flag       | COVID-19 crash                              |\n",
    "| 2022-01 to 2022-06     | market_stress_flag       | Inflation shock, supply chain crisis        |\n",
    "| 2023-03                | market_stress_flag       | SVB & regional banking panic                |\n",
    "\n",
    "#### **Shock Logic:**\n",
    "If VIX > 40 from any available volatility feature (e.g. `vix_index`, `adj close_^vix`), we label that row with:\n",
    "- `market_shock_flag = 1`"
   ]
  },
  {
   "cell_type": "code",
   "execution_count": null,
   "id": "2668aedc-809a-404d-b73e-bb873b21cafc",
   "metadata": {},
   "outputs": [],
   "source": []
  }
 ],
 "metadata": {
  "kernelspec": {
   "display_name": "Python 3 (ipykernel)",
   "language": "python",
   "name": "python3"
  },
  "language_info": {
   "codemirror_mode": {
    "name": "ipython",
    "version": 3
   },
   "file_extension": ".py",
   "mimetype": "text/x-python",
   "name": "python",
   "nbconvert_exporter": "python",
   "pygments_lexer": "ipython3",
   "version": "3.11.5"
  }
 },
 "nbformat": 4,
 "nbformat_minor": 5
}
