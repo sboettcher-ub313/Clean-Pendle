{
 "cells": [
  {
   "cell_type": "code",
   "execution_count": 26,
   "id": "5c0be777-b459-4478-9f2a-93481b763e95",
   "metadata": {},
   "outputs": [],
   "source": [
    "import os\n",
    "import pandas as pd\n",
    "\n",
    "merged = pd.read_csv(\"merged_fred_stock_financial_w_nav.csv\")"
   ]
  },
  {
   "cell_type": "code",
   "execution_count": 28,
   "id": "7635b99d-c512-48be-a4d5-0e6c19d75fdc",
   "metadata": {},
   "outputs": [
    {
     "name": "stdout",
     "output_type": "stream",
     "text": [
      "Shock tag applied using vix_index\n",
      "Final dataset saved to final_merged_dataset.csv\n"
     ]
    }
   ],
   "source": [
    "# --- Tag market stress, shock, and recession ---\n",
    "merged[\"market_stress_flag\"] = 0\n",
    "merged[\"market_shock_flag\"] = 0\n",
    "merged[\"nber_recession_flag\"] = 0\n",
    "\n",
    "# Define recession (NBER-style macro periods)\n",
    "recession_periods = [\n",
    "    (\"2000-03-01\", \"2002-10-31\"),\n",
    "    (\"2007-12-01\", \"2009-06-30\"),\n",
    "    (\"2011-08-01\", \"2011-08-31\"),\n",
    "    (\"2020-03-01\", \"2020-03-31\"),\n",
    "    (\"2022-01-01\", \"2022-06-30\"),\n",
    "    (\"2023-03-01\", \"2023-03-31\"),\n",
    "]\n",
    "\n",
    "for start, end in recession_periods:\n",
    "    mask = (merged['date'] >= start) & (merged['date'] <= end)\n",
    "    merged.loc[mask, \"market_stress_flag\"] = 1\n",
    "    merged.loc[mask, \"nber_recession_flag\"] = 1\n",
    "\n",
    "# Define market shock by VIX > 40 from best available column\n",
    "vix_columns = [col for col in merged.columns if \"vix\" in col.lower()]\n",
    "vix_column = None\n",
    "for vix in [\"vix_index\", \"linchpin__vix_index\", \"adj close_^vix\"]:\n",
    "    if vix in merged.columns:\n",
    "        vix_column = vix\n",
    "        break\n",
    "\n",
    "if vix_column:\n",
    "    merged.loc[merged[vix_column] > 40, \"market_shock_flag\"] = 1\n",
    "    print(f\"Shock tag applied using {vix_column}\")\n",
    "else:\n",
    "    print(\"No VIX column found for shock tagging.\")\n",
    "\n",
    "# Save to disk\n",
    "merged.to_csv(\"final_merged_dataset.csv\", index=False)\n",
    "print(\"Final dataset saved to final_merged_dataset.csv\")"
   ]
  },
  {
   "cell_type": "code",
   "execution_count": null,
   "id": "a65425a7-1fc3-4143-8555-83df0dac8f41",
   "metadata": {},
   "outputs": [],
   "source": []
  }
 ],
 "metadata": {
  "kernelspec": {
   "display_name": "Python 3 (ipykernel)",
   "language": "python",
   "name": "python3"
  },
  "language_info": {
   "codemirror_mode": {
    "name": "ipython",
    "version": 3
   },
   "file_extension": ".py",
   "mimetype": "text/x-python",
   "name": "python",
   "nbconvert_exporter": "python",
   "pygments_lexer": "ipython3",
   "version": "3.11.5"
  }
 },
 "nbformat": 4,
 "nbformat_minor": 5
}
